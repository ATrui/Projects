{
 "cells": [
  {
   "cell_type": "markdown",
   "metadata": {},
   "source": [
    "# Exploratory Data Analyses "
   ]
  },
  {
   "cell_type": "markdown",
   "metadata": {},
   "source": [
    "#### Import Necessary Libraries"
   ]
  },
  {
   "cell_type": "code",
   "execution_count": 90,
   "metadata": {},
   "outputs": [],
   "source": [
    "import pandas as pd\n",
    "import os\n",
    "import datetime\n",
    "import matplotlib.pyplot as plt\n",
    "import seaborn as sns\n",
    "%matplotlib inline"
   ]
  },
  {
   "cell_type": "markdown",
   "metadata": {},
   "source": [
    "#### Merging 12 months of sales data into a single file"
   ]
  },
  {
   "cell_type": "code",
   "execution_count": 91,
   "metadata": {},
   "outputs": [],
   "source": [
    "files = [file for file in os.listdir('./sales_data')]\n",
    "\n",
    "all_months_data = pd.DataFrame()\n",
    "\n",
    "for file in files:\n",
    "    df = pd.read_csv('./sales_data/'+file)\n",
    "    all_months_data = pd.concat([all_months_data, df])\n",
    "\n",
    "all_months_data.to_csv('all_data.csv', index=False)"
   ]
  },
  {
   "cell_type": "markdown",
   "metadata": {},
   "source": [
    "#### Read in updated dataframe"
   ]
  },
  {
   "cell_type": "code",
   "execution_count": 92,
   "metadata": {},
   "outputs": [
    {
     "data": {
      "text/html": [
       "<div>\n",
       "<style scoped>\n",
       "    .dataframe tbody tr th:only-of-type {\n",
       "        vertical-align: middle;\n",
       "    }\n",
       "\n",
       "    .dataframe tbody tr th {\n",
       "        vertical-align: top;\n",
       "    }\n",
       "\n",
       "    .dataframe thead th {\n",
       "        text-align: right;\n",
       "    }\n",
       "</style>\n",
       "<table border=\"1\" class=\"dataframe\">\n",
       "  <thead>\n",
       "    <tr style=\"text-align: right;\">\n",
       "      <th></th>\n",
       "      <th>Order ID</th>\n",
       "      <th>Category</th>\n",
       "      <th>Gender</th>\n",
       "      <th>Product</th>\n",
       "      <th>Size</th>\n",
       "      <th>Color</th>\n",
       "      <th>Quantity Ordered</th>\n",
       "      <th>Price each</th>\n",
       "      <th>Order Date</th>\n",
       "      <th>Purchase Address</th>\n",
       "    </tr>\n",
       "  </thead>\n",
       "  <tbody>\n",
       "    <tr>\n",
       "      <th>0</th>\n",
       "      <td>40064</td>\n",
       "      <td>Shoes</td>\n",
       "      <td>M</td>\n",
       "      <td>Sneakers</td>\n",
       "      <td>41.0</td>\n",
       "      <td>brown</td>\n",
       "      <td>1</td>\n",
       "      <td>99.99</td>\n",
       "      <td>17/04/2019 15:58</td>\n",
       "      <td>Sportlaan 88, 1026PR Apeldoorn</td>\n",
       "    </tr>\n",
       "    <tr>\n",
       "      <th>1</th>\n",
       "      <td>40065</td>\n",
       "      <td>Shoes</td>\n",
       "      <td>F</td>\n",
       "      <td>Ankle Boots</td>\n",
       "      <td>39.0</td>\n",
       "      <td>black</td>\n",
       "      <td>1</td>\n",
       "      <td>119.99</td>\n",
       "      <td>09/04/2019 18:33</td>\n",
       "      <td>Lindenlaan 58, 1008UV Apeldoorn</td>\n",
       "    </tr>\n",
       "    <tr>\n",
       "      <th>2</th>\n",
       "      <td>40066</td>\n",
       "      <td>Shoes</td>\n",
       "      <td>M</td>\n",
       "      <td>Boots</td>\n",
       "      <td>39.0</td>\n",
       "      <td>green</td>\n",
       "      <td>1</td>\n",
       "      <td>119.99</td>\n",
       "      <td>03/04/2019 07:52</td>\n",
       "      <td>Hoofdstraat 58, 1037OB Nijmegen</td>\n",
       "    </tr>\n",
       "    <tr>\n",
       "      <th>3</th>\n",
       "      <td>40067</td>\n",
       "      <td>Shoes</td>\n",
       "      <td>M</td>\n",
       "      <td>Loafers</td>\n",
       "      <td>42.0</td>\n",
       "      <td>grey</td>\n",
       "      <td>1</td>\n",
       "      <td>69.99</td>\n",
       "      <td>11/04/2019 17:35</td>\n",
       "      <td>Lindenlaan 56, 1049DF Breda</td>\n",
       "    </tr>\n",
       "    <tr>\n",
       "      <th>4</th>\n",
       "      <td>40067</td>\n",
       "      <td>Shoes</td>\n",
       "      <td>M</td>\n",
       "      <td>Boots</td>\n",
       "      <td>42.0</td>\n",
       "      <td>brown</td>\n",
       "      <td>1</td>\n",
       "      <td>119.99</td>\n",
       "      <td>11/04/2019 17:35</td>\n",
       "      <td>Lindenlaan 56, 1049DF Breda</td>\n",
       "    </tr>\n",
       "  </tbody>\n",
       "</table>\n",
       "</div>"
      ],
      "text/plain": [
       "   Order ID Category Gender      Product  Size  Color  Quantity Ordered  \\\n",
       "0     40064    Shoes      M     Sneakers  41.0  brown                 1   \n",
       "1     40065    Shoes      F  Ankle Boots  39.0  black                 1   \n",
       "2     40066    Shoes      M        Boots  39.0  green                 1   \n",
       "3     40067    Shoes      M      Loafers  42.0   grey                 1   \n",
       "4     40067    Shoes      M        Boots  42.0  brown                 1   \n",
       "\n",
       "   Price each        Order Date                 Purchase Address  \n",
       "0       99.99  17/04/2019 15:58   Sportlaan 88, 1026PR Apeldoorn  \n",
       "1      119.99  09/04/2019 18:33  Lindenlaan 58, 1008UV Apeldoorn  \n",
       "2      119.99  03/04/2019 07:52  Hoofdstraat 58, 1037OB Nijmegen  \n",
       "3       69.99  11/04/2019 17:35      Lindenlaan 56, 1049DF Breda  \n",
       "4      119.99  11/04/2019 17:35      Lindenlaan 56, 1049DF Breda  "
      ]
     },
     "execution_count": 92,
     "metadata": {},
     "output_type": "execute_result"
    }
   ],
   "source": [
    "all_data = pd.read_csv('all_data.csv')\n",
    "all_data.head()"
   ]
  },
  {
   "cell_type": "markdown",
   "metadata": {},
   "source": [
    "### Visually inspect data"
   ]
  },
  {
   "cell_type": "code",
   "execution_count": 93,
   "metadata": {},
   "outputs": [
    {
     "data": {
      "text/plain": [
       "Index(['Order ID', 'Category', 'Gender', 'Product', 'Size', 'Color',\n",
       "       'Quantity Ordered', 'Price each', 'Order Date', 'Purchase Address'],\n",
       "      dtype='object')"
      ]
     },
     "execution_count": 93,
     "metadata": {},
     "output_type": "execute_result"
    }
   ],
   "source": [
    "all_data.columns"
   ]
  },
  {
   "cell_type": "code",
   "execution_count": 94,
   "metadata": {},
   "outputs": [
    {
     "data": {
      "text/plain": [
       "(18344, 10)"
      ]
     },
     "execution_count": 94,
     "metadata": {},
     "output_type": "execute_result"
    }
   ],
   "source": [
    "all_data.shape"
   ]
  },
  {
   "cell_type": "code",
   "execution_count": 95,
   "metadata": {},
   "outputs": [
    {
     "name": "stdout",
     "output_type": "stream",
     "text": [
      "<class 'pandas.core.frame.DataFrame'>\n",
      "RangeIndex: 18344 entries, 0 to 18343\n",
      "Data columns (total 10 columns):\n",
      " #   Column            Non-Null Count  Dtype  \n",
      "---  ------            --------------  -----  \n",
      " 0   Order ID          18344 non-null  int64  \n",
      " 1   Category          18344 non-null  object \n",
      " 2   Gender            17764 non-null  object \n",
      " 3   Product           18344 non-null  object \n",
      " 4   Size              12310 non-null  float64\n",
      " 5   Color             17764 non-null  object \n",
      " 6   Quantity Ordered  18344 non-null  int64  \n",
      " 7   Price each        18344 non-null  float64\n",
      " 8   Order Date        18344 non-null  object \n",
      " 9   Purchase Address  18344 non-null  object \n",
      "dtypes: float64(2), int64(2), object(6)\n",
      "memory usage: 4.8 MB\n"
     ]
    }
   ],
   "source": [
    "all_data.info(memory_usage='deep')"
   ]
  },
  {
   "cell_type": "markdown",
   "metadata": {},
   "source": [
    "### Change columns to the correct datatype and lowering memory usage"
   ]
  },
  {
   "cell_type": "markdown",
   "metadata": {},
   "source": [
    "Memory usage before changing datatypes: 4.8 MB"
   ]
  },
  {
   "cell_type": "code",
   "execution_count": 96,
   "metadata": {
    "scrolled": false
   },
   "outputs": [
    {
     "data": {
      "text/plain": [
       "Index                    64\n",
       "Order ID             146752\n",
       "Category             637759\n",
       "Gender               615576\n",
       "Product              676257\n",
       "Size                 146752\n",
       "Color                618008\n",
       "Quantity Ordered     146752\n",
       "Price each           146752\n",
       "Order Date           825480\n",
       "Purchase Address    1109959\n",
       "dtype: int64"
      ]
     },
     "execution_count": 96,
     "metadata": {},
     "output_type": "execute_result"
    }
   ],
   "source": [
    "all_data.memory_usage(deep=True)"
   ]
  },
  {
   "cell_type": "code",
   "execution_count": 97,
   "metadata": {},
   "outputs": [
    {
     "data": {
      "text/plain": [
       "array(['Shoes', 'Bags', 'Accessories'], dtype=object)"
      ]
     },
     "execution_count": 97,
     "metadata": {},
     "output_type": "execute_result"
    }
   ],
   "source": [
    "all_data['Category'].unique()"
   ]
  },
  {
   "cell_type": "code",
   "execution_count": 98,
   "metadata": {},
   "outputs": [],
   "source": [
    "all_data['Category'] = all_data['Category'].astype('category')"
   ]
  },
  {
   "cell_type": "code",
   "execution_count": 99,
   "metadata": {},
   "outputs": [
    {
     "data": {
      "text/plain": [
       "array(['M', 'F', nan], dtype=object)"
      ]
     },
     "execution_count": 99,
     "metadata": {},
     "output_type": "execute_result"
    }
   ],
   "source": [
    "all_data['Gender'].unique()"
   ]
  },
  {
   "cell_type": "code",
   "execution_count": 100,
   "metadata": {},
   "outputs": [],
   "source": [
    "all_data['Gender'] = all_data['Gender'].astype('category')"
   ]
  },
  {
   "cell_type": "code",
   "execution_count": 101,
   "metadata": {},
   "outputs": [
    {
     "data": {
      "text/plain": [
       "array(['Sneakers', 'Ankle Boots', 'Boots', 'Loafers', 'Backpack',\n",
       "       'Ballerinas', 'Boat shoes', 'Combat', 'Pumps', 'Shoulderbag',\n",
       "       'Wedges', 'Clutch', 'Socks', 'Calf Boots', 'Sandals', 'Laptopbag',\n",
       "       'Sunglasses', 'Wallet', 'Scarf', 'Belt', 'Shopper', 'Handbag',\n",
       "       'Flip Flops', 'Shoe care', 'Gloves', 'Summerhat'], dtype=object)"
      ]
     },
     "execution_count": 101,
     "metadata": {},
     "output_type": "execute_result"
    }
   ],
   "source": [
    "all_data['Product'].unique()"
   ]
  },
  {
   "cell_type": "code",
   "execution_count": 102,
   "metadata": {},
   "outputs": [],
   "source": [
    "all_data['Product'] = all_data['Product'].astype('category')"
   ]
  },
  {
   "cell_type": "code",
   "execution_count": 103,
   "metadata": {},
   "outputs": [
    {
     "data": {
      "text/plain": [
       "array(['brown', 'black', 'green', 'grey', 'beige', 'white', 'blue',\n",
       "       'multicolor', 'red', 'pink', nan, 'silver', 'gold'], dtype=object)"
      ]
     },
     "execution_count": 103,
     "metadata": {},
     "output_type": "execute_result"
    }
   ],
   "source": [
    "all_data['Color'].unique()"
   ]
  },
  {
   "cell_type": "code",
   "execution_count": 104,
   "metadata": {},
   "outputs": [],
   "source": [
    "all_data['Color'] = all_data['Color'].astype('category')"
   ]
  },
  {
   "cell_type": "code",
   "execution_count": 105,
   "metadata": {},
   "outputs": [],
   "source": [
    "all_data['Order Date'] = pd.to_datetime(all_data['Order Date'])"
   ]
  },
  {
   "cell_type": "code",
   "execution_count": 106,
   "metadata": {},
   "outputs": [
    {
     "name": "stdout",
     "output_type": "stream",
     "text": [
      "<class 'pandas.core.frame.DataFrame'>\n",
      "RangeIndex: 18344 entries, 0 to 18343\n",
      "Data columns (total 10 columns):\n",
      " #   Column            Non-Null Count  Dtype         \n",
      "---  ------            --------------  -----         \n",
      " 0   Order ID          18344 non-null  int64         \n",
      " 1   Category          18344 non-null  category      \n",
      " 2   Gender            17764 non-null  category      \n",
      " 3   Product           18344 non-null  category      \n",
      " 4   Size              12310 non-null  float64       \n",
      " 5   Color             17764 non-null  category      \n",
      " 6   Quantity Ordered  18344 non-null  int64         \n",
      " 7   Price each        18344 non-null  float64       \n",
      " 8   Order Date        18344 non-null  datetime64[ns]\n",
      " 9   Purchase Address  18344 non-null  object        \n",
      "dtypes: category(4), datetime64[ns](1), float64(2), int64(2), object(1)\n",
      "memory usage: 1.8 MB\n"
     ]
    }
   ],
   "source": [
    "all_data.info(memory_usage='deep')"
   ]
  },
  {
   "cell_type": "markdown",
   "metadata": {},
   "source": [
    "Memory usages after changing datatypes: 1.8 MB"
   ]
  },
  {
   "cell_type": "markdown",
   "metadata": {},
   "source": [
    "### Inspect missing values"
   ]
  },
  {
   "cell_type": "code",
   "execution_count": 107,
   "metadata": {},
   "outputs": [
    {
     "name": "stdout",
     "output_type": "stream",
     "text": [
      "<class 'pandas.core.frame.DataFrame'>\n",
      "RangeIndex: 18344 entries, 0 to 18343\n",
      "Data columns (total 10 columns):\n",
      " #   Column            Non-Null Count  Dtype         \n",
      "---  ------            --------------  -----         \n",
      " 0   Order ID          18344 non-null  int64         \n",
      " 1   Category          18344 non-null  category      \n",
      " 2   Gender            17764 non-null  category      \n",
      " 3   Product           18344 non-null  category      \n",
      " 4   Size              12310 non-null  float64       \n",
      " 5   Color             17764 non-null  category      \n",
      " 6   Quantity Ordered  18344 non-null  int64         \n",
      " 7   Price each        18344 non-null  float64       \n",
      " 8   Order Date        18344 non-null  datetime64[ns]\n",
      " 9   Purchase Address  18344 non-null  object        \n",
      "dtypes: category(4), datetime64[ns](1), float64(2), int64(2), object(1)\n",
      "memory usage: 861.1+ KB\n"
     ]
    }
   ],
   "source": [
    "all_data.info()"
   ]
  },
  {
   "cell_type": "markdown",
   "metadata": {},
   "source": [
    "There are missing values in the columns: 'Gender', 'Size' and 'Color'."
   ]
  },
  {
   "cell_type": "markdown",
   "metadata": {},
   "source": [
    "#### 'Gender' column"
   ]
  },
  {
   "cell_type": "code",
   "execution_count": 108,
   "metadata": {},
   "outputs": [
    {
     "data": {
      "text/plain": [
       "F      1067\n",
       "M       613\n",
       "NaN      71\n",
       "Name: Gender, dtype: int64"
      ]
     },
     "execution_count": 108,
     "metadata": {},
     "output_type": "execute_result"
    }
   ],
   "source": [
    "df['Gender'].value_counts(dropna=False)"
   ]
  },
  {
   "cell_type": "markdown",
   "metadata": {},
   "source": [
    "The 'Gender' column has 71 missing values."
   ]
  },
  {
   "cell_type": "code",
   "execution_count": 117,
   "metadata": {},
   "outputs": [
    {
     "data": {
      "text/html": [
       "<div>\n",
       "<style scoped>\n",
       "    .dataframe tbody tr th:only-of-type {\n",
       "        vertical-align: middle;\n",
       "    }\n",
       "\n",
       "    .dataframe tbody tr th {\n",
       "        vertical-align: top;\n",
       "    }\n",
       "\n",
       "    .dataframe thead th {\n",
       "        text-align: right;\n",
       "    }\n",
       "</style>\n",
       "<table border=\"1\" class=\"dataframe\">\n",
       "  <thead>\n",
       "    <tr style=\"text-align: right;\">\n",
       "      <th></th>\n",
       "      <th>Order ID</th>\n",
       "      <th>Category</th>\n",
       "      <th>Gender</th>\n",
       "      <th>Product</th>\n",
       "      <th>Size</th>\n",
       "      <th>Color</th>\n",
       "      <th>Quantity Ordered</th>\n",
       "      <th>Price each</th>\n",
       "      <th>Order Date</th>\n",
       "      <th>Purchase Address</th>\n",
       "    </tr>\n",
       "  </thead>\n",
       "  <tbody>\n",
       "    <tr>\n",
       "      <th>59</th>\n",
       "      <td>46742</td>\n",
       "      <td>Accessories</td>\n",
       "      <td>NaN</td>\n",
       "      <td>Shoe care</td>\n",
       "      <td>NaN</td>\n",
       "      <td>NaN</td>\n",
       "      <td>1</td>\n",
       "      <td>8.99</td>\n",
       "      <td>01/09/2019 12:41</td>\n",
       "      <td>Rijksweg 37, 1047ZF Zwolle</td>\n",
       "    </tr>\n",
       "    <tr>\n",
       "      <th>105</th>\n",
       "      <td>46774</td>\n",
       "      <td>Accessories</td>\n",
       "      <td>NaN</td>\n",
       "      <td>Shoe care</td>\n",
       "      <td>NaN</td>\n",
       "      <td>NaN</td>\n",
       "      <td>1</td>\n",
       "      <td>8.99</td>\n",
       "      <td>28/09/2019 22:13</td>\n",
       "      <td>Raadhuisstraat 33, 1088HY Amsterdam</td>\n",
       "    </tr>\n",
       "    <tr>\n",
       "      <th>129</th>\n",
       "      <td>46794</td>\n",
       "      <td>Accessories</td>\n",
       "      <td>NaN</td>\n",
       "      <td>Shoe care</td>\n",
       "      <td>NaN</td>\n",
       "      <td>NaN</td>\n",
       "      <td>1</td>\n",
       "      <td>8.99</td>\n",
       "      <td>30/09/2019 18:21</td>\n",
       "      <td>Nieuweweg 25, 1043PU Leeuwarden</td>\n",
       "    </tr>\n",
       "    <tr>\n",
       "      <th>149</th>\n",
       "      <td>46810</td>\n",
       "      <td>Accessories</td>\n",
       "      <td>NaN</td>\n",
       "      <td>Shoe care</td>\n",
       "      <td>NaN</td>\n",
       "      <td>NaN</td>\n",
       "      <td>2</td>\n",
       "      <td>8.99</td>\n",
       "      <td>28/09/2019 22:23</td>\n",
       "      <td>Tuinstraat 94, 1030CF Almere</td>\n",
       "    </tr>\n",
       "    <tr>\n",
       "      <th>158</th>\n",
       "      <td>46817</td>\n",
       "      <td>Accessories</td>\n",
       "      <td>NaN</td>\n",
       "      <td>Shoe care</td>\n",
       "      <td>NaN</td>\n",
       "      <td>NaN</td>\n",
       "      <td>1</td>\n",
       "      <td>8.99</td>\n",
       "      <td>06/09/2019 19:08</td>\n",
       "      <td>Margrietstraat 40, 1024ER Amsterdam</td>\n",
       "    </tr>\n",
       "    <tr>\n",
       "      <th>...</th>\n",
       "      <td>...</td>\n",
       "      <td>...</td>\n",
       "      <td>...</td>\n",
       "      <td>...</td>\n",
       "      <td>...</td>\n",
       "      <td>...</td>\n",
       "      <td>...</td>\n",
       "      <td>...</td>\n",
       "      <td>...</td>\n",
       "      <td>...</td>\n",
       "    </tr>\n",
       "    <tr>\n",
       "      <th>1479</th>\n",
       "      <td>47802</td>\n",
       "      <td>Accessories</td>\n",
       "      <td>NaN</td>\n",
       "      <td>Shoe care</td>\n",
       "      <td>NaN</td>\n",
       "      <td>NaN</td>\n",
       "      <td>1</td>\n",
       "      <td>8.99</td>\n",
       "      <td>28/09/2019 14:04</td>\n",
       "      <td>Beatrixstraat 74, 1072VD Alphen aan den Rijn</td>\n",
       "    </tr>\n",
       "    <tr>\n",
       "      <th>1525</th>\n",
       "      <td>47836</td>\n",
       "      <td>Accessories</td>\n",
       "      <td>NaN</td>\n",
       "      <td>Shoe care</td>\n",
       "      <td>NaN</td>\n",
       "      <td>NaN</td>\n",
       "      <td>1</td>\n",
       "      <td>8.99</td>\n",
       "      <td>25/09/2019 14:28</td>\n",
       "      <td>Lindenlaan 96, 1041YE Leiden</td>\n",
       "    </tr>\n",
       "    <tr>\n",
       "      <th>1530</th>\n",
       "      <td>47840</td>\n",
       "      <td>Accessories</td>\n",
       "      <td>NaN</td>\n",
       "      <td>Shoe care</td>\n",
       "      <td>NaN</td>\n",
       "      <td>NaN</td>\n",
       "      <td>1</td>\n",
       "      <td>8.99</td>\n",
       "      <td>27/09/2019 11:18</td>\n",
       "      <td>Kastanjelaan 89, 1057MV Rotterdam</td>\n",
       "    </tr>\n",
       "    <tr>\n",
       "      <th>1596</th>\n",
       "      <td>47890</td>\n",
       "      <td>Accessories</td>\n",
       "      <td>NaN</td>\n",
       "      <td>Shoe care</td>\n",
       "      <td>NaN</td>\n",
       "      <td>NaN</td>\n",
       "      <td>1</td>\n",
       "      <td>8.99</td>\n",
       "      <td>26/09/2019 15:48</td>\n",
       "      <td>Parklaan 14, 1093BQ Utrecht</td>\n",
       "    </tr>\n",
       "    <tr>\n",
       "      <th>1624</th>\n",
       "      <td>47909</td>\n",
       "      <td>Accessories</td>\n",
       "      <td>NaN</td>\n",
       "      <td>Shoe care</td>\n",
       "      <td>NaN</td>\n",
       "      <td>NaN</td>\n",
       "      <td>1</td>\n",
       "      <td>8.99</td>\n",
       "      <td>26/09/2019 19:42</td>\n",
       "      <td>Emmastraat 7, 1096TH Amersfoort</td>\n",
       "    </tr>\n",
       "  </tbody>\n",
       "</table>\n",
       "<p>71 rows × 10 columns</p>\n",
       "</div>"
      ],
      "text/plain": [
       "      Order ID     Category Gender    Product  Size Color  Quantity Ordered  \\\n",
       "59       46742  Accessories    NaN  Shoe care   NaN   NaN                 1   \n",
       "105      46774  Accessories    NaN  Shoe care   NaN   NaN                 1   \n",
       "129      46794  Accessories    NaN  Shoe care   NaN   NaN                 1   \n",
       "149      46810  Accessories    NaN  Shoe care   NaN   NaN                 2   \n",
       "158      46817  Accessories    NaN  Shoe care   NaN   NaN                 1   \n",
       "...        ...          ...    ...        ...   ...   ...               ...   \n",
       "1479     47802  Accessories    NaN  Shoe care   NaN   NaN                 1   \n",
       "1525     47836  Accessories    NaN  Shoe care   NaN   NaN                 1   \n",
       "1530     47840  Accessories    NaN  Shoe care   NaN   NaN                 1   \n",
       "1596     47890  Accessories    NaN  Shoe care   NaN   NaN                 1   \n",
       "1624     47909  Accessories    NaN  Shoe care   NaN   NaN                 1   \n",
       "\n",
       "      Price each        Order Date  \\\n",
       "59          8.99  01/09/2019 12:41   \n",
       "105         8.99  28/09/2019 22:13   \n",
       "129         8.99  30/09/2019 18:21   \n",
       "149         8.99  28/09/2019 22:23   \n",
       "158         8.99  06/09/2019 19:08   \n",
       "...          ...               ...   \n",
       "1479        8.99  28/09/2019 14:04   \n",
       "1525        8.99  25/09/2019 14:28   \n",
       "1530        8.99  27/09/2019 11:18   \n",
       "1596        8.99  26/09/2019 15:48   \n",
       "1624        8.99  26/09/2019 19:42   \n",
       "\n",
       "                                  Purchase Address  \n",
       "59                      Rijksweg 37, 1047ZF Zwolle  \n",
       "105            Raadhuisstraat 33, 1088HY Amsterdam  \n",
       "129                Nieuweweg 25, 1043PU Leeuwarden  \n",
       "149                   Tuinstraat 94, 1030CF Almere  \n",
       "158            Margrietstraat 40, 1024ER Amsterdam  \n",
       "...                                            ...  \n",
       "1479  Beatrixstraat 74, 1072VD Alphen aan den Rijn  \n",
       "1525                  Lindenlaan 96, 1041YE Leiden  \n",
       "1530             Kastanjelaan 89, 1057MV Rotterdam  \n",
       "1596                   Parklaan 14, 1093BQ Utrecht  \n",
       "1624               Emmastraat 7, 1096TH Amersfoort  \n",
       "\n",
       "[71 rows x 10 columns]"
      ]
     },
     "execution_count": 117,
     "metadata": {},
     "output_type": "execute_result"
    }
   ],
   "source": [
    "df[df['Gender'].isna()]"
   ]
  },
  {
   "cell_type": "markdown",
   "metadata": {},
   "source": [
    "At first sight it looks like there are only missing values for 'Gender' in the category 'Accessory'."
   ]
  },
  {
   "cell_type": "code",
   "execution_count": 118,
   "metadata": {},
   "outputs": [
    {
     "data": {
      "text/plain": [
       "Category     Product      Gender\n",
       "Accessories  Belt         F          21\n",
       "                          M          14\n",
       "             Scarf        F          22\n",
       "                          M          20\n",
       "             Shoe care    NaN        71\n",
       "             Socks        F          43\n",
       "                          M          24\n",
       "             Sunglasses   M          18\n",
       "                          F          15\n",
       "             Wallet       F          11\n",
       "                          M          10\n",
       "Bags         Backpack     F          41\n",
       "                          M          36\n",
       "             Clutch       F          32\n",
       "             Handbag      F          31\n",
       "             Laptopbag    M          42\n",
       "                          F          21\n",
       "             Shopper      F          38\n",
       "             Shoulderbag  M          38\n",
       "                          F          22\n",
       "Shoes        Ankle Boots  F          67\n",
       "             Ballerinas   F         140\n",
       "             Boat shoes   M          30\n",
       "             Boots        M          75\n",
       "             Calf Boots   F          33\n",
       "             Combat       M          97\n",
       "             Flip Flops   F          25\n",
       "                          M          23\n",
       "             Loafers      M          50\n",
       "             Pumps        F         161\n",
       "             Sandals      F          26\n",
       "                          M          20\n",
       "             Sneakers     F         215\n",
       "                          M         116\n",
       "             Wedges       F         103\n",
       "Name: Gender, dtype: int64"
      ]
     },
     "execution_count": 118,
     "metadata": {},
     "output_type": "execute_result"
    }
   ],
   "source": [
    "df.groupby(['Category', 'Product'])['Gender'].value_counts(dropna=False)"
   ]
  },
  {
   "cell_type": "markdown",
   "metadata": {},
   "source": [
    "Further inspection shows that all the missing values for 'Gender' are with the product 'Shoe care'. We can conclude that the product 'Shoe care' doesn't have a specific gender."
   ]
  },
  {
   "cell_type": "code",
   "execution_count": 119,
   "metadata": {},
   "outputs": [
    {
     "data": {
      "text/plain": [
       "NaN     570\n",
       "39.0    236\n",
       "38.0    206\n",
       "40.0    193\n",
       "37.0    153\n",
       "41.0    142\n",
       "36.0    108\n",
       "42.0     92\n",
       "35.0     46\n",
       "43.0      4\n",
       "34.0      1\n",
       "Name: Size, dtype: int64"
      ]
     },
     "execution_count": 119,
     "metadata": {},
     "output_type": "execute_result"
    }
   ],
   "source": [
    "df['Size'].value_counts(dropna=False)"
   ]
  },
  {
   "cell_type": "markdown",
   "metadata": {},
   "source": [
    "The 'Size' column has 570 missing values."
   ]
  },
  {
   "cell_type": "code",
   "execution_count": 120,
   "metadata": {},
   "outputs": [
    {
     "data": {
      "text/plain": [
       "Category     Size\n",
       "Accessories  NaN     269\n",
       "Bags         NaN     301\n",
       "Shoes        39.0    236\n",
       "             38.0    206\n",
       "             40.0    193\n",
       "             37.0    153\n",
       "             41.0    142\n",
       "             36.0    108\n",
       "             42.0     92\n",
       "             35.0     46\n",
       "             43.0      4\n",
       "             34.0      1\n",
       "Name: Size, dtype: int64"
      ]
     },
     "execution_count": 120,
     "metadata": {},
     "output_type": "execute_result"
    }
   ],
   "source": [
    "df.groupby('Category')['Size'].value_counts(dropna=False)"
   ]
  },
  {
   "cell_type": "markdown",
   "metadata": {},
   "source": [
    "Only the category 'Shoes' has assigned sizes. The categories 'Accessories' and 'Bags' have missing values for 'Size'."
   ]
  },
  {
   "cell_type": "code",
   "execution_count": 121,
   "metadata": {},
   "outputs": [
    {
     "data": {
      "text/plain": [
       "black         358\n",
       "brown         347\n",
       "grey          345\n",
       "beige         271\n",
       "multicolor    122\n",
       "white          94\n",
       "NaN            71\n",
       "pink           30\n",
       "red            29\n",
       "blue           29\n",
       "green          27\n",
       "gold           15\n",
       "silver         13\n",
       "Name: Color, dtype: int64"
      ]
     },
     "execution_count": 121,
     "metadata": {},
     "output_type": "execute_result"
    }
   ],
   "source": [
    "df['Color'].value_counts(dropna=False)"
   ]
  },
  {
   "cell_type": "markdown",
   "metadata": {},
   "source": [
    "The 'Color' column has 71 missing values."
   ]
  },
  {
   "cell_type": "code",
   "execution_count": 122,
   "metadata": {},
   "outputs": [
    {
     "data": {
      "text/plain": [
       "Category     Product    Color\n",
       "Accessories  Shoe care  NaN      71\n",
       "Name: Color, dtype: int64"
      ]
     },
     "execution_count": 122,
     "metadata": {},
     "output_type": "execute_result"
    }
   ],
   "source": [
    "nan_color = df[df['Color'].isna()]\n",
    "nan_color.groupby(['Category', 'Product'])['Color'].value_counts(dropna=False)"
   ]
  },
  {
   "cell_type": "markdown",
   "metadata": {},
   "source": [
    "Only the product 'Shoe care' has missing values for 'Color'."
   ]
  },
  {
   "cell_type": "markdown",
   "metadata": {},
   "source": [
    "### Augment data with aditional columns"
   ]
  },
  {
   "cell_type": "markdown",
   "metadata": {},
   "source": [
    "#### Make the column 'Order Date' the index"
   ]
  },
  {
   "cell_type": "code",
   "execution_count": 123,
   "metadata": {},
   "outputs": [
    {
     "ename": "KeyError",
     "evalue": "\"None of ['Order Date'] are in the columns\"",
     "output_type": "error",
     "traceback": [
      "\u001b[1;31m---------------------------------------------------------------------------\u001b[0m",
      "\u001b[1;31mKeyError\u001b[0m                                  Traceback (most recent call last)",
      "\u001b[1;32m<ipython-input-123-e1b51b860241>\u001b[0m in \u001b[0;36m<module>\u001b[1;34m\u001b[0m\n\u001b[1;32m----> 1\u001b[1;33m \u001b[0mall_data\u001b[0m\u001b[1;33m.\u001b[0m\u001b[0mset_index\u001b[0m\u001b[1;33m(\u001b[0m\u001b[1;34m'Order Date'\u001b[0m\u001b[1;33m,\u001b[0m \u001b[0minplace\u001b[0m\u001b[1;33m=\u001b[0m\u001b[1;32mTrue\u001b[0m\u001b[1;33m)\u001b[0m\u001b[1;33m\u001b[0m\u001b[1;33m\u001b[0m\u001b[0m\n\u001b[0m",
      "\u001b[1;32mc:\\users\\timon\\appdata\\local\\programs\\python\\python38-32\\lib\\site-packages\\pandas\\core\\frame.py\u001b[0m in \u001b[0;36mset_index\u001b[1;34m(self, keys, drop, append, inplace, verify_integrity)\u001b[0m\n\u001b[0;32m   4301\u001b[0m \u001b[1;33m\u001b[0m\u001b[0m\n\u001b[0;32m   4302\u001b[0m         \u001b[1;32mif\u001b[0m \u001b[0mmissing\u001b[0m\u001b[1;33m:\u001b[0m\u001b[1;33m\u001b[0m\u001b[1;33m\u001b[0m\u001b[0m\n\u001b[1;32m-> 4303\u001b[1;33m             \u001b[1;32mraise\u001b[0m \u001b[0mKeyError\u001b[0m\u001b[1;33m(\u001b[0m\u001b[1;34mf\"None of {missing} are in the columns\"\u001b[0m\u001b[1;33m)\u001b[0m\u001b[1;33m\u001b[0m\u001b[1;33m\u001b[0m\u001b[0m\n\u001b[0m\u001b[0;32m   4304\u001b[0m \u001b[1;33m\u001b[0m\u001b[0m\n\u001b[0;32m   4305\u001b[0m         \u001b[1;32mif\u001b[0m \u001b[0minplace\u001b[0m\u001b[1;33m:\u001b[0m\u001b[1;33m\u001b[0m\u001b[1;33m\u001b[0m\u001b[0m\n",
      "\u001b[1;31mKeyError\u001b[0m: \"None of ['Order Date'] are in the columns\""
     ]
    }
   ],
   "source": [
    "all_data.set_index('Order Date', inplace=True)"
   ]
  },
  {
   "cell_type": "markdown",
   "metadata": {},
   "source": [
    "#### Create a 'Total price' column"
   ]
  },
  {
   "cell_type": "code",
   "execution_count": 124,
   "metadata": {
    "scrolled": true
   },
   "outputs": [
    {
     "data": {
      "text/html": [
       "<div>\n",
       "<style scoped>\n",
       "    .dataframe tbody tr th:only-of-type {\n",
       "        vertical-align: middle;\n",
       "    }\n",
       "\n",
       "    .dataframe tbody tr th {\n",
       "        vertical-align: top;\n",
       "    }\n",
       "\n",
       "    .dataframe thead th {\n",
       "        text-align: right;\n",
       "    }\n",
       "</style>\n",
       "<table border=\"1\" class=\"dataframe\">\n",
       "  <thead>\n",
       "    <tr style=\"text-align: right;\">\n",
       "      <th></th>\n",
       "      <th>Order ID</th>\n",
       "      <th>Category</th>\n",
       "      <th>Gender</th>\n",
       "      <th>Product</th>\n",
       "      <th>Size</th>\n",
       "      <th>Color</th>\n",
       "      <th>Quantity Ordered</th>\n",
       "      <th>Price each</th>\n",
       "      <th>Purchase Address</th>\n",
       "      <th>Total price</th>\n",
       "    </tr>\n",
       "    <tr>\n",
       "      <th>Order Date</th>\n",
       "      <th></th>\n",
       "      <th></th>\n",
       "      <th></th>\n",
       "      <th></th>\n",
       "      <th></th>\n",
       "      <th></th>\n",
       "      <th></th>\n",
       "      <th></th>\n",
       "      <th></th>\n",
       "      <th></th>\n",
       "    </tr>\n",
       "  </thead>\n",
       "  <tbody>\n",
       "    <tr>\n",
       "      <th>2019-04-17 15:58:00</th>\n",
       "      <td>40064</td>\n",
       "      <td>Shoes</td>\n",
       "      <td>M</td>\n",
       "      <td>Sneakers</td>\n",
       "      <td>41.0</td>\n",
       "      <td>brown</td>\n",
       "      <td>1</td>\n",
       "      <td>99.99</td>\n",
       "      <td>Sportlaan 88, 1026PR Apeldoorn</td>\n",
       "      <td>99.99</td>\n",
       "    </tr>\n",
       "    <tr>\n",
       "      <th>2019-09-04 18:33:00</th>\n",
       "      <td>40065</td>\n",
       "      <td>Shoes</td>\n",
       "      <td>F</td>\n",
       "      <td>Ankle Boots</td>\n",
       "      <td>39.0</td>\n",
       "      <td>black</td>\n",
       "      <td>1</td>\n",
       "      <td>119.99</td>\n",
       "      <td>Lindenlaan 58, 1008UV Apeldoorn</td>\n",
       "      <td>119.99</td>\n",
       "    </tr>\n",
       "    <tr>\n",
       "      <th>2019-03-04 07:52:00</th>\n",
       "      <td>40066</td>\n",
       "      <td>Shoes</td>\n",
       "      <td>M</td>\n",
       "      <td>Boots</td>\n",
       "      <td>39.0</td>\n",
       "      <td>green</td>\n",
       "      <td>1</td>\n",
       "      <td>119.99</td>\n",
       "      <td>Hoofdstraat 58, 1037OB Nijmegen</td>\n",
       "      <td>119.99</td>\n",
       "    </tr>\n",
       "    <tr>\n",
       "      <th>2019-11-04 17:35:00</th>\n",
       "      <td>40067</td>\n",
       "      <td>Shoes</td>\n",
       "      <td>M</td>\n",
       "      <td>Loafers</td>\n",
       "      <td>42.0</td>\n",
       "      <td>grey</td>\n",
       "      <td>1</td>\n",
       "      <td>69.99</td>\n",
       "      <td>Lindenlaan 56, 1049DF Breda</td>\n",
       "      <td>69.99</td>\n",
       "    </tr>\n",
       "    <tr>\n",
       "      <th>2019-11-04 17:35:00</th>\n",
       "      <td>40067</td>\n",
       "      <td>Shoes</td>\n",
       "      <td>M</td>\n",
       "      <td>Boots</td>\n",
       "      <td>42.0</td>\n",
       "      <td>brown</td>\n",
       "      <td>1</td>\n",
       "      <td>119.99</td>\n",
       "      <td>Lindenlaan 56, 1049DF Breda</td>\n",
       "      <td>119.99</td>\n",
       "    </tr>\n",
       "  </tbody>\n",
       "</table>\n",
       "</div>"
      ],
      "text/plain": [
       "                     Order ID Category Gender      Product  Size  Color  \\\n",
       "Order Date                                                                \n",
       "2019-04-17 15:58:00     40064    Shoes      M     Sneakers  41.0  brown   \n",
       "2019-09-04 18:33:00     40065    Shoes      F  Ankle Boots  39.0  black   \n",
       "2019-03-04 07:52:00     40066    Shoes      M        Boots  39.0  green   \n",
       "2019-11-04 17:35:00     40067    Shoes      M      Loafers  42.0   grey   \n",
       "2019-11-04 17:35:00     40067    Shoes      M        Boots  42.0  brown   \n",
       "\n",
       "                     Quantity Ordered  Price each  \\\n",
       "Order Date                                          \n",
       "2019-04-17 15:58:00                 1       99.99   \n",
       "2019-09-04 18:33:00                 1      119.99   \n",
       "2019-03-04 07:52:00                 1      119.99   \n",
       "2019-11-04 17:35:00                 1       69.99   \n",
       "2019-11-04 17:35:00                 1      119.99   \n",
       "\n",
       "                                    Purchase Address  Total price  \n",
       "Order Date                                                         \n",
       "2019-04-17 15:58:00   Sportlaan 88, 1026PR Apeldoorn        99.99  \n",
       "2019-09-04 18:33:00  Lindenlaan 58, 1008UV Apeldoorn       119.99  \n",
       "2019-03-04 07:52:00  Hoofdstraat 58, 1037OB Nijmegen       119.99  \n",
       "2019-11-04 17:35:00      Lindenlaan 56, 1049DF Breda        69.99  \n",
       "2019-11-04 17:35:00      Lindenlaan 56, 1049DF Breda       119.99  "
      ]
     },
     "execution_count": 124,
     "metadata": {},
     "output_type": "execute_result"
    }
   ],
   "source": [
    "all_data['Total price'] = all_data['Quantity Ordered'] * all_data['Price each']\n",
    "all_data.head()"
   ]
  },
  {
   "cell_type": "markdown",
   "metadata": {},
   "source": [
    "#### Create a 'City' column"
   ]
  },
  {
   "cell_type": "code",
   "execution_count": 125,
   "metadata": {},
   "outputs": [],
   "source": [
    "def get_city(address):\n",
    "    address = address.split(',')[1]\n",
    "    address = address.split()[1:]\n",
    "    return ' '.join(map(str, address))"
   ]
  },
  {
   "cell_type": "code",
   "execution_count": 126,
   "metadata": {},
   "outputs": [
    {
     "data": {
      "text/html": [
       "<div>\n",
       "<style scoped>\n",
       "    .dataframe tbody tr th:only-of-type {\n",
       "        vertical-align: middle;\n",
       "    }\n",
       "\n",
       "    .dataframe tbody tr th {\n",
       "        vertical-align: top;\n",
       "    }\n",
       "\n",
       "    .dataframe thead th {\n",
       "        text-align: right;\n",
       "    }\n",
       "</style>\n",
       "<table border=\"1\" class=\"dataframe\">\n",
       "  <thead>\n",
       "    <tr style=\"text-align: right;\">\n",
       "      <th></th>\n",
       "      <th>Order ID</th>\n",
       "      <th>Category</th>\n",
       "      <th>Gender</th>\n",
       "      <th>Product</th>\n",
       "      <th>Size</th>\n",
       "      <th>Color</th>\n",
       "      <th>Quantity Ordered</th>\n",
       "      <th>Price each</th>\n",
       "      <th>Purchase Address</th>\n",
       "      <th>Total price</th>\n",
       "      <th>City</th>\n",
       "    </tr>\n",
       "    <tr>\n",
       "      <th>Order Date</th>\n",
       "      <th></th>\n",
       "      <th></th>\n",
       "      <th></th>\n",
       "      <th></th>\n",
       "      <th></th>\n",
       "      <th></th>\n",
       "      <th></th>\n",
       "      <th></th>\n",
       "      <th></th>\n",
       "      <th></th>\n",
       "      <th></th>\n",
       "    </tr>\n",
       "  </thead>\n",
       "  <tbody>\n",
       "    <tr>\n",
       "      <th>2019-04-17 15:58:00</th>\n",
       "      <td>40064</td>\n",
       "      <td>Shoes</td>\n",
       "      <td>M</td>\n",
       "      <td>Sneakers</td>\n",
       "      <td>41.0</td>\n",
       "      <td>brown</td>\n",
       "      <td>1</td>\n",
       "      <td>99.99</td>\n",
       "      <td>Sportlaan 88, 1026PR Apeldoorn</td>\n",
       "      <td>99.99</td>\n",
       "      <td>Apeldoorn</td>\n",
       "    </tr>\n",
       "    <tr>\n",
       "      <th>2019-09-04 18:33:00</th>\n",
       "      <td>40065</td>\n",
       "      <td>Shoes</td>\n",
       "      <td>F</td>\n",
       "      <td>Ankle Boots</td>\n",
       "      <td>39.0</td>\n",
       "      <td>black</td>\n",
       "      <td>1</td>\n",
       "      <td>119.99</td>\n",
       "      <td>Lindenlaan 58, 1008UV Apeldoorn</td>\n",
       "      <td>119.99</td>\n",
       "      <td>Apeldoorn</td>\n",
       "    </tr>\n",
       "    <tr>\n",
       "      <th>2019-03-04 07:52:00</th>\n",
       "      <td>40066</td>\n",
       "      <td>Shoes</td>\n",
       "      <td>M</td>\n",
       "      <td>Boots</td>\n",
       "      <td>39.0</td>\n",
       "      <td>green</td>\n",
       "      <td>1</td>\n",
       "      <td>119.99</td>\n",
       "      <td>Hoofdstraat 58, 1037OB Nijmegen</td>\n",
       "      <td>119.99</td>\n",
       "      <td>Nijmegen</td>\n",
       "    </tr>\n",
       "    <tr>\n",
       "      <th>2019-11-04 17:35:00</th>\n",
       "      <td>40067</td>\n",
       "      <td>Shoes</td>\n",
       "      <td>M</td>\n",
       "      <td>Loafers</td>\n",
       "      <td>42.0</td>\n",
       "      <td>grey</td>\n",
       "      <td>1</td>\n",
       "      <td>69.99</td>\n",
       "      <td>Lindenlaan 56, 1049DF Breda</td>\n",
       "      <td>69.99</td>\n",
       "      <td>Breda</td>\n",
       "    </tr>\n",
       "    <tr>\n",
       "      <th>2019-11-04 17:35:00</th>\n",
       "      <td>40067</td>\n",
       "      <td>Shoes</td>\n",
       "      <td>M</td>\n",
       "      <td>Boots</td>\n",
       "      <td>42.0</td>\n",
       "      <td>brown</td>\n",
       "      <td>1</td>\n",
       "      <td>119.99</td>\n",
       "      <td>Lindenlaan 56, 1049DF Breda</td>\n",
       "      <td>119.99</td>\n",
       "      <td>Breda</td>\n",
       "    </tr>\n",
       "  </tbody>\n",
       "</table>\n",
       "</div>"
      ],
      "text/plain": [
       "                     Order ID Category Gender      Product  Size  Color  \\\n",
       "Order Date                                                                \n",
       "2019-04-17 15:58:00     40064    Shoes      M     Sneakers  41.0  brown   \n",
       "2019-09-04 18:33:00     40065    Shoes      F  Ankle Boots  39.0  black   \n",
       "2019-03-04 07:52:00     40066    Shoes      M        Boots  39.0  green   \n",
       "2019-11-04 17:35:00     40067    Shoes      M      Loafers  42.0   grey   \n",
       "2019-11-04 17:35:00     40067    Shoes      M        Boots  42.0  brown   \n",
       "\n",
       "                     Quantity Ordered  Price each  \\\n",
       "Order Date                                          \n",
       "2019-04-17 15:58:00                 1       99.99   \n",
       "2019-09-04 18:33:00                 1      119.99   \n",
       "2019-03-04 07:52:00                 1      119.99   \n",
       "2019-11-04 17:35:00                 1       69.99   \n",
       "2019-11-04 17:35:00                 1      119.99   \n",
       "\n",
       "                                    Purchase Address  Total price       City  \n",
       "Order Date                                                                    \n",
       "2019-04-17 15:58:00   Sportlaan 88, 1026PR Apeldoorn        99.99  Apeldoorn  \n",
       "2019-09-04 18:33:00  Lindenlaan 58, 1008UV Apeldoorn       119.99  Apeldoorn  \n",
       "2019-03-04 07:52:00  Hoofdstraat 58, 1037OB Nijmegen       119.99   Nijmegen  \n",
       "2019-11-04 17:35:00      Lindenlaan 56, 1049DF Breda        69.99      Breda  \n",
       "2019-11-04 17:35:00      Lindenlaan 56, 1049DF Breda       119.99      Breda  "
      ]
     },
     "execution_count": 126,
     "metadata": {},
     "output_type": "execute_result"
    }
   ],
   "source": [
    "all_data['City'] = all_data['Purchase Address'].apply(lambda x: get_city(x))\n",
    "all_data.head()"
   ]
  },
  {
   "cell_type": "markdown",
   "metadata": {},
   "source": [
    "#### How much money was earned in 2019?"
   ]
  },
  {
   "cell_type": "code",
   "execution_count": 127,
   "metadata": {},
   "outputs": [
    {
     "data": {
      "text/plain": [
       "1386651.14"
      ]
     },
     "execution_count": 127,
     "metadata": {},
     "output_type": "execute_result"
    }
   ],
   "source": [
    "total_2019 = all_data['Total price'].sum().round(2)\n",
    "total_2019"
   ]
  },
  {
   "cell_type": "markdown",
   "metadata": {},
   "source": [
    "#### What was the best month for sales? How much was earned that month?"
   ]
  },
  {
   "cell_type": "code",
   "execution_count": 128,
   "metadata": {},
   "outputs": [],
   "source": [
    "month_data = all_data.groupby(all_data.index.month)['Total price'].sum()"
   ]
  },
  {
   "cell_type": "code",
   "execution_count": 129,
   "metadata": {},
   "outputs": [
    {
     "data": {
      "text/plain": [
       "Order Date\n",
       "10    133194.90\n",
       "12    128436.73\n",
       "6     124213.16\n",
       "9     124133.06\n",
       "5     119012.13\n",
       "3     114962.04\n",
       "7     114310.62\n",
       "4     114310.04\n",
       "8     112590.60\n",
       "11    112319.30\n",
       "1     100208.70\n",
       "2      88959.86\n",
       "Name: Total price, dtype: float64"
      ]
     },
     "execution_count": 129,
     "metadata": {},
     "output_type": "execute_result"
    }
   ],
   "source": [
    "month_data.sort_values(ascending=False)"
   ]
  },
  {
   "cell_type": "code",
   "execution_count": 130,
   "metadata": {},
   "outputs": [
    {
     "data": {
      "image/png": "[encoded data removed]",
      "text/plain": [
       "<Figure size 432x288 with 1 Axes>"
      ]
     },
     "metadata": {
      "needs_background": "light"
     },
     "output_type": "display_data"
    }
   ],
   "source": [
    "color = ['darkorange' if month == 10 else 'silver' for month in month_data.index]\n",
    "fig, ax = plt.subplots()\n",
    "ax = month_data.plot(kind='bar', color=color)\n",
    "ax.set_xlabel('Month number')\n",
    "ax.set_ylabel('Total sales in euros')\n",
    "ax.set_title('Total sales per month')\n",
    "plt.show()"
   ]
  },
  {
   "cell_type": "markdown",
   "metadata": {},
   "source": [
    "October was the best month for sales. In October the store earned €133194,90."
   ]
  },
  {
   "cell_type": "markdown",
   "metadata": {},
   "source": [
    "### What city had the highest number of sales?"
   ]
  },
  {
   "cell_type": "code",
   "execution_count": 137,
   "metadata": {},
   "outputs": [
    {
     "data": {
      "text/plain": [
       "City\n",
       "Amsterdam              196010.51\n",
       "Rotterdam              143765.85\n",
       "Den Haag               123071.06\n",
       "Utrecht                 79652.99\n",
       "Almere                  53463.52\n",
       "Groningen               52516.95\n",
       "Eindhoven               48057.34\n",
       "Tilburg                 42469.93\n",
       "Breda                   41757.32\n",
       "Apeldoorn               40181.79\n",
       "Nijmegen                39178.79\n",
       "Haarlem                 34847.72\n",
       "Enschede                34815.36\n",
       "'s-Hertogenbosch        34595.23\n",
       "Arnhem                  33539.56\n",
       "Amersfoort              33274.56\n",
       "Zaandam                 31441.60\n",
       "Zoetermeer              31189.30\n",
       "Leeuwarden              26947.26\n",
       "Ede                     26909.60\n",
       "Alphen aan den Rijn     26355.59\n",
       "Dordrecht               25882.21\n",
       "Maastricht              25868.74\n",
       "Emmen                   25102.89\n",
       "Leiden                  25078.08\n",
       "Zwolle                  24867.14\n",
       "Venlo                   22900.46\n",
       "Alkmaar                 21762.50\n",
       "Delft                   21067.88\n",
       "Deventer                20079.41\n",
       "Name: Total price, dtype: float64"
      ]
     },
     "execution_count": 137,
     "metadata": {},
     "output_type": "execute_result"
    }
   ],
   "source": [
    "sales_city = all_data.groupby('City')['Total price'].sum()\n",
    "sales_city.sort_values(ascending=False)"
   ]
  },
  {
   "cell_type": "code",
   "execution_count": 138,
   "metadata": {},
   "outputs": [
    {
     "data": {
      "image/png": "[encoded data removed]",
      "text/plain": [
       "<Figure size 576x360 with 1 Axes>"
      ]
     },
     "metadata": {
      "needs_background": "light"
     },
     "output_type": "display_data"
    }
   ],
   "source": [
    "color = ['darkorange' if city == 'Amsterdam' else 'silver' for city in sales_city.index]\n",
    "fig, ax = plt.subplots(figsize=[8,5])\n",
    "ax = sales_city.plot(kind='bar', color=color)\n",
    "ax.set_xlabel('')\n",
    "ax.set_ylabel('Total sales in euros')\n",
    "ax.set_title('Sales per city')\n",
    "plt.show()"
   ]
  },
  {
   "cell_type": "markdown",
   "metadata": {},
   "source": [
    "### What time should advertisements be displayed to maximize likelihood of customer's buying a product?"
   ]
  },
  {
   "cell_type": "code",
   "execution_count": 139,
   "metadata": {},
   "outputs": [
    {
     "data": {
      "text/plain": [
       "Order Date\n",
       "0     299\n",
       "1     166\n",
       "2      86\n",
       "3      50\n",
       "4      63\n",
       "5      94\n",
       "6     181\n",
       "7     298\n",
       "8     453\n",
       "9     648\n",
       "10    771\n",
       "11    910\n",
       "12    894\n",
       "13    937\n",
       "14    847\n",
       "15    764\n",
       "16    746\n",
       "17    820\n",
       "18    877\n",
       "19    959\n",
       "20    924\n",
       "21    842\n",
       "22    690\n",
       "23    476\n",
       "Name: Order ID, dtype: int64"
      ]
     },
     "execution_count": 139,
     "metadata": {},
     "output_type": "execute_result"
    }
   ],
   "source": [
    "hour_data = all_data.groupby(all_data.index.hour)['Order ID'].nunique()\n",
    "hour_data"
   ]
  },
  {
   "cell_type": "code",
   "execution_count": 140,
   "metadata": {},
   "outputs": [
    {
     "data": {
      "image/png": "[encoded data removed]",
      "text/plain": [
       "<Figure size 576x360 with 1 Axes>"
      ]
     },
     "metadata": {
      "needs_background": "light"
     },
     "output_type": "display_data"
    }
   ],
   "source": [
    "fig, ax = plt.subplots(figsize=[8,5])\n",
    "ax = hour_data.plot()\n",
    "ax.set_xticks(hour_data.index)\n",
    "ax.set_xlabel('Hour')\n",
    "ax.set_ylabel('Number of orders')\n",
    "ax.set_title('Number of orders per hour')\n",
    "ax.grid()\n",
    "plt.show()"
   ]
  },
  {
   "cell_type": "markdown",
   "metadata": {},
   "source": [
    "Most sales occur between 11am-12pm and 6pm-8pm."
   ]
  },
  {
   "cell_type": "markdown",
   "metadata": {},
   "source": [
    "### Women shoes"
   ]
  },
  {
   "cell_type": "code",
   "execution_count": 141,
   "metadata": {},
   "outputs": [
    {
     "data": {
      "text/html": [
       "<div>\n",
       "<style scoped>\n",
       "    .dataframe tbody tr th:only-of-type {\n",
       "        vertical-align: middle;\n",
       "    }\n",
       "\n",
       "    .dataframe tbody tr th {\n",
       "        vertical-align: top;\n",
       "    }\n",
       "\n",
       "    .dataframe thead th {\n",
       "        text-align: right;\n",
       "    }\n",
       "</style>\n",
       "<table border=\"1\" class=\"dataframe\">\n",
       "  <thead>\n",
       "    <tr style=\"text-align: right;\">\n",
       "      <th></th>\n",
       "      <th>Order ID</th>\n",
       "      <th>Category</th>\n",
       "      <th>Gender</th>\n",
       "      <th>Product</th>\n",
       "      <th>Size</th>\n",
       "      <th>Color</th>\n",
       "      <th>Quantity Ordered</th>\n",
       "      <th>Price each</th>\n",
       "      <th>Purchase Address</th>\n",
       "      <th>Total price</th>\n",
       "      <th>City</th>\n",
       "    </tr>\n",
       "    <tr>\n",
       "      <th>Order Date</th>\n",
       "      <th></th>\n",
       "      <th></th>\n",
       "      <th></th>\n",
       "      <th></th>\n",
       "      <th></th>\n",
       "      <th></th>\n",
       "      <th></th>\n",
       "      <th></th>\n",
       "      <th></th>\n",
       "      <th></th>\n",
       "      <th></th>\n",
       "    </tr>\n",
       "  </thead>\n",
       "  <tbody>\n",
       "    <tr>\n",
       "      <th>2019-09-04 18:33:00</th>\n",
       "      <td>40065</td>\n",
       "      <td>Shoes</td>\n",
       "      <td>F</td>\n",
       "      <td>Ankle Boots</td>\n",
       "      <td>39.0</td>\n",
       "      <td>black</td>\n",
       "      <td>1</td>\n",
       "      <td>119.99</td>\n",
       "      <td>Lindenlaan 58, 1008UV Apeldoorn</td>\n",
       "      <td>119.99</td>\n",
       "      <td>Apeldoorn</td>\n",
       "    </tr>\n",
       "    <tr>\n",
       "      <th>2019-04-13 16:28:00</th>\n",
       "      <td>40071</td>\n",
       "      <td>Shoes</td>\n",
       "      <td>F</td>\n",
       "      <td>Ballerinas</td>\n",
       "      <td>35.0</td>\n",
       "      <td>black</td>\n",
       "      <td>1</td>\n",
       "      <td>79.95</td>\n",
       "      <td>Sportlaan 60, 1050JA Rotterdam</td>\n",
       "      <td>79.95</td>\n",
       "      <td>Rotterdam</td>\n",
       "    </tr>\n",
       "    <tr>\n",
       "      <th>2019-04-28 22:06:00</th>\n",
       "      <td>40073</td>\n",
       "      <td>Shoes</td>\n",
       "      <td>F</td>\n",
       "      <td>Pumps</td>\n",
       "      <td>37.0</td>\n",
       "      <td>black</td>\n",
       "      <td>1</td>\n",
       "      <td>89.99</td>\n",
       "      <td>Frans Halsstraat 95, 1027IG Rotterdam</td>\n",
       "      <td>89.99</td>\n",
       "      <td>Rotterdam</td>\n",
       "    </tr>\n",
       "    <tr>\n",
       "      <th>2019-04-21 10:31:00</th>\n",
       "      <td>40074</td>\n",
       "      <td>Shoes</td>\n",
       "      <td>F</td>\n",
       "      <td>Sneakers</td>\n",
       "      <td>39.0</td>\n",
       "      <td>black</td>\n",
       "      <td>1</td>\n",
       "      <td>99.99</td>\n",
       "      <td>Leliestraat 60, 1002BF Utrecht</td>\n",
       "      <td>99.99</td>\n",
       "      <td>Utrecht</td>\n",
       "    </tr>\n",
       "    <tr>\n",
       "      <th>2019-04-15 22:08:00</th>\n",
       "      <td>40078</td>\n",
       "      <td>Shoes</td>\n",
       "      <td>F</td>\n",
       "      <td>Wedges</td>\n",
       "      <td>40.0</td>\n",
       "      <td>black</td>\n",
       "      <td>1</td>\n",
       "      <td>69.95</td>\n",
       "      <td>Parklaan 44, 1047BT Amsterdam</td>\n",
       "      <td>69.95</td>\n",
       "      <td>Amsterdam</td>\n",
       "    </tr>\n",
       "  </tbody>\n",
       "</table>\n",
       "</div>"
      ],
      "text/plain": [
       "                     Order ID Category Gender      Product  Size  Color  \\\n",
       "Order Date                                                                \n",
       "2019-09-04 18:33:00     40065    Shoes      F  Ankle Boots  39.0  black   \n",
       "2019-04-13 16:28:00     40071    Shoes      F   Ballerinas  35.0  black   \n",
       "2019-04-28 22:06:00     40073    Shoes      F        Pumps  37.0  black   \n",
       "2019-04-21 10:31:00     40074    Shoes      F     Sneakers  39.0  black   \n",
       "2019-04-15 22:08:00     40078    Shoes      F       Wedges  40.0  black   \n",
       "\n",
       "                     Quantity Ordered  Price each  \\\n",
       "Order Date                                          \n",
       "2019-09-04 18:33:00                 1      119.99   \n",
       "2019-04-13 16:28:00                 1       79.95   \n",
       "2019-04-28 22:06:00                 1       89.99   \n",
       "2019-04-21 10:31:00                 1       99.99   \n",
       "2019-04-15 22:08:00                 1       69.95   \n",
       "\n",
       "                                          Purchase Address  Total price  \\\n",
       "Order Date                                                                \n",
       "2019-09-04 18:33:00        Lindenlaan 58, 1008UV Apeldoorn       119.99   \n",
       "2019-04-13 16:28:00         Sportlaan 60, 1050JA Rotterdam        79.95   \n",
       "2019-04-28 22:06:00  Frans Halsstraat 95, 1027IG Rotterdam        89.99   \n",
       "2019-04-21 10:31:00         Leliestraat 60, 1002BF Utrecht        99.99   \n",
       "2019-04-15 22:08:00          Parklaan 44, 1047BT Amsterdam        69.95   \n",
       "\n",
       "                          City  \n",
       "Order Date                      \n",
       "2019-09-04 18:33:00  Apeldoorn  \n",
       "2019-04-13 16:28:00  Rotterdam  \n",
       "2019-04-28 22:06:00  Rotterdam  \n",
       "2019-04-21 10:31:00    Utrecht  \n",
       "2019-04-15 22:08:00  Amsterdam  "
      ]
     },
     "execution_count": 141,
     "metadata": {},
     "output_type": "execute_result"
    }
   ],
   "source": [
    "womens_shoes = all_data[(all_data['Category'] == 'Shoes') & (all_data['Gender'] == 'F')]\n",
    "womens_shoes.head()"
   ]
  },
  {
   "cell_type": "code",
   "execution_count": 142,
   "metadata": {},
   "outputs": [],
   "source": [
    "product_count = womens_shoes.groupby('Product', observed=True)['Quantity Ordered'].sum()"
   ]
  },
  {
   "cell_type": "code",
   "execution_count": 143,
   "metadata": {},
   "outputs": [
    {
     "data": {
      "image/png": "[encoded data removed]",
      "text/plain": [
       "<Figure size 576x360 with 1 Axes>"
      ]
     },
     "metadata": {
      "needs_background": "light"
     },
     "output_type": "display_data"
    }
   ],
   "source": [
    "fig, ax = plt.subplots(figsize=[8,5])\n",
    "ax = product_count.plot(kind='bar')\n",
    "ax.set_xlabel('')\n",
    "ax.set_ylabel('Quantity ordered')\n",
    "ax.set_title('Quantity ordered per kind of shoe in 2019')\n",
    "plt.show()"
   ]
  },
  {
   "cell_type": "code",
   "execution_count": 144,
   "metadata": {},
   "outputs": [
    {
     "data": {
      "text/html": [
       "<div>\n",
       "<style scoped>\n",
       "    .dataframe tbody tr th:only-of-type {\n",
       "        vertical-align: middle;\n",
       "    }\n",
       "\n",
       "    .dataframe tbody tr th {\n",
       "        vertical-align: top;\n",
       "    }\n",
       "\n",
       "    .dataframe thead th {\n",
       "        text-align: right;\n",
       "    }\n",
       "</style>\n",
       "<table border=\"1\" class=\"dataframe\">\n",
       "  <thead>\n",
       "    <tr style=\"text-align: right;\">\n",
       "      <th>Product</th>\n",
       "      <th>Ankle Boots</th>\n",
       "      <th>Ballerinas</th>\n",
       "      <th>Calf Boots</th>\n",
       "      <th>Flip Flops</th>\n",
       "      <th>Pumps</th>\n",
       "      <th>Sandals</th>\n",
       "      <th>Sneakers</th>\n",
       "      <th>Wedges</th>\n",
       "    </tr>\n",
       "    <tr>\n",
       "      <th>Order Date</th>\n",
       "      <th></th>\n",
       "      <th></th>\n",
       "      <th></th>\n",
       "      <th></th>\n",
       "      <th></th>\n",
       "      <th></th>\n",
       "      <th></th>\n",
       "      <th></th>\n",
       "    </tr>\n",
       "  </thead>\n",
       "  <tbody>\n",
       "    <tr>\n",
       "      <th>1</th>\n",
       "      <td>84</td>\n",
       "      <td>62</td>\n",
       "      <td>81</td>\n",
       "      <td>32</td>\n",
       "      <td>81</td>\n",
       "      <td>38</td>\n",
       "      <td>107</td>\n",
       "      <td>57</td>\n",
       "    </tr>\n",
       "    <tr>\n",
       "      <th>2</th>\n",
       "      <td>47</td>\n",
       "      <td>64</td>\n",
       "      <td>35</td>\n",
       "      <td>32</td>\n",
       "      <td>97</td>\n",
       "      <td>31</td>\n",
       "      <td>126</td>\n",
       "      <td>50</td>\n",
       "    </tr>\n",
       "    <tr>\n",
       "      <th>3</th>\n",
       "      <td>45</td>\n",
       "      <td>117</td>\n",
       "      <td>27</td>\n",
       "      <td>40</td>\n",
       "      <td>117</td>\n",
       "      <td>28</td>\n",
       "      <td>183</td>\n",
       "      <td>82</td>\n",
       "    </tr>\n",
       "    <tr>\n",
       "      <th>4</th>\n",
       "      <td>49</td>\n",
       "      <td>128</td>\n",
       "      <td>37</td>\n",
       "      <td>40</td>\n",
       "      <td>123</td>\n",
       "      <td>44</td>\n",
       "      <td>150</td>\n",
       "      <td>79</td>\n",
       "    </tr>\n",
       "    <tr>\n",
       "      <th>5</th>\n",
       "      <td>40</td>\n",
       "      <td>140</td>\n",
       "      <td>29</td>\n",
       "      <td>145</td>\n",
       "      <td>99</td>\n",
       "      <td>127</td>\n",
       "      <td>98</td>\n",
       "      <td>111</td>\n",
       "    </tr>\n",
       "    <tr>\n",
       "      <th>6</th>\n",
       "      <td>49</td>\n",
       "      <td>126</td>\n",
       "      <td>30</td>\n",
       "      <td>133</td>\n",
       "      <td>124</td>\n",
       "      <td>144</td>\n",
       "      <td>103</td>\n",
       "      <td>113</td>\n",
       "    </tr>\n",
       "    <tr>\n",
       "      <th>7</th>\n",
       "      <td>38</td>\n",
       "      <td>129</td>\n",
       "      <td>32</td>\n",
       "      <td>124</td>\n",
       "      <td>92</td>\n",
       "      <td>128</td>\n",
       "      <td>106</td>\n",
       "      <td>92</td>\n",
       "    </tr>\n",
       "    <tr>\n",
       "      <th>8</th>\n",
       "      <td>54</td>\n",
       "      <td>104</td>\n",
       "      <td>35</td>\n",
       "      <td>45</td>\n",
       "      <td>128</td>\n",
       "      <td>36</td>\n",
       "      <td>160</td>\n",
       "      <td>58</td>\n",
       "    </tr>\n",
       "    <tr>\n",
       "      <th>9</th>\n",
       "      <td>58</td>\n",
       "      <td>114</td>\n",
       "      <td>38</td>\n",
       "      <td>46</td>\n",
       "      <td>140</td>\n",
       "      <td>32</td>\n",
       "      <td>177</td>\n",
       "      <td>99</td>\n",
       "    </tr>\n",
       "    <tr>\n",
       "      <th>10</th>\n",
       "      <td>56</td>\n",
       "      <td>136</td>\n",
       "      <td>25</td>\n",
       "      <td>48</td>\n",
       "      <td>152</td>\n",
       "      <td>44</td>\n",
       "      <td>200</td>\n",
       "      <td>95</td>\n",
       "    </tr>\n",
       "    <tr>\n",
       "      <th>11</th>\n",
       "      <td>93</td>\n",
       "      <td>74</td>\n",
       "      <td>107</td>\n",
       "      <td>34</td>\n",
       "      <td>100</td>\n",
       "      <td>31</td>\n",
       "      <td>123</td>\n",
       "      <td>27</td>\n",
       "    </tr>\n",
       "    <tr>\n",
       "      <th>12</th>\n",
       "      <td>132</td>\n",
       "      <td>75</td>\n",
       "      <td>122</td>\n",
       "      <td>29</td>\n",
       "      <td>107</td>\n",
       "      <td>47</td>\n",
       "      <td>124</td>\n",
       "      <td>52</td>\n",
       "    </tr>\n",
       "  </tbody>\n",
       "</table>\n",
       "</div>"
      ],
      "text/plain": [
       "Product     Ankle Boots  Ballerinas  Calf Boots  Flip Flops  Pumps  Sandals  \\\n",
       "Order Date                                                                    \n",
       "1                    84          62          81          32     81       38   \n",
       "2                    47          64          35          32     97       31   \n",
       "3                    45         117          27          40    117       28   \n",
       "4                    49         128          37          40    123       44   \n",
       "5                    40         140          29         145     99      127   \n",
       "6                    49         126          30         133    124      144   \n",
       "7                    38         129          32         124     92      128   \n",
       "8                    54         104          35          45    128       36   \n",
       "9                    58         114          38          46    140       32   \n",
       "10                   56         136          25          48    152       44   \n",
       "11                   93          74         107          34    100       31   \n",
       "12                  132          75         122          29    107       47   \n",
       "\n",
       "Product     Sneakers  Wedges  \n",
       "Order Date                    \n",
       "1                107      57  \n",
       "2                126      50  \n",
       "3                183      82  \n",
       "4                150      79  \n",
       "5                 98     111  \n",
       "6                103     113  \n",
       "7                106      92  \n",
       "8                160      58  \n",
       "9                177      99  \n",
       "10               200      95  \n",
       "11               123      27  \n",
       "12               124      52  "
      ]
     },
     "execution_count": 144,
     "metadata": {},
     "output_type": "execute_result"
    }
   ],
   "source": [
    "product_time = pd.pivot_table(womens_shoes, values='Quantity Ordered', columns='Product', index=womens_shoes.index.month, aggfunc='sum')\n",
    "product_time"
   ]
  },
  {
   "cell_type": "code",
   "execution_count": 145,
   "metadata": {
    "scrolled": true
   },
   "outputs": [
    {
     "data": {
      "image/png": "[encoded data removed]",
      "text/plain": [
       "<Figure size 1152x720 with 8 Axes>"
      ]
     },
     "metadata": {
      "needs_background": "light"
     },
     "output_type": "display_data"
    }
   ],
   "source": [
    "product_time.plot(subplots=True, layout=(2,4), figsize=(16,10), linewidth=2, xticks=product_time.index, \n",
    "                  sharex=False, sharey=True)\n",
    "plt.show()"
   ]
  },
  {
   "cell_type": "markdown",
   "metadata": {},
   "source": [
    "### Mens shoes"
   ]
  },
  {
   "cell_type": "code",
   "execution_count": 146,
   "metadata": {},
   "outputs": [
    {
     "data": {
      "text/html": [
       "<div>\n",
       "<style scoped>\n",
       "    .dataframe tbody tr th:only-of-type {\n",
       "        vertical-align: middle;\n",
       "    }\n",
       "\n",
       "    .dataframe tbody tr th {\n",
       "        vertical-align: top;\n",
       "    }\n",
       "\n",
       "    .dataframe thead th {\n",
       "        text-align: right;\n",
       "    }\n",
       "</style>\n",
       "<table border=\"1\" class=\"dataframe\">\n",
       "  <thead>\n",
       "    <tr style=\"text-align: right;\">\n",
       "      <th></th>\n",
       "      <th>Order ID</th>\n",
       "      <th>Category</th>\n",
       "      <th>Gender</th>\n",
       "      <th>Product</th>\n",
       "      <th>Size</th>\n",
       "      <th>Color</th>\n",
       "      <th>Quantity Ordered</th>\n",
       "      <th>Price each</th>\n",
       "      <th>Purchase Address</th>\n",
       "      <th>Total price</th>\n",
       "      <th>City</th>\n",
       "    </tr>\n",
       "    <tr>\n",
       "      <th>Order Date</th>\n",
       "      <th></th>\n",
       "      <th></th>\n",
       "      <th></th>\n",
       "      <th></th>\n",
       "      <th></th>\n",
       "      <th></th>\n",
       "      <th></th>\n",
       "      <th></th>\n",
       "      <th></th>\n",
       "      <th></th>\n",
       "      <th></th>\n",
       "    </tr>\n",
       "  </thead>\n",
       "  <tbody>\n",
       "    <tr>\n",
       "      <th>2019-04-17 15:58:00</th>\n",
       "      <td>40064</td>\n",
       "      <td>Shoes</td>\n",
       "      <td>M</td>\n",
       "      <td>Sneakers</td>\n",
       "      <td>41.0</td>\n",
       "      <td>brown</td>\n",
       "      <td>1</td>\n",
       "      <td>99.99</td>\n",
       "      <td>Sportlaan 88, 1026PR Apeldoorn</td>\n",
       "      <td>99.99</td>\n",
       "      <td>Apeldoorn</td>\n",
       "    </tr>\n",
       "    <tr>\n",
       "      <th>2019-03-04 07:52:00</th>\n",
       "      <td>40066</td>\n",
       "      <td>Shoes</td>\n",
       "      <td>M</td>\n",
       "      <td>Boots</td>\n",
       "      <td>39.0</td>\n",
       "      <td>green</td>\n",
       "      <td>1</td>\n",
       "      <td>119.99</td>\n",
       "      <td>Hoofdstraat 58, 1037OB Nijmegen</td>\n",
       "      <td>119.99</td>\n",
       "      <td>Nijmegen</td>\n",
       "    </tr>\n",
       "    <tr>\n",
       "      <th>2019-11-04 17:35:00</th>\n",
       "      <td>40067</td>\n",
       "      <td>Shoes</td>\n",
       "      <td>M</td>\n",
       "      <td>Loafers</td>\n",
       "      <td>42.0</td>\n",
       "      <td>grey</td>\n",
       "      <td>1</td>\n",
       "      <td>69.99</td>\n",
       "      <td>Lindenlaan 56, 1049DF Breda</td>\n",
       "      <td>69.99</td>\n",
       "      <td>Breda</td>\n",
       "    </tr>\n",
       "    <tr>\n",
       "      <th>2019-11-04 17:35:00</th>\n",
       "      <td>40067</td>\n",
       "      <td>Shoes</td>\n",
       "      <td>M</td>\n",
       "      <td>Boots</td>\n",
       "      <td>42.0</td>\n",
       "      <td>brown</td>\n",
       "      <td>1</td>\n",
       "      <td>119.99</td>\n",
       "      <td>Lindenlaan 56, 1049DF Breda</td>\n",
       "      <td>119.99</td>\n",
       "      <td>Breda</td>\n",
       "    </tr>\n",
       "    <tr>\n",
       "      <th>2019-04-23 13:45:00</th>\n",
       "      <td>40069</td>\n",
       "      <td>Shoes</td>\n",
       "      <td>M</td>\n",
       "      <td>Sneakers</td>\n",
       "      <td>35.0</td>\n",
       "      <td>brown</td>\n",
       "      <td>1</td>\n",
       "      <td>99.99</td>\n",
       "      <td>Kastanjelaan 80, 1000XT Amsterdam</td>\n",
       "      <td>99.99</td>\n",
       "      <td>Amsterdam</td>\n",
       "    </tr>\n",
       "  </tbody>\n",
       "</table>\n",
       "</div>"
      ],
      "text/plain": [
       "                     Order ID Category Gender   Product  Size  Color  \\\n",
       "Order Date                                                             \n",
       "2019-04-17 15:58:00     40064    Shoes      M  Sneakers  41.0  brown   \n",
       "2019-03-04 07:52:00     40066    Shoes      M     Boots  39.0  green   \n",
       "2019-11-04 17:35:00     40067    Shoes      M   Loafers  42.0   grey   \n",
       "2019-11-04 17:35:00     40067    Shoes      M     Boots  42.0  brown   \n",
       "2019-04-23 13:45:00     40069    Shoes      M  Sneakers  35.0  brown   \n",
       "\n",
       "                     Quantity Ordered  Price each  \\\n",
       "Order Date                                          \n",
       "2019-04-17 15:58:00                 1       99.99   \n",
       "2019-03-04 07:52:00                 1      119.99   \n",
       "2019-11-04 17:35:00                 1       69.99   \n",
       "2019-11-04 17:35:00                 1      119.99   \n",
       "2019-04-23 13:45:00                 1       99.99   \n",
       "\n",
       "                                      Purchase Address  Total price       City  \n",
       "Order Date                                                                      \n",
       "2019-04-17 15:58:00     Sportlaan 88, 1026PR Apeldoorn        99.99  Apeldoorn  \n",
       "2019-03-04 07:52:00    Hoofdstraat 58, 1037OB Nijmegen       119.99   Nijmegen  \n",
       "2019-11-04 17:35:00        Lindenlaan 56, 1049DF Breda        69.99      Breda  \n",
       "2019-11-04 17:35:00        Lindenlaan 56, 1049DF Breda       119.99      Breda  \n",
       "2019-04-23 13:45:00  Kastanjelaan 80, 1000XT Amsterdam        99.99  Amsterdam  "
      ]
     },
     "execution_count": 146,
     "metadata": {},
     "output_type": "execute_result"
    }
   ],
   "source": [
    "mens_shoes = all_data[(all_data['Category'] == 'Shoes') & (all_data['Gender'] == 'M')]\n",
    "mens_shoes.head()"
   ]
  },
  {
   "cell_type": "code",
   "execution_count": 147,
   "metadata": {},
   "outputs": [],
   "source": [
    "product_count = mens_shoes.groupby('Product', observed=True)['Quantity Ordered'].sum()"
   ]
  },
  {
   "cell_type": "code",
   "execution_count": 148,
   "metadata": {},
   "outputs": [
    {
     "data": {
      "image/png": "[encoded data removed]",
      "text/plain": [
       "<Figure size 576x360 with 1 Axes>"
      ]
     },
     "metadata": {
      "needs_background": "light"
     },
     "output_type": "display_data"
    }
   ],
   "source": [
    "fig, ax = plt.subplots(figsize=[8,5])\n",
    "ax = product_count.plot(kind='bar')\n",
    "ax.set_xlabel('')\n",
    "ax.set_ylabel('Quantity ordered')\n",
    "ax.set_title('Quantity ordered per kind of shoe in 2019')\n",
    "plt.show()"
   ]
  },
  {
   "cell_type": "code",
   "execution_count": 149,
   "metadata": {},
   "outputs": [
    {
     "data": {
      "text/html": [
       "<div>\n",
       "<style scoped>\n",
       "    .dataframe tbody tr th:only-of-type {\n",
       "        vertical-align: middle;\n",
       "    }\n",
       "\n",
       "    .dataframe tbody tr th {\n",
       "        vertical-align: top;\n",
       "    }\n",
       "\n",
       "    .dataframe thead th {\n",
       "        text-align: right;\n",
       "    }\n",
       "</style>\n",
       "<table border=\"1\" class=\"dataframe\">\n",
       "  <thead>\n",
       "    <tr style=\"text-align: right;\">\n",
       "      <th>Product</th>\n",
       "      <th>Boat shoes</th>\n",
       "      <th>Boots</th>\n",
       "      <th>Combat</th>\n",
       "      <th>Flip Flops</th>\n",
       "      <th>Loafers</th>\n",
       "      <th>Sandals</th>\n",
       "      <th>Sneakers</th>\n",
       "    </tr>\n",
       "    <tr>\n",
       "      <th>Order Date</th>\n",
       "      <th></th>\n",
       "      <th></th>\n",
       "      <th></th>\n",
       "      <th></th>\n",
       "      <th></th>\n",
       "      <th></th>\n",
       "      <th></th>\n",
       "    </tr>\n",
       "  </thead>\n",
       "  <tbody>\n",
       "    <tr>\n",
       "      <th>1</th>\n",
       "      <td>25</td>\n",
       "      <td>74</td>\n",
       "      <td>73</td>\n",
       "      <td>29</td>\n",
       "      <td>30</td>\n",
       "      <td>13</td>\n",
       "      <td>42</td>\n",
       "    </tr>\n",
       "    <tr>\n",
       "      <th>2</th>\n",
       "      <td>30</td>\n",
       "      <td>39</td>\n",
       "      <td>54</td>\n",
       "      <td>21</td>\n",
       "      <td>34</td>\n",
       "      <td>18</td>\n",
       "      <td>84</td>\n",
       "    </tr>\n",
       "    <tr>\n",
       "      <th>3</th>\n",
       "      <td>42</td>\n",
       "      <td>62</td>\n",
       "      <td>67</td>\n",
       "      <td>23</td>\n",
       "      <td>39</td>\n",
       "      <td>24</td>\n",
       "      <td>91</td>\n",
       "    </tr>\n",
       "    <tr>\n",
       "      <th>4</th>\n",
       "      <td>29</td>\n",
       "      <td>63</td>\n",
       "      <td>94</td>\n",
       "      <td>22</td>\n",
       "      <td>40</td>\n",
       "      <td>20</td>\n",
       "      <td>97</td>\n",
       "    </tr>\n",
       "    <tr>\n",
       "      <th>5</th>\n",
       "      <td>78</td>\n",
       "      <td>18</td>\n",
       "      <td>33</td>\n",
       "      <td>107</td>\n",
       "      <td>68</td>\n",
       "      <td>69</td>\n",
       "      <td>72</td>\n",
       "    </tr>\n",
       "    <tr>\n",
       "      <th>6</th>\n",
       "      <td>65</td>\n",
       "      <td>26</td>\n",
       "      <td>30</td>\n",
       "      <td>96</td>\n",
       "      <td>61</td>\n",
       "      <td>85</td>\n",
       "      <td>60</td>\n",
       "    </tr>\n",
       "    <tr>\n",
       "      <th>7</th>\n",
       "      <td>76</td>\n",
       "      <td>34</td>\n",
       "      <td>27</td>\n",
       "      <td>94</td>\n",
       "      <td>62</td>\n",
       "      <td>84</td>\n",
       "      <td>77</td>\n",
       "    </tr>\n",
       "    <tr>\n",
       "      <th>8</th>\n",
       "      <td>23</td>\n",
       "      <td>56</td>\n",
       "      <td>84</td>\n",
       "      <td>26</td>\n",
       "      <td>59</td>\n",
       "      <td>20</td>\n",
       "      <td>84</td>\n",
       "    </tr>\n",
       "    <tr>\n",
       "      <th>9</th>\n",
       "      <td>38</td>\n",
       "      <td>74</td>\n",
       "      <td>87</td>\n",
       "      <td>27</td>\n",
       "      <td>51</td>\n",
       "      <td>18</td>\n",
       "      <td>100</td>\n",
       "    </tr>\n",
       "    <tr>\n",
       "      <th>10</th>\n",
       "      <td>42</td>\n",
       "      <td>63</td>\n",
       "      <td>75</td>\n",
       "      <td>27</td>\n",
       "      <td>72</td>\n",
       "      <td>31</td>\n",
       "      <td>109</td>\n",
       "    </tr>\n",
       "    <tr>\n",
       "      <th>11</th>\n",
       "      <td>26</td>\n",
       "      <td>89</td>\n",
       "      <td>76</td>\n",
       "      <td>25</td>\n",
       "      <td>22</td>\n",
       "      <td>32</td>\n",
       "      <td>67</td>\n",
       "    </tr>\n",
       "    <tr>\n",
       "      <th>12</th>\n",
       "      <td>29</td>\n",
       "      <td>98</td>\n",
       "      <td>88</td>\n",
       "      <td>19</td>\n",
       "      <td>16</td>\n",
       "      <td>28</td>\n",
       "      <td>79</td>\n",
       "    </tr>\n",
       "  </tbody>\n",
       "</table>\n",
       "</div>"
      ],
      "text/plain": [
       "Product     Boat shoes  Boots  Combat  Flip Flops  Loafers  Sandals  Sneakers\n",
       "Order Date                                                                   \n",
       "1                   25     74      73          29       30       13        42\n",
       "2                   30     39      54          21       34       18        84\n",
       "3                   42     62      67          23       39       24        91\n",
       "4                   29     63      94          22       40       20        97\n",
       "5                   78     18      33         107       68       69        72\n",
       "6                   65     26      30          96       61       85        60\n",
       "7                   76     34      27          94       62       84        77\n",
       "8                   23     56      84          26       59       20        84\n",
       "9                   38     74      87          27       51       18       100\n",
       "10                  42     63      75          27       72       31       109\n",
       "11                  26     89      76          25       22       32        67\n",
       "12                  29     98      88          19       16       28        79"
      ]
     },
     "execution_count": 149,
     "metadata": {},
     "output_type": "execute_result"
    }
   ],
   "source": [
    "product_time = pd.pivot_table(mens_shoes, values='Quantity Ordered', columns='Product', index=mens_shoes.index.month, aggfunc='sum')\n",
    "product_time"
   ]
  },
  {
   "cell_type": "code",
   "execution_count": 150,
   "metadata": {},
   "outputs": [
    {
     "data": {
      "image/png": "[encoded data removed]",
      "text/plain": [
       "<Figure size 1152x720 with 8 Axes>"
      ]
     },
     "metadata": {
      "needs_background": "light"
     },
     "output_type": "display_data"
    }
   ],
   "source": [
    "product_time.plot(subplots=True, layout=(2,4), figsize=(16,10), linewidth=2, xticks=product_time.index, \n",
    "                  sharex=False, sharey=True)\n",
    "plt.show()"
   ]
  },
  {
   "cell_type": "markdown",
   "metadata": {},
   "source": [
    " ### More than one product sold per order"
   ]
  },
  {
   "cell_type": "code",
   "execution_count": 151,
   "metadata": {},
   "outputs": [
    {
     "data": {
      "text/html": [
       "<div>\n",
       "<style scoped>\n",
       "    .dataframe tbody tr th:only-of-type {\n",
       "        vertical-align: middle;\n",
       "    }\n",
       "\n",
       "    .dataframe tbody tr th {\n",
       "        vertical-align: top;\n",
       "    }\n",
       "\n",
       "    .dataframe thead th {\n",
       "        text-align: right;\n",
       "    }\n",
       "</style>\n",
       "<table border=\"1\" class=\"dataframe\">\n",
       "  <thead>\n",
       "    <tr style=\"text-align: right;\">\n",
       "      <th></th>\n",
       "      <th>Order ID</th>\n",
       "      <th>Category</th>\n",
       "      <th>Gender</th>\n",
       "      <th>Product</th>\n",
       "      <th>Size</th>\n",
       "      <th>Color</th>\n",
       "      <th>Quantity Ordered</th>\n",
       "      <th>Price each</th>\n",
       "      <th>Purchase Address</th>\n",
       "      <th>Total price</th>\n",
       "      <th>City</th>\n",
       "    </tr>\n",
       "    <tr>\n",
       "      <th>Order Date</th>\n",
       "      <th></th>\n",
       "      <th></th>\n",
       "      <th></th>\n",
       "      <th></th>\n",
       "      <th></th>\n",
       "      <th></th>\n",
       "      <th></th>\n",
       "      <th></th>\n",
       "      <th></th>\n",
       "      <th></th>\n",
       "      <th></th>\n",
       "    </tr>\n",
       "  </thead>\n",
       "  <tbody>\n",
       "    <tr>\n",
       "      <th>2019-06-04 10:42:00</th>\n",
       "      <td>40092</td>\n",
       "      <td>Shoes</td>\n",
       "      <td>M</td>\n",
       "      <td>Loafers</td>\n",
       "      <td>38.0</td>\n",
       "      <td>beige</td>\n",
       "      <td>1</td>\n",
       "      <td>69.99</td>\n",
       "      <td>Parklaan 37, 1018DA Arnhem</td>\n",
       "      <td>69.99</td>\n",
       "      <td>Arnhem</td>\n",
       "    </tr>\n",
       "    <tr>\n",
       "      <th>2019-06-04 10:42:00</th>\n",
       "      <td>40092</td>\n",
       "      <td>Shoes</td>\n",
       "      <td>M</td>\n",
       "      <td>Loafers</td>\n",
       "      <td>37.0</td>\n",
       "      <td>beige</td>\n",
       "      <td>1</td>\n",
       "      <td>69.99</td>\n",
       "      <td>Parklaan 37, 1018DA Arnhem</td>\n",
       "      <td>69.99</td>\n",
       "      <td>Arnhem</td>\n",
       "    </tr>\n",
       "    <tr>\n",
       "      <th>2019-04-18 14:17:00</th>\n",
       "      <td>40120</td>\n",
       "      <td>Shoes</td>\n",
       "      <td>F</td>\n",
       "      <td>Ankle Boots</td>\n",
       "      <td>35.0</td>\n",
       "      <td>brown</td>\n",
       "      <td>1</td>\n",
       "      <td>119.99</td>\n",
       "      <td>Parklaan 1, 1082SP Utrecht</td>\n",
       "      <td>119.99</td>\n",
       "      <td>Utrecht</td>\n",
       "    </tr>\n",
       "    <tr>\n",
       "      <th>2019-04-18 14:17:00</th>\n",
       "      <td>40120</td>\n",
       "      <td>Shoes</td>\n",
       "      <td>F</td>\n",
       "      <td>Ankle Boots</td>\n",
       "      <td>36.0</td>\n",
       "      <td>brown</td>\n",
       "      <td>1</td>\n",
       "      <td>119.99</td>\n",
       "      <td>Parklaan 1, 1082SP Utrecht</td>\n",
       "      <td>119.99</td>\n",
       "      <td>Utrecht</td>\n",
       "    </tr>\n",
       "    <tr>\n",
       "      <th>2019-04-26 02:07:00</th>\n",
       "      <td>40133</td>\n",
       "      <td>Shoes</td>\n",
       "      <td>M</td>\n",
       "      <td>Sneakers</td>\n",
       "      <td>39.0</td>\n",
       "      <td>black</td>\n",
       "      <td>1</td>\n",
       "      <td>99.99</td>\n",
       "      <td>Molenstraat 86, 1025ND Zoetermeer</td>\n",
       "      <td>99.99</td>\n",
       "      <td>Zoetermeer</td>\n",
       "    </tr>\n",
       "    <tr>\n",
       "      <th>...</th>\n",
       "      <td>...</td>\n",
       "      <td>...</td>\n",
       "      <td>...</td>\n",
       "      <td>...</td>\n",
       "      <td>...</td>\n",
       "      <td>...</td>\n",
       "      <td>...</td>\n",
       "      <td>...</td>\n",
       "      <td>...</td>\n",
       "      <td>...</td>\n",
       "      <td>...</td>\n",
       "    </tr>\n",
       "    <tr>\n",
       "      <th>2019-09-09 08:17:00</th>\n",
       "      <td>47990</td>\n",
       "      <td>Shoes</td>\n",
       "      <td>M</td>\n",
       "      <td>Loafers</td>\n",
       "      <td>35.0</td>\n",
       "      <td>beige</td>\n",
       "      <td>1</td>\n",
       "      <td>69.99</td>\n",
       "      <td>Schoolstraat 17, 1090MD Almere</td>\n",
       "      <td>69.99</td>\n",
       "      <td>Almere</td>\n",
       "    </tr>\n",
       "    <tr>\n",
       "      <th>2019-09-21 18:51:00</th>\n",
       "      <td>47993</td>\n",
       "      <td>Shoes</td>\n",
       "      <td>F</td>\n",
       "      <td>Sneakers</td>\n",
       "      <td>41.0</td>\n",
       "      <td>black</td>\n",
       "      <td>1</td>\n",
       "      <td>99.99</td>\n",
       "      <td>Esdoornstraat 2, 1084SE Tilburg</td>\n",
       "      <td>99.99</td>\n",
       "      <td>Tilburg</td>\n",
       "    </tr>\n",
       "    <tr>\n",
       "      <th>2019-09-21 18:51:00</th>\n",
       "      <td>47993</td>\n",
       "      <td>Shoes</td>\n",
       "      <td>F</td>\n",
       "      <td>Sneakers</td>\n",
       "      <td>41.0</td>\n",
       "      <td>brown</td>\n",
       "      <td>1</td>\n",
       "      <td>99.99</td>\n",
       "      <td>Esdoornstraat 2, 1084SE Tilburg</td>\n",
       "      <td>99.99</td>\n",
       "      <td>Tilburg</td>\n",
       "    </tr>\n",
       "    <tr>\n",
       "      <th>2019-09-23 08:23:00</th>\n",
       "      <td>47998</td>\n",
       "      <td>Shoes</td>\n",
       "      <td>F</td>\n",
       "      <td>Pumps</td>\n",
       "      <td>41.0</td>\n",
       "      <td>grey</td>\n",
       "      <td>1</td>\n",
       "      <td>89.99</td>\n",
       "      <td>Molenweg 60, 1030ZK Amsterdam</td>\n",
       "      <td>89.99</td>\n",
       "      <td>Amsterdam</td>\n",
       "    </tr>\n",
       "    <tr>\n",
       "      <th>2019-09-23 08:23:00</th>\n",
       "      <td>47998</td>\n",
       "      <td>Shoes</td>\n",
       "      <td>F</td>\n",
       "      <td>Pumps</td>\n",
       "      <td>40.0</td>\n",
       "      <td>grey</td>\n",
       "      <td>1</td>\n",
       "      <td>89.99</td>\n",
       "      <td>Molenweg 60, 1030ZK Amsterdam</td>\n",
       "      <td>89.99</td>\n",
       "      <td>Amsterdam</td>\n",
       "    </tr>\n",
       "  </tbody>\n",
       "</table>\n",
       "<p>2204 rows × 11 columns</p>\n",
       "</div>"
      ],
      "text/plain": [
       "                     Order ID Category Gender      Product  Size  Color  \\\n",
       "Order Date                                                                \n",
       "2019-06-04 10:42:00     40092    Shoes      M      Loafers  38.0  beige   \n",
       "2019-06-04 10:42:00     40092    Shoes      M      Loafers  37.0  beige   \n",
       "2019-04-18 14:17:00     40120    Shoes      F  Ankle Boots  35.0  brown   \n",
       "2019-04-18 14:17:00     40120    Shoes      F  Ankle Boots  36.0  brown   \n",
       "2019-04-26 02:07:00     40133    Shoes      M     Sneakers  39.0  black   \n",
       "...                       ...      ...    ...          ...   ...    ...   \n",
       "2019-09-09 08:17:00     47990    Shoes      M      Loafers  35.0  beige   \n",
       "2019-09-21 18:51:00     47993    Shoes      F     Sneakers  41.0  black   \n",
       "2019-09-21 18:51:00     47993    Shoes      F     Sneakers  41.0  brown   \n",
       "2019-09-23 08:23:00     47998    Shoes      F        Pumps  41.0   grey   \n",
       "2019-09-23 08:23:00     47998    Shoes      F        Pumps  40.0   grey   \n",
       "\n",
       "                     Quantity Ordered  Price each  \\\n",
       "Order Date                                          \n",
       "2019-06-04 10:42:00                 1       69.99   \n",
       "2019-06-04 10:42:00                 1       69.99   \n",
       "2019-04-18 14:17:00                 1      119.99   \n",
       "2019-04-18 14:17:00                 1      119.99   \n",
       "2019-04-26 02:07:00                 1       99.99   \n",
       "...                               ...         ...   \n",
       "2019-09-09 08:17:00                 1       69.99   \n",
       "2019-09-21 18:51:00                 1       99.99   \n",
       "2019-09-21 18:51:00                 1       99.99   \n",
       "2019-09-23 08:23:00                 1       89.99   \n",
       "2019-09-23 08:23:00                 1       89.99   \n",
       "\n",
       "                                      Purchase Address  Total price  \\\n",
       "Order Date                                                            \n",
       "2019-06-04 10:42:00         Parklaan 37, 1018DA Arnhem        69.99   \n",
       "2019-06-04 10:42:00         Parklaan 37, 1018DA Arnhem        69.99   \n",
       "2019-04-18 14:17:00         Parklaan 1, 1082SP Utrecht       119.99   \n",
       "2019-04-18 14:17:00         Parklaan 1, 1082SP Utrecht       119.99   \n",
       "2019-04-26 02:07:00  Molenstraat 86, 1025ND Zoetermeer        99.99   \n",
       "...                                                ...          ...   \n",
       "2019-09-09 08:17:00     Schoolstraat 17, 1090MD Almere        69.99   \n",
       "2019-09-21 18:51:00    Esdoornstraat 2, 1084SE Tilburg        99.99   \n",
       "2019-09-21 18:51:00    Esdoornstraat 2, 1084SE Tilburg        99.99   \n",
       "2019-09-23 08:23:00      Molenweg 60, 1030ZK Amsterdam        89.99   \n",
       "2019-09-23 08:23:00      Molenweg 60, 1030ZK Amsterdam        89.99   \n",
       "\n",
       "                           City  \n",
       "Order Date                       \n",
       "2019-06-04 10:42:00      Arnhem  \n",
       "2019-06-04 10:42:00      Arnhem  \n",
       "2019-04-18 14:17:00     Utrecht  \n",
       "2019-04-18 14:17:00     Utrecht  \n",
       "2019-04-26 02:07:00  Zoetermeer  \n",
       "...                         ...  \n",
       "2019-09-09 08:17:00      Almere  \n",
       "2019-09-21 18:51:00     Tilburg  \n",
       "2019-09-21 18:51:00     Tilburg  \n",
       "2019-09-23 08:23:00   Amsterdam  \n",
       "2019-09-23 08:23:00   Amsterdam  \n",
       "\n",
       "[2204 rows x 11 columns]"
      ]
     },
     "execution_count": 151,
     "metadata": {},
     "output_type": "execute_result"
    }
   ],
   "source": [
    "multiple = all_data[(all_data.duplicated(subset=['Order ID', 'Product'], keep=False)) & (all_data['Category'] == 'Shoes')]\n",
    "multiple"
   ]
  },
  {
   "cell_type": "code",
   "execution_count": null,
   "metadata": {},
   "outputs": [],
   "source": []
  },
  {
   "cell_type": "code",
   "execution_count": null,
   "metadata": {},
   "outputs": [],
   "source": []
  },
  {
   "cell_type": "code",
   "execution_count": null,
   "metadata": {},
   "outputs": [],
   "source": []
  }
 ],
 "metadata": {
  "kernelspec": {
   "display_name": "Python 3",
   "language": "python",
   "name": "python3"
  },
  "language_info": {
   "codemirror_mode": {
    "name": "ipython",
    "version": 3
   },
   "file_extension": ".py",
   "mimetype": "text/x-python",
   "name": "python",
   "nbconvert_exporter": "python",
   "pygments_lexer": "ipython3",
   "version": "3.8.0"
  }
 },
 "nbformat": 4,
 "nbformat_minor": 4
}
