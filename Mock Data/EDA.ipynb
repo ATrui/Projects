{
 "cells": [
  {
   "cell_type": "markdown",
   "metadata": {},
   "source": [
    "# Exploratory Data Analyses "
   ]
  },
  {
   "cell_type": "markdown",
   "metadata": {},
   "source": [
    "#### Import Necessary Libraries"
   ]
  },
  {
   "cell_type": "code",
   "execution_count": 101,
   "metadata": {},
   "outputs": [],
   "source": [
    "import pandas as pd\n",
    "import os\n",
    "import datetime\n",
    "import matplotlib.pyplot as plt\n",
    "import seaborn as sns\n",
    "%matplotlib inline"
   ]
  },
  {
   "cell_type": "markdown",
   "metadata": {},
   "source": [
    "#### Merging 12 months of sales data into a single file"
   ]
  },
  {
   "cell_type": "code",
   "execution_count": 102,
   "metadata": {},
   "outputs": [],
   "source": [
    "files = [file for file in os.listdir('./sales_data')]\n",
    "\n",
    "all_months_data = pd.DataFrame()\n",
    "\n",
    "for file in files:\n",
    "    df = pd.read_csv('./sales_data/'+file)\n",
    "    all_months_data = pd.concat([all_months_data, df])\n",
    "\n",
    "all_months_data.to_csv('all_data.csv', index=False)"
   ]
  },
  {
   "cell_type": "markdown",
   "metadata": {},
   "source": [
    "#### Read in updated dataframe"
   ]
  },
  {
   "cell_type": "code",
   "execution_count": 103,
   "metadata": {},
   "outputs": [
    {
     "data": {
      "text/html": [
       "<div>\n",
       "<style scoped>\n",
       "    .dataframe tbody tr th:only-of-type {\n",
       "        vertical-align: middle;\n",
       "    }\n",
       "\n",
       "    .dataframe tbody tr th {\n",
       "        vertical-align: top;\n",
       "    }\n",
       "\n",
       "    .dataframe thead th {\n",
       "        text-align: right;\n",
       "    }\n",
       "</style>\n",
       "<table border=\"1\" class=\"dataframe\">\n",
       "  <thead>\n",
       "    <tr style=\"text-align: right;\">\n",
       "      <th></th>\n",
       "      <th>Order ID</th>\n",
       "      <th>Category</th>\n",
       "      <th>Gender</th>\n",
       "      <th>Product</th>\n",
       "      <th>Size</th>\n",
       "      <th>Color</th>\n",
       "      <th>Quantity Ordered</th>\n",
       "      <th>Price each</th>\n",
       "      <th>Order Date</th>\n",
       "      <th>Purchase Address</th>\n",
       "    </tr>\n",
       "  </thead>\n",
       "  <tbody>\n",
       "    <tr>\n",
       "      <th>0</th>\n",
       "      <td>40092</td>\n",
       "      <td>Shoes</td>\n",
       "      <td>F</td>\n",
       "      <td>Wedges</td>\n",
       "      <td>36.0</td>\n",
       "      <td>brown</td>\n",
       "      <td>1</td>\n",
       "      <td>69.95</td>\n",
       "      <td>29/04/2019 22:16</td>\n",
       "      <td>Spoorstraat 92, 1085KK Zwolle</td>\n",
       "    </tr>\n",
       "    <tr>\n",
       "      <th>1</th>\n",
       "      <td>40093</td>\n",
       "      <td>Bags</td>\n",
       "      <td>F</td>\n",
       "      <td>Backpack</td>\n",
       "      <td>NaN</td>\n",
       "      <td>white</td>\n",
       "      <td>1</td>\n",
       "      <td>59.99</td>\n",
       "      <td>21/04/2019 21:41</td>\n",
       "      <td>Meidoornlaan 34, 1098GX Alphen aan den Rijn</td>\n",
       "    </tr>\n",
       "    <tr>\n",
       "      <th>2</th>\n",
       "      <td>40094</td>\n",
       "      <td>Shoes</td>\n",
       "      <td>M</td>\n",
       "      <td>Sneakers</td>\n",
       "      <td>38.0</td>\n",
       "      <td>beige</td>\n",
       "      <td>1</td>\n",
       "      <td>99.99</td>\n",
       "      <td>01/04/2019 15:35</td>\n",
       "      <td>Meidoornstraat 54, 1044CK Venlo</td>\n",
       "    </tr>\n",
       "    <tr>\n",
       "      <th>3</th>\n",
       "      <td>40094</td>\n",
       "      <td>Shoes</td>\n",
       "      <td>M</td>\n",
       "      <td>Sneakers</td>\n",
       "      <td>38.0</td>\n",
       "      <td>grey</td>\n",
       "      <td>1</td>\n",
       "      <td>99.99</td>\n",
       "      <td>01/04/2019 15:35</td>\n",
       "      <td>Meidoornstraat 54, 1044CK Venlo</td>\n",
       "    </tr>\n",
       "    <tr>\n",
       "      <th>4</th>\n",
       "      <td>40095</td>\n",
       "      <td>Shoes</td>\n",
       "      <td>M</td>\n",
       "      <td>Combat</td>\n",
       "      <td>35.0</td>\n",
       "      <td>multicolor</td>\n",
       "      <td>1</td>\n",
       "      <td>119.99</td>\n",
       "      <td>30/04/2019 18:11</td>\n",
       "      <td>Frans Halsstraat 78, 1072EF Utrecht</td>\n",
       "    </tr>\n",
       "  </tbody>\n",
       "</table>\n",
       "</div>"
      ],
      "text/plain": [
       "   Order ID Category Gender   Product  Size       Color  Quantity Ordered  \\\n",
       "0     40092    Shoes      F    Wedges  36.0       brown                 1   \n",
       "1     40093     Bags      F  Backpack   NaN       white                 1   \n",
       "2     40094    Shoes      M  Sneakers  38.0       beige                 1   \n",
       "3     40094    Shoes      M  Sneakers  38.0        grey                 1   \n",
       "4     40095    Shoes      M    Combat  35.0  multicolor                 1   \n",
       "\n",
       "   Price each        Order Date                             Purchase Address  \n",
       "0       69.95  29/04/2019 22:16                Spoorstraat 92, 1085KK Zwolle  \n",
       "1       59.99  21/04/2019 21:41  Meidoornlaan 34, 1098GX Alphen aan den Rijn  \n",
       "2       99.99  01/04/2019 15:35              Meidoornstraat 54, 1044CK Venlo  \n",
       "3       99.99  01/04/2019 15:35              Meidoornstraat 54, 1044CK Venlo  \n",
       "4      119.99  30/04/2019 18:11          Frans Halsstraat 78, 1072EF Utrecht  "
      ]
     },
     "execution_count": 103,
     "metadata": {},
     "output_type": "execute_result"
    }
   ],
   "source": [
    "all_data = pd.read_csv('all_data.csv')\n",
    "all_data.head()"
   ]
  },
  {
   "cell_type": "markdown",
   "metadata": {},
   "source": [
    "### Visually inspect data"
   ]
  },
  {
   "cell_type": "code",
   "execution_count": 104,
   "metadata": {},
   "outputs": [
    {
     "data": {
      "text/plain": [
       "Index(['Order ID', 'Category', 'Gender', 'Product', 'Size', 'Color',\n",
       "       'Quantity Ordered', 'Price each', 'Order Date', 'Purchase Address'],\n",
       "      dtype='object')"
      ]
     },
     "execution_count": 104,
     "metadata": {},
     "output_type": "execute_result"
    }
   ],
   "source": [
    "all_data.columns"
   ]
  },
  {
   "cell_type": "code",
   "execution_count": 105,
   "metadata": {},
   "outputs": [
    {
     "data": {
      "text/plain": [
       "(18333, 10)"
      ]
     },
     "execution_count": 105,
     "metadata": {},
     "output_type": "execute_result"
    }
   ],
   "source": [
    "all_data.shape"
   ]
  },
  {
   "cell_type": "code",
   "execution_count": 106,
   "metadata": {},
   "outputs": [
    {
     "name": "stdout",
     "output_type": "stream",
     "text": [
      "<class 'pandas.core.frame.DataFrame'>\n",
      "RangeIndex: 18333 entries, 0 to 18332\n",
      "Data columns (total 10 columns):\n",
      " #   Column            Non-Null Count  Dtype  \n",
      "---  ------            --------------  -----  \n",
      " 0   Order ID          18333 non-null  int64  \n",
      " 1   Category          18333 non-null  object \n",
      " 2   Gender            17753 non-null  object \n",
      " 3   Product           18333 non-null  object \n",
      " 4   Size              12143 non-null  float64\n",
      " 5   Color             17753 non-null  object \n",
      " 6   Quantity Ordered  18333 non-null  int64  \n",
      " 7   Price each        18333 non-null  float64\n",
      " 8   Order Date        18333 non-null  object \n",
      " 9   Purchase Address  18333 non-null  object \n",
      "dtypes: float64(2), int64(2), object(6)\n",
      "memory usage: 4.8 MB\n"
     ]
    }
   ],
   "source": [
    "all_data.info(memory_usage='deep')"
   ]
  },
  {
   "cell_type": "markdown",
   "metadata": {},
   "source": [
    "### Change columns to the correct datatype and lowering memory usage"
   ]
  },
  {
   "cell_type": "markdown",
   "metadata": {},
   "source": [
    "Memory usage before changing datatypes: 4.8 MB"
   ]
  },
  {
   "cell_type": "code",
   "execution_count": 107,
   "metadata": {
    "scrolled": false
   },
   "outputs": [
    {
     "data": {
      "text/plain": [
       "Index                    64\n",
       "Order ID             146664\n",
       "Category             637733\n",
       "Gender               615202\n",
       "Product              675166\n",
       "Size                 146664\n",
       "Color                617653\n",
       "Quantity Ordered     146664\n",
       "Price each           146664\n",
       "Order Date           824985\n",
       "Purchase Address    1108996\n",
       "dtype: int64"
      ]
     },
     "execution_count": 107,
     "metadata": {},
     "output_type": "execute_result"
    }
   ],
   "source": [
    "all_data.memory_usage(deep=True)"
   ]
  },
  {
   "cell_type": "code",
   "execution_count": 108,
   "metadata": {},
   "outputs": [
    {
     "data": {
      "text/plain": [
       "array(['Shoes', 'Bags', 'Accessories'], dtype=object)"
      ]
     },
     "execution_count": 108,
     "metadata": {},
     "output_type": "execute_result"
    }
   ],
   "source": [
    "all_data['Category'].unique()"
   ]
  },
  {
   "cell_type": "code",
   "execution_count": 109,
   "metadata": {},
   "outputs": [],
   "source": [
    "all_data['Category'] = all_data['Category'].astype('category')"
   ]
  },
  {
   "cell_type": "code",
   "execution_count": 110,
   "metadata": {},
   "outputs": [
    {
     "data": {
      "text/plain": [
       "array(['F', 'M', nan], dtype=object)"
      ]
     },
     "execution_count": 110,
     "metadata": {},
     "output_type": "execute_result"
    }
   ],
   "source": [
    "all_data['Gender'].unique()"
   ]
  },
  {
   "cell_type": "code",
   "execution_count": 111,
   "metadata": {},
   "outputs": [],
   "source": [
    "all_data['Gender'] = all_data['Gender'].astype('category')"
   ]
  },
  {
   "cell_type": "code",
   "execution_count": 112,
   "metadata": {},
   "outputs": [
    {
     "data": {
      "text/plain": [
       "array(['Wedges', 'Backpack', 'Sneakers', 'Combat', 'Shopper',\n",
       "       'Boat shoes', 'Loafers', 'Ballerinas', 'Shoulderbag', 'Pumps',\n",
       "       'Boots', 'Laptopbag', 'Handbag', 'Belt', 'Sunglasses', 'Socks',\n",
       "       'Scarf', 'Ankle Boots', 'Shoe care', 'Sandals', 'Wallet',\n",
       "       'Flip Flops', 'Calf Boots', 'Clutch', 'Gloves', 'Summerhat'],\n",
       "      dtype=object)"
      ]
     },
     "execution_count": 112,
     "metadata": {},
     "output_type": "execute_result"
    }
   ],
   "source": [
    "all_data['Product'].unique()"
   ]
  },
  {
   "cell_type": "code",
   "execution_count": 113,
   "metadata": {},
   "outputs": [],
   "source": [
    "all_data['Product'] = all_data['Product'].astype('category')"
   ]
  },
  {
   "cell_type": "code",
   "execution_count": 114,
   "metadata": {},
   "outputs": [
    {
     "data": {
      "text/plain": [
       "array(['brown', 'white', 'beige', 'grey', 'multicolor', 'black', 'blue',\n",
       "       'red', nan, 'pink', 'gold', 'silver', 'green'], dtype=object)"
      ]
     },
     "execution_count": 114,
     "metadata": {},
     "output_type": "execute_result"
    }
   ],
   "source": [
    "all_data['Color'].unique()"
   ]
  },
  {
   "cell_type": "code",
   "execution_count": 115,
   "metadata": {},
   "outputs": [],
   "source": [
    "all_data['Color'] = all_data['Color'].astype('category')"
   ]
  },
  {
   "cell_type": "code",
   "execution_count": 116,
   "metadata": {},
   "outputs": [],
   "source": [
    "all_data['Order Date'] = pd.to_datetime(all_data['Order Date'])"
   ]
  },
  {
   "cell_type": "code",
   "execution_count": 117,
   "metadata": {},
   "outputs": [
    {
     "name": "stdout",
     "output_type": "stream",
     "text": [
      "<class 'pandas.core.frame.DataFrame'>\n",
      "RangeIndex: 18333 entries, 0 to 18332\n",
      "Data columns (total 10 columns):\n",
      " #   Column            Non-Null Count  Dtype         \n",
      "---  ------            --------------  -----         \n",
      " 0   Order ID          18333 non-null  int64         \n",
      " 1   Category          18333 non-null  category      \n",
      " 2   Gender            17753 non-null  category      \n",
      " 3   Product           18333 non-null  category      \n",
      " 4   Size              12143 non-null  float64       \n",
      " 5   Color             17753 non-null  category      \n",
      " 6   Quantity Ordered  18333 non-null  int64         \n",
      " 7   Price each        18333 non-null  float64       \n",
      " 8   Order Date        18333 non-null  datetime64[ns]\n",
      " 9   Purchase Address  18333 non-null  object        \n",
      "dtypes: category(4), datetime64[ns](1), float64(2), int64(2), object(1)\n",
      "memory usage: 1.8 MB\n"
     ]
    }
   ],
   "source": [
    "all_data.info(memory_usage='deep')"
   ]
  },
  {
   "cell_type": "markdown",
   "metadata": {},
   "source": [
    "Memory usages after changing datatypes: 1.8 MB"
   ]
  },
  {
   "cell_type": "markdown",
   "metadata": {},
   "source": [
    "### Inspect missing values"
   ]
  },
  {
   "cell_type": "code",
   "execution_count": 118,
   "metadata": {},
   "outputs": [
    {
     "name": "stdout",
     "output_type": "stream",
     "text": [
      "<class 'pandas.core.frame.DataFrame'>\n",
      "RangeIndex: 18333 entries, 0 to 18332\n",
      "Data columns (total 10 columns):\n",
      " #   Column            Non-Null Count  Dtype         \n",
      "---  ------            --------------  -----         \n",
      " 0   Order ID          18333 non-null  int64         \n",
      " 1   Category          18333 non-null  category      \n",
      " 2   Gender            17753 non-null  category      \n",
      " 3   Product           18333 non-null  category      \n",
      " 4   Size              12143 non-null  float64       \n",
      " 5   Color             17753 non-null  category      \n",
      " 6   Quantity Ordered  18333 non-null  int64         \n",
      " 7   Price each        18333 non-null  float64       \n",
      " 8   Order Date        18333 non-null  datetime64[ns]\n",
      " 9   Purchase Address  18333 non-null  object        \n",
      "dtypes: category(4), datetime64[ns](1), float64(2), int64(2), object(1)\n",
      "memory usage: 860.6+ KB\n"
     ]
    }
   ],
   "source": [
    "all_data.info()"
   ]
  },
  {
   "cell_type": "markdown",
   "metadata": {},
   "source": [
    "There are missing values in the columns: 'Gender', 'Size' and 'Color'."
   ]
  },
  {
   "cell_type": "markdown",
   "metadata": {},
   "source": [
    "#### 'Gender' column"
   ]
  },
  {
   "cell_type": "code",
   "execution_count": 119,
   "metadata": {},
   "outputs": [
    {
     "data": {
      "text/plain": [
       "F      1085\n",
       "M       606\n",
       "NaN      86\n",
       "Name: Gender, dtype: int64"
      ]
     },
     "execution_count": 119,
     "metadata": {},
     "output_type": "execute_result"
    }
   ],
   "source": [
    "df['Gender'].value_counts(dropna=False)"
   ]
  },
  {
   "cell_type": "markdown",
   "metadata": {},
   "source": [
    "The 'Gender' column has 86 missing values."
   ]
  },
  {
   "cell_type": "code",
   "execution_count": 120,
   "metadata": {},
   "outputs": [
    {
     "data": {
      "text/html": [
       "<div>\n",
       "<style scoped>\n",
       "    .dataframe tbody tr th:only-of-type {\n",
       "        vertical-align: middle;\n",
       "    }\n",
       "\n",
       "    .dataframe tbody tr th {\n",
       "        vertical-align: top;\n",
       "    }\n",
       "\n",
       "    .dataframe thead th {\n",
       "        text-align: right;\n",
       "    }\n",
       "</style>\n",
       "<table border=\"1\" class=\"dataframe\">\n",
       "  <thead>\n",
       "    <tr style=\"text-align: right;\">\n",
       "      <th></th>\n",
       "      <th>Order ID</th>\n",
       "      <th>Category</th>\n",
       "      <th>Gender</th>\n",
       "      <th>Product</th>\n",
       "      <th>Size</th>\n",
       "      <th>Color</th>\n",
       "      <th>Quantity Ordered</th>\n",
       "      <th>Price each</th>\n",
       "      <th>Order Date</th>\n",
       "      <th>Purchase Address</th>\n",
       "    </tr>\n",
       "  </thead>\n",
       "  <tbody>\n",
       "    <tr>\n",
       "      <th>81</th>\n",
       "      <td>46587</td>\n",
       "      <td>Accessories</td>\n",
       "      <td>NaN</td>\n",
       "      <td>Shoe care</td>\n",
       "      <td>NaN</td>\n",
       "      <td>NaN</td>\n",
       "      <td>1</td>\n",
       "      <td>8.99</td>\n",
       "      <td>05/09/2019 21:44</td>\n",
       "      <td>Kerkpad 23, 1043KK Den Haag</td>\n",
       "    </tr>\n",
       "    <tr>\n",
       "      <th>110</th>\n",
       "      <td>46609</td>\n",
       "      <td>Accessories</td>\n",
       "      <td>NaN</td>\n",
       "      <td>Shoe care</td>\n",
       "      <td>NaN</td>\n",
       "      <td>NaN</td>\n",
       "      <td>1</td>\n",
       "      <td>8.99</td>\n",
       "      <td>19/09/2019 21:22</td>\n",
       "      <td>Leliestraat 92, 1014VW Arnhem</td>\n",
       "    </tr>\n",
       "    <tr>\n",
       "      <th>114</th>\n",
       "      <td>46613</td>\n",
       "      <td>Accessories</td>\n",
       "      <td>NaN</td>\n",
       "      <td>Shoe care</td>\n",
       "      <td>NaN</td>\n",
       "      <td>NaN</td>\n",
       "      <td>1</td>\n",
       "      <td>8.99</td>\n",
       "      <td>20/09/2019 18:28</td>\n",
       "      <td>Leeuwerikstraat 4, 1046KA Enschede</td>\n",
       "    </tr>\n",
       "    <tr>\n",
       "      <th>130</th>\n",
       "      <td>46626</td>\n",
       "      <td>Accessories</td>\n",
       "      <td>NaN</td>\n",
       "      <td>Shoe care</td>\n",
       "      <td>NaN</td>\n",
       "      <td>NaN</td>\n",
       "      <td>1</td>\n",
       "      <td>8.99</td>\n",
       "      <td>13/09/2019 06:04</td>\n",
       "      <td>Tuinstraat 77, 1013RL Den Haag</td>\n",
       "    </tr>\n",
       "    <tr>\n",
       "      <th>185</th>\n",
       "      <td>46663</td>\n",
       "      <td>Accessories</td>\n",
       "      <td>NaN</td>\n",
       "      <td>Shoe care</td>\n",
       "      <td>NaN</td>\n",
       "      <td>NaN</td>\n",
       "      <td>1</td>\n",
       "      <td>8.99</td>\n",
       "      <td>05/09/2019 12:54</td>\n",
       "      <td>Schoolstraat 89, 1024YH Den Haag</td>\n",
       "    </tr>\n",
       "    <tr>\n",
       "      <th>...</th>\n",
       "      <td>...</td>\n",
       "      <td>...</td>\n",
       "      <td>...</td>\n",
       "      <td>...</td>\n",
       "      <td>...</td>\n",
       "      <td>...</td>\n",
       "      <td>...</td>\n",
       "      <td>...</td>\n",
       "      <td>...</td>\n",
       "      <td>...</td>\n",
       "    </tr>\n",
       "    <tr>\n",
       "      <th>1690</th>\n",
       "      <td>47772</td>\n",
       "      <td>Accessories</td>\n",
       "      <td>NaN</td>\n",
       "      <td>Shoe care</td>\n",
       "      <td>NaN</td>\n",
       "      <td>NaN</td>\n",
       "      <td>1</td>\n",
       "      <td>8.99</td>\n",
       "      <td>04/09/2019 17:13</td>\n",
       "      <td>Prins Hendrikstraat 10, 1080KR Amsterdam</td>\n",
       "    </tr>\n",
       "    <tr>\n",
       "      <th>1723</th>\n",
       "      <td>47795</td>\n",
       "      <td>Accessories</td>\n",
       "      <td>NaN</td>\n",
       "      <td>Shoe care</td>\n",
       "      <td>NaN</td>\n",
       "      <td>NaN</td>\n",
       "      <td>1</td>\n",
       "      <td>8.99</td>\n",
       "      <td>10/09/2019 20:14</td>\n",
       "      <td>Kerkplein 60, 1012AG Amsterdam</td>\n",
       "    </tr>\n",
       "    <tr>\n",
       "      <th>1734</th>\n",
       "      <td>47803</td>\n",
       "      <td>Accessories</td>\n",
       "      <td>NaN</td>\n",
       "      <td>Shoe care</td>\n",
       "      <td>NaN</td>\n",
       "      <td>NaN</td>\n",
       "      <td>1</td>\n",
       "      <td>8.99</td>\n",
       "      <td>02/09/2019 01:41</td>\n",
       "      <td>Schoolstraat 86, 1024EM Amsterdam</td>\n",
       "    </tr>\n",
       "    <tr>\n",
       "      <th>1735</th>\n",
       "      <td>47804</td>\n",
       "      <td>Accessories</td>\n",
       "      <td>NaN</td>\n",
       "      <td>Shoe care</td>\n",
       "      <td>NaN</td>\n",
       "      <td>NaN</td>\n",
       "      <td>1</td>\n",
       "      <td>8.99</td>\n",
       "      <td>18/09/2019 11:35</td>\n",
       "      <td>Markt 91, 1044YT Utrecht</td>\n",
       "    </tr>\n",
       "    <tr>\n",
       "      <th>1752</th>\n",
       "      <td>47817</td>\n",
       "      <td>Accessories</td>\n",
       "      <td>NaN</td>\n",
       "      <td>Shoe care</td>\n",
       "      <td>NaN</td>\n",
       "      <td>NaN</td>\n",
       "      <td>1</td>\n",
       "      <td>8.99</td>\n",
       "      <td>15/09/2019 14:06</td>\n",
       "      <td>Wilhelminastraat 28, 1074TN Amsterdam</td>\n",
       "    </tr>\n",
       "  </tbody>\n",
       "</table>\n",
       "<p>86 rows × 10 columns</p>\n",
       "</div>"
      ],
      "text/plain": [
       "      Order ID     Category Gender    Product  Size Color  Quantity Ordered  \\\n",
       "81       46587  Accessories    NaN  Shoe care   NaN   NaN                 1   \n",
       "110      46609  Accessories    NaN  Shoe care   NaN   NaN                 1   \n",
       "114      46613  Accessories    NaN  Shoe care   NaN   NaN                 1   \n",
       "130      46626  Accessories    NaN  Shoe care   NaN   NaN                 1   \n",
       "185      46663  Accessories    NaN  Shoe care   NaN   NaN                 1   \n",
       "...        ...          ...    ...        ...   ...   ...               ...   \n",
       "1690     47772  Accessories    NaN  Shoe care   NaN   NaN                 1   \n",
       "1723     47795  Accessories    NaN  Shoe care   NaN   NaN                 1   \n",
       "1734     47803  Accessories    NaN  Shoe care   NaN   NaN                 1   \n",
       "1735     47804  Accessories    NaN  Shoe care   NaN   NaN                 1   \n",
       "1752     47817  Accessories    NaN  Shoe care   NaN   NaN                 1   \n",
       "\n",
       "      Price each        Order Date                          Purchase Address  \n",
       "81          8.99  05/09/2019 21:44               Kerkpad 23, 1043KK Den Haag  \n",
       "110         8.99  19/09/2019 21:22             Leliestraat 92, 1014VW Arnhem  \n",
       "114         8.99  20/09/2019 18:28        Leeuwerikstraat 4, 1046KA Enschede  \n",
       "130         8.99  13/09/2019 06:04            Tuinstraat 77, 1013RL Den Haag  \n",
       "185         8.99  05/09/2019 12:54          Schoolstraat 89, 1024YH Den Haag  \n",
       "...          ...               ...                                       ...  \n",
       "1690        8.99  04/09/2019 17:13  Prins Hendrikstraat 10, 1080KR Amsterdam  \n",
       "1723        8.99  10/09/2019 20:14            Kerkplein 60, 1012AG Amsterdam  \n",
       "1734        8.99  02/09/2019 01:41         Schoolstraat 86, 1024EM Amsterdam  \n",
       "1735        8.99  18/09/2019 11:35                  Markt 91, 1044YT Utrecht  \n",
       "1752        8.99  15/09/2019 14:06     Wilhelminastraat 28, 1074TN Amsterdam  \n",
       "\n",
       "[86 rows x 10 columns]"
      ]
     },
     "execution_count": 120,
     "metadata": {},
     "output_type": "execute_result"
    }
   ],
   "source": [
    "df[df['Gender'].isna()]"
   ]
  },
  {
   "cell_type": "markdown",
   "metadata": {},
   "source": [
    "At first sight it looks like there are only missing values for 'Gender' in the category 'Accessory'."
   ]
  },
  {
   "cell_type": "code",
   "execution_count": 121,
   "metadata": {},
   "outputs": [
    {
     "data": {
      "text/plain": [
       "Category     Product      Gender\n",
       "Accessories  Belt         F          32\n",
       "                          M          22\n",
       "             Scarf        F          23\n",
       "                          M          18\n",
       "             Shoe care    NaN        86\n",
       "             Socks        F          24\n",
       "                          M          24\n",
       "             Sunglasses   F          30\n",
       "                          M          22\n",
       "             Wallet       M          16\n",
       "                          F          11\n",
       "Bags         Backpack     M          37\n",
       "                          F          36\n",
       "             Clutch       F          32\n",
       "             Handbag      F          27\n",
       "             Laptopbag    M          38\n",
       "                          F          26\n",
       "             Shopper      F          30\n",
       "             Shoulderbag  M          40\n",
       "                          F          35\n",
       "Shoes        Ankle Boots  F          62\n",
       "             Ballerinas   F         133\n",
       "             Boat shoes   M          41\n",
       "             Boots        M          64\n",
       "             Calf Boots   F          29\n",
       "             Combat       M          89\n",
       "             Flip Flops   F          34\n",
       "                          M          17\n",
       "             Loafers      M          46\n",
       "             Pumps        F         161\n",
       "             Sandals      M          22\n",
       "                          F          16\n",
       "             Sneakers     F         258\n",
       "                          M         110\n",
       "             Wedges       F          86\n",
       "Name: Gender, dtype: int64"
      ]
     },
     "execution_count": 121,
     "metadata": {},
     "output_type": "execute_result"
    }
   ],
   "source": [
    "df.groupby(['Category', 'Product'])['Gender'].value_counts(dropna=False)"
   ]
  },
  {
   "cell_type": "markdown",
   "metadata": {},
   "source": [
    "Further inspection shows that all the missing values for 'Gender' are with the product 'Shoe care'. We can conclude that the product 'Shoe care' doesn't have a specific gender."
   ]
  },
  {
   "cell_type": "code",
   "execution_count": 122,
   "metadata": {},
   "outputs": [
    {
     "data": {
      "text/plain": [
       "NaN     609\n",
       "39.0    235\n",
       "40.0    186\n",
       "38.0    180\n",
       "37.0    176\n",
       "41.0    144\n",
       "42.0    102\n",
       "36.0     96\n",
       "35.0     45\n",
       "43.0      3\n",
       "34.0      1\n",
       "Name: Size, dtype: int64"
      ]
     },
     "execution_count": 122,
     "metadata": {},
     "output_type": "execute_result"
    }
   ],
   "source": [
    "df['Size'].value_counts(dropna=False)"
   ]
  },
  {
   "cell_type": "markdown",
   "metadata": {},
   "source": [
    "The 'Size' column has 609 missing values."
   ]
  },
  {
   "cell_type": "code",
   "execution_count": 123,
   "metadata": {},
   "outputs": [
    {
     "data": {
      "text/plain": [
       "Category     Size\n",
       "Accessories  NaN     308\n",
       "Bags         NaN     301\n",
       "Shoes        39.0    235\n",
       "             40.0    186\n",
       "             38.0    180\n",
       "             37.0    176\n",
       "             41.0    144\n",
       "             42.0    102\n",
       "             36.0     96\n",
       "             35.0     45\n",
       "             43.0      3\n",
       "             34.0      1\n",
       "Name: Size, dtype: int64"
      ]
     },
     "execution_count": 123,
     "metadata": {},
     "output_type": "execute_result"
    }
   ],
   "source": [
    "df.groupby('Category')['Size'].value_counts(dropna=False)"
   ]
  },
  {
   "cell_type": "markdown",
   "metadata": {},
   "source": [
    "Only the category 'Shoes' has assigned sizes. The categories 'Accessories' and 'Bags' have missing values for 'Size'."
   ]
  },
  {
   "cell_type": "code",
   "execution_count": 124,
   "metadata": {},
   "outputs": [
    {
     "data": {
      "text/plain": [
       "black         369\n",
       "grey          352\n",
       "brown         335\n",
       "beige         283\n",
       "multicolor    123\n",
       "NaN            86\n",
       "white          84\n",
       "blue           38\n",
       "green          33\n",
       "red            23\n",
       "pink           19\n",
       "silver         16\n",
       "gold           16\n",
       "Name: Color, dtype: int64"
      ]
     },
     "execution_count": 124,
     "metadata": {},
     "output_type": "execute_result"
    }
   ],
   "source": [
    "df['Color'].value_counts(dropna=False)"
   ]
  },
  {
   "cell_type": "markdown",
   "metadata": {},
   "source": [
    "The 'Color' column has 86 missing values."
   ]
  },
  {
   "cell_type": "code",
   "execution_count": 125,
   "metadata": {},
   "outputs": [
    {
     "data": {
      "text/plain": [
       "Category     Product    Color\n",
       "Accessories  Shoe care  NaN      86\n",
       "Name: Color, dtype: int64"
      ]
     },
     "execution_count": 125,
     "metadata": {},
     "output_type": "execute_result"
    }
   ],
   "source": [
    "nan_color = df[df['Color'].isna()]\n",
    "nan_color.groupby(['Category', 'Product'])['Color'].value_counts(dropna=False)"
   ]
  },
  {
   "cell_type": "markdown",
   "metadata": {},
   "source": [
    "Only the product 'Shoe care' has missing values for 'Color'."
   ]
  },
  {
   "cell_type": "markdown",
   "metadata": {},
   "source": [
    "### Augment data with aditional columns"
   ]
  },
  {
   "cell_type": "markdown",
   "metadata": {},
   "source": [
    "#### Make the column 'Order Date' the index"
   ]
  },
  {
   "cell_type": "code",
   "execution_count": 126,
   "metadata": {},
   "outputs": [],
   "source": [
    "all_data.set_index('Order Date', inplace=True)"
   ]
  },
  {
   "cell_type": "markdown",
   "metadata": {},
   "source": [
    "#### Create a 'Total price' column"
   ]
  },
  {
   "cell_type": "code",
   "execution_count": 127,
   "metadata": {
    "scrolled": true
   },
   "outputs": [
    {
     "data": {
      "text/html": [
       "<div>\n",
       "<style scoped>\n",
       "    .dataframe tbody tr th:only-of-type {\n",
       "        vertical-align: middle;\n",
       "    }\n",
       "\n",
       "    .dataframe tbody tr th {\n",
       "        vertical-align: top;\n",
       "    }\n",
       "\n",
       "    .dataframe thead th {\n",
       "        text-align: right;\n",
       "    }\n",
       "</style>\n",
       "<table border=\"1\" class=\"dataframe\">\n",
       "  <thead>\n",
       "    <tr style=\"text-align: right;\">\n",
       "      <th></th>\n",
       "      <th>Order ID</th>\n",
       "      <th>Category</th>\n",
       "      <th>Gender</th>\n",
       "      <th>Product</th>\n",
       "      <th>Size</th>\n",
       "      <th>Color</th>\n",
       "      <th>Quantity Ordered</th>\n",
       "      <th>Price each</th>\n",
       "      <th>Purchase Address</th>\n",
       "      <th>Total price</th>\n",
       "    </tr>\n",
       "    <tr>\n",
       "      <th>Order Date</th>\n",
       "      <th></th>\n",
       "      <th></th>\n",
       "      <th></th>\n",
       "      <th></th>\n",
       "      <th></th>\n",
       "      <th></th>\n",
       "      <th></th>\n",
       "      <th></th>\n",
       "      <th></th>\n",
       "      <th></th>\n",
       "    </tr>\n",
       "  </thead>\n",
       "  <tbody>\n",
       "    <tr>\n",
       "      <th>2019-04-29 22:16:00</th>\n",
       "      <td>40092</td>\n",
       "      <td>Shoes</td>\n",
       "      <td>F</td>\n",
       "      <td>Wedges</td>\n",
       "      <td>36.0</td>\n",
       "      <td>brown</td>\n",
       "      <td>1</td>\n",
       "      <td>69.95</td>\n",
       "      <td>Spoorstraat 92, 1085KK Zwolle</td>\n",
       "      <td>69.95</td>\n",
       "    </tr>\n",
       "    <tr>\n",
       "      <th>2019-04-21 21:41:00</th>\n",
       "      <td>40093</td>\n",
       "      <td>Bags</td>\n",
       "      <td>F</td>\n",
       "      <td>Backpack</td>\n",
       "      <td>NaN</td>\n",
       "      <td>white</td>\n",
       "      <td>1</td>\n",
       "      <td>59.99</td>\n",
       "      <td>Meidoornlaan 34, 1098GX Alphen aan den Rijn</td>\n",
       "      <td>59.99</td>\n",
       "    </tr>\n",
       "    <tr>\n",
       "      <th>2019-01-04 15:35:00</th>\n",
       "      <td>40094</td>\n",
       "      <td>Shoes</td>\n",
       "      <td>M</td>\n",
       "      <td>Sneakers</td>\n",
       "      <td>38.0</td>\n",
       "      <td>beige</td>\n",
       "      <td>1</td>\n",
       "      <td>99.99</td>\n",
       "      <td>Meidoornstraat 54, 1044CK Venlo</td>\n",
       "      <td>99.99</td>\n",
       "    </tr>\n",
       "    <tr>\n",
       "      <th>2019-01-04 15:35:00</th>\n",
       "      <td>40094</td>\n",
       "      <td>Shoes</td>\n",
       "      <td>M</td>\n",
       "      <td>Sneakers</td>\n",
       "      <td>38.0</td>\n",
       "      <td>grey</td>\n",
       "      <td>1</td>\n",
       "      <td>99.99</td>\n",
       "      <td>Meidoornstraat 54, 1044CK Venlo</td>\n",
       "      <td>99.99</td>\n",
       "    </tr>\n",
       "    <tr>\n",
       "      <th>2019-04-30 18:11:00</th>\n",
       "      <td>40095</td>\n",
       "      <td>Shoes</td>\n",
       "      <td>M</td>\n",
       "      <td>Combat</td>\n",
       "      <td>35.0</td>\n",
       "      <td>multicolor</td>\n",
       "      <td>1</td>\n",
       "      <td>119.99</td>\n",
       "      <td>Frans Halsstraat 78, 1072EF Utrecht</td>\n",
       "      <td>119.99</td>\n",
       "    </tr>\n",
       "  </tbody>\n",
       "</table>\n",
       "</div>"
      ],
      "text/plain": [
       "                     Order ID Category Gender   Product  Size       Color  \\\n",
       "Order Date                                                                  \n",
       "2019-04-29 22:16:00     40092    Shoes      F    Wedges  36.0       brown   \n",
       "2019-04-21 21:41:00     40093     Bags      F  Backpack   NaN       white   \n",
       "2019-01-04 15:35:00     40094    Shoes      M  Sneakers  38.0       beige   \n",
       "2019-01-04 15:35:00     40094    Shoes      M  Sneakers  38.0        grey   \n",
       "2019-04-30 18:11:00     40095    Shoes      M    Combat  35.0  multicolor   \n",
       "\n",
       "                     Quantity Ordered  Price each  \\\n",
       "Order Date                                          \n",
       "2019-04-29 22:16:00                 1       69.95   \n",
       "2019-04-21 21:41:00                 1       59.99   \n",
       "2019-01-04 15:35:00                 1       99.99   \n",
       "2019-01-04 15:35:00                 1       99.99   \n",
       "2019-04-30 18:11:00                 1      119.99   \n",
       "\n",
       "                                                Purchase Address  Total price  \n",
       "Order Date                                                                     \n",
       "2019-04-29 22:16:00                Spoorstraat 92, 1085KK Zwolle        69.95  \n",
       "2019-04-21 21:41:00  Meidoornlaan 34, 1098GX Alphen aan den Rijn        59.99  \n",
       "2019-01-04 15:35:00              Meidoornstraat 54, 1044CK Venlo        99.99  \n",
       "2019-01-04 15:35:00              Meidoornstraat 54, 1044CK Venlo        99.99  \n",
       "2019-04-30 18:11:00          Frans Halsstraat 78, 1072EF Utrecht       119.99  "
      ]
     },
     "execution_count": 127,
     "metadata": {},
     "output_type": "execute_result"
    }
   ],
   "source": [
    "all_data['Total price'] = all_data['Quantity Ordered'] * all_data['Price each']\n",
    "all_data.head()"
   ]
  },
  {
   "cell_type": "markdown",
   "metadata": {},
   "source": [
    "#### Create a 'City' column"
   ]
  },
  {
   "cell_type": "code",
   "execution_count": 128,
   "metadata": {},
   "outputs": [],
   "source": [
    "def get_city(address):\n",
    "    address = address.split(',')[1]\n",
    "    address = address.split()[1:]\n",
    "    return ' '.join(map(str, address))"
   ]
  },
  {
   "cell_type": "code",
   "execution_count": 129,
   "metadata": {},
   "outputs": [
    {
     "data": {
      "text/html": [
       "<div>\n",
       "<style scoped>\n",
       "    .dataframe tbody tr th:only-of-type {\n",
       "        vertical-align: middle;\n",
       "    }\n",
       "\n",
       "    .dataframe tbody tr th {\n",
       "        vertical-align: top;\n",
       "    }\n",
       "\n",
       "    .dataframe thead th {\n",
       "        text-align: right;\n",
       "    }\n",
       "</style>\n",
       "<table border=\"1\" class=\"dataframe\">\n",
       "  <thead>\n",
       "    <tr style=\"text-align: right;\">\n",
       "      <th></th>\n",
       "      <th>Order ID</th>\n",
       "      <th>Category</th>\n",
       "      <th>Gender</th>\n",
       "      <th>Product</th>\n",
       "      <th>Size</th>\n",
       "      <th>Color</th>\n",
       "      <th>Quantity Ordered</th>\n",
       "      <th>Price each</th>\n",
       "      <th>Purchase Address</th>\n",
       "      <th>Total price</th>\n",
       "      <th>City</th>\n",
       "    </tr>\n",
       "    <tr>\n",
       "      <th>Order Date</th>\n",
       "      <th></th>\n",
       "      <th></th>\n",
       "      <th></th>\n",
       "      <th></th>\n",
       "      <th></th>\n",
       "      <th></th>\n",
       "      <th></th>\n",
       "      <th></th>\n",
       "      <th></th>\n",
       "      <th></th>\n",
       "      <th></th>\n",
       "    </tr>\n",
       "  </thead>\n",
       "  <tbody>\n",
       "    <tr>\n",
       "      <th>2019-04-29 22:16:00</th>\n",
       "      <td>40092</td>\n",
       "      <td>Shoes</td>\n",
       "      <td>F</td>\n",
       "      <td>Wedges</td>\n",
       "      <td>36.0</td>\n",
       "      <td>brown</td>\n",
       "      <td>1</td>\n",
       "      <td>69.95</td>\n",
       "      <td>Spoorstraat 92, 1085KK Zwolle</td>\n",
       "      <td>69.95</td>\n",
       "      <td>Zwolle</td>\n",
       "    </tr>\n",
       "    <tr>\n",
       "      <th>2019-04-21 21:41:00</th>\n",
       "      <td>40093</td>\n",
       "      <td>Bags</td>\n",
       "      <td>F</td>\n",
       "      <td>Backpack</td>\n",
       "      <td>NaN</td>\n",
       "      <td>white</td>\n",
       "      <td>1</td>\n",
       "      <td>59.99</td>\n",
       "      <td>Meidoornlaan 34, 1098GX Alphen aan den Rijn</td>\n",
       "      <td>59.99</td>\n",
       "      <td>Alphen aan den Rijn</td>\n",
       "    </tr>\n",
       "    <tr>\n",
       "      <th>2019-01-04 15:35:00</th>\n",
       "      <td>40094</td>\n",
       "      <td>Shoes</td>\n",
       "      <td>M</td>\n",
       "      <td>Sneakers</td>\n",
       "      <td>38.0</td>\n",
       "      <td>beige</td>\n",
       "      <td>1</td>\n",
       "      <td>99.99</td>\n",
       "      <td>Meidoornstraat 54, 1044CK Venlo</td>\n",
       "      <td>99.99</td>\n",
       "      <td>Venlo</td>\n",
       "    </tr>\n",
       "    <tr>\n",
       "      <th>2019-01-04 15:35:00</th>\n",
       "      <td>40094</td>\n",
       "      <td>Shoes</td>\n",
       "      <td>M</td>\n",
       "      <td>Sneakers</td>\n",
       "      <td>38.0</td>\n",
       "      <td>grey</td>\n",
       "      <td>1</td>\n",
       "      <td>99.99</td>\n",
       "      <td>Meidoornstraat 54, 1044CK Venlo</td>\n",
       "      <td>99.99</td>\n",
       "      <td>Venlo</td>\n",
       "    </tr>\n",
       "    <tr>\n",
       "      <th>2019-04-30 18:11:00</th>\n",
       "      <td>40095</td>\n",
       "      <td>Shoes</td>\n",
       "      <td>M</td>\n",
       "      <td>Combat</td>\n",
       "      <td>35.0</td>\n",
       "      <td>multicolor</td>\n",
       "      <td>1</td>\n",
       "      <td>119.99</td>\n",
       "      <td>Frans Halsstraat 78, 1072EF Utrecht</td>\n",
       "      <td>119.99</td>\n",
       "      <td>Utrecht</td>\n",
       "    </tr>\n",
       "  </tbody>\n",
       "</table>\n",
       "</div>"
      ],
      "text/plain": [
       "                     Order ID Category Gender   Product  Size       Color  \\\n",
       "Order Date                                                                  \n",
       "2019-04-29 22:16:00     40092    Shoes      F    Wedges  36.0       brown   \n",
       "2019-04-21 21:41:00     40093     Bags      F  Backpack   NaN       white   \n",
       "2019-01-04 15:35:00     40094    Shoes      M  Sneakers  38.0       beige   \n",
       "2019-01-04 15:35:00     40094    Shoes      M  Sneakers  38.0        grey   \n",
       "2019-04-30 18:11:00     40095    Shoes      M    Combat  35.0  multicolor   \n",
       "\n",
       "                     Quantity Ordered  Price each  \\\n",
       "Order Date                                          \n",
       "2019-04-29 22:16:00                 1       69.95   \n",
       "2019-04-21 21:41:00                 1       59.99   \n",
       "2019-01-04 15:35:00                 1       99.99   \n",
       "2019-01-04 15:35:00                 1       99.99   \n",
       "2019-04-30 18:11:00                 1      119.99   \n",
       "\n",
       "                                                Purchase Address  Total price  \\\n",
       "Order Date                                                                      \n",
       "2019-04-29 22:16:00                Spoorstraat 92, 1085KK Zwolle        69.95   \n",
       "2019-04-21 21:41:00  Meidoornlaan 34, 1098GX Alphen aan den Rijn        59.99   \n",
       "2019-01-04 15:35:00              Meidoornstraat 54, 1044CK Venlo        99.99   \n",
       "2019-01-04 15:35:00              Meidoornstraat 54, 1044CK Venlo        99.99   \n",
       "2019-04-30 18:11:00          Frans Halsstraat 78, 1072EF Utrecht       119.99   \n",
       "\n",
       "                                    City  \n",
       "Order Date                                \n",
       "2019-04-29 22:16:00               Zwolle  \n",
       "2019-04-21 21:41:00  Alphen aan den Rijn  \n",
       "2019-01-04 15:35:00                Venlo  \n",
       "2019-01-04 15:35:00                Venlo  \n",
       "2019-04-30 18:11:00              Utrecht  "
      ]
     },
     "execution_count": 129,
     "metadata": {},
     "output_type": "execute_result"
    }
   ],
   "source": [
    "all_data['City'] = all_data['Purchase Address'].apply(lambda x: get_city(x))\n",
    "all_data.head()"
   ]
  },
  {
   "cell_type": "markdown",
   "metadata": {},
   "source": [
    "#### How much money was earned in 2019?"
   ]
  },
  {
   "cell_type": "code",
   "execution_count": 130,
   "metadata": {},
   "outputs": [
    {
     "data": {
      "text/plain": [
       "1389304.5"
      ]
     },
     "execution_count": 130,
     "metadata": {},
     "output_type": "execute_result"
    }
   ],
   "source": [
    "total_2019 = all_data['Total price'].sum().round(2)\n",
    "total_2019"
   ]
  },
  {
   "cell_type": "markdown",
   "metadata": {},
   "source": [
    "#### What was the best month for sales? How much was earned that month?"
   ]
  },
  {
   "cell_type": "code",
   "execution_count": 131,
   "metadata": {},
   "outputs": [],
   "source": [
    "month_data = all_data.groupby(all_data.index.month)['Total price'].sum()"
   ]
  },
  {
   "cell_type": "code",
   "execution_count": 132,
   "metadata": {},
   "outputs": [
    {
     "data": {
      "text/plain": [
       "Order Date\n",
       "10    139346.97\n",
       "9     128679.04\n",
       "5     125910.12\n",
       "12    122800.11\n",
       "6     121129.20\n",
       "4     117348.02\n",
       "11    114566.36\n",
       "7     110860.50\n",
       "8     109821.81\n",
       "3     108816.51\n",
       "1     100931.02\n",
       "2      89094.84\n",
       "Name: Total price, dtype: float64"
      ]
     },
     "execution_count": 132,
     "metadata": {},
     "output_type": "execute_result"
    }
   ],
   "source": [
    "month_data.sort_values(ascending=False)"
   ]
  },
  {
   "cell_type": "code",
   "execution_count": 133,
   "metadata": {},
   "outputs": [
    {
     "data": {
      "image/png": "[encoded data removed]",
      "text/plain": [
       "<Figure size 432x288 with 1 Axes>"
      ]
     },
     "metadata": {
      "needs_background": "light"
     },
     "output_type": "display_data"
    }
   ],
   "source": [
    "color = ['darkorange' if month == 10 else 'silver' for month in month_data.index]\n",
    "fig, ax = plt.subplots()\n",
    "ax = month_data.plot(kind='bar', color=color)\n",
    "ax.set_xlabel('Month number')\n",
    "ax.set_ylabel('Total sales in euros')\n",
    "ax.set_title('Total sales per month')\n",
    "plt.show()"
   ]
  },
  {
   "cell_type": "markdown",
   "metadata": {},
   "source": [
    "October was the best month for sales. In October the store earned €139346,97."
   ]
  },
  {
   "cell_type": "markdown",
   "metadata": {},
   "source": [
    "### What city had the highest number of sales?"
   ]
  },
  {
   "cell_type": "code",
   "execution_count": 134,
   "metadata": {},
   "outputs": [
    {
     "data": {
      "text/plain": [
       "City\n",
       "Amsterdam              201321.04\n",
       "Rotterdam              148366.25\n",
       "Den Haag               125071.36\n",
       "Utrecht                 72345.13\n",
       "Groningen               52635.29\n",
       "Tilburg                 47599.22\n",
       "Almere                  47372.33\n",
       "Eindhoven               47152.28\n",
       "Nijmegen                41371.84\n",
       "Breda                   40522.92\n",
       "Amersfoort              37932.63\n",
       "Apeldoorn               35736.11\n",
       "Enschede                34175.52\n",
       "Zaandam                 33929.89\n",
       "'s-Hertogenbosch        33397.26\n",
       "Haarlem                 32890.10\n",
       "Arnhem                  32346.18\n",
       "Zwolle                  29283.05\n",
       "Leiden                  28979.19\n",
       "Ede                     28109.64\n",
       "Zoetermeer              26509.83\n",
       "Maastricht              26223.91\n",
       "Dordrecht               25686.01\n",
       "Leeuwarden              25421.33\n",
       "Emmen                   23811.39\n",
       "Delft                   23292.38\n",
       "Alphen aan den Rijn     23127.32\n",
       "Venlo                   22286.62\n",
       "Alkmaar                 21247.48\n",
       "Deventer                21161.00\n",
       "Name: Total price, dtype: float64"
      ]
     },
     "execution_count": 134,
     "metadata": {},
     "output_type": "execute_result"
    }
   ],
   "source": [
    "sales_city = all_data.groupby('City')['Total price'].sum()\n",
    "sales_city.sort_values(ascending=False)"
   ]
  },
  {
   "cell_type": "code",
   "execution_count": 135,
   "metadata": {},
   "outputs": [
    {
     "data": {
      "image/png": "[encoded data removed]",
      "text/plain": [
       "<Figure size 576x360 with 1 Axes>"
      ]
     },
     "metadata": {
      "needs_background": "light"
     },
     "output_type": "display_data"
    }
   ],
   "source": [
    "color = ['darkorange' if city == 'Amsterdam' else 'silver' for city in sales_city.index]\n",
    "fig, ax = plt.subplots(figsize=[8,5])\n",
    "ax = sales_city.plot(kind='bar', color=color)\n",
    "ax.set_xlabel('')\n",
    "ax.set_ylabel('Total sales in euros')\n",
    "ax.set_title('Sales per city')\n",
    "plt.show()"
   ]
  },
  {
   "cell_type": "markdown",
   "metadata": {},
   "source": [
    "### What time should advertisements be displayed to maximize likelihood of customer's buying a product?"
   ]
  },
  {
   "cell_type": "code",
   "execution_count": 136,
   "metadata": {},
   "outputs": [
    {
     "data": {
      "text/plain": [
       "Order Date\n",
       "0     289\n",
       "1     158\n",
       "2      81\n",
       "3      70\n",
       "4      51\n",
       "5     115\n",
       "6     174\n",
       "7     272\n",
       "8     467\n",
       "9     625\n",
       "10    852\n",
       "11    928\n",
       "12    925\n",
       "13    840\n",
       "14    853\n",
       "15    750\n",
       "16    737\n",
       "17    809\n",
       "18    922\n",
       "19    906\n",
       "20    896\n",
       "21    804\n",
       "22    597\n",
       "23    465\n",
       "Name: Order ID, dtype: int64"
      ]
     },
     "execution_count": 136,
     "metadata": {},
     "output_type": "execute_result"
    }
   ],
   "source": [
    "hour_data = all_data.groupby(all_data.index.hour)['Order ID'].nunique()\n",
    "hour_data"
   ]
  },
  {
   "cell_type": "code",
   "execution_count": 137,
   "metadata": {},
   "outputs": [
    {
     "data": {
      "image/png": "[encoded data removed]",
      "text/plain": [
       "<Figure size 576x360 with 1 Axes>"
      ]
     },
     "metadata": {
      "needs_background": "light"
     },
     "output_type": "display_data"
    }
   ],
   "source": [
    "fig, ax = plt.subplots(figsize=[8,5])\n",
    "ax = hour_data.plot()\n",
    "ax.set_xticks(hour_data.index)\n",
    "ax.set_xlabel('Hour')\n",
    "ax.set_ylabel('Number of orders')\n",
    "ax.set_title('Number of orders per hour')\n",
    "ax.grid()\n",
    "plt.show()"
   ]
  },
  {
   "cell_type": "markdown",
   "metadata": {},
   "source": [
    "Most sales occur between 11am-12pm and 6pm-8pm."
   ]
  },
  {
   "cell_type": "markdown",
   "metadata": {},
   "source": [
    "### Women"
   ]
  },
  {
   "cell_type": "code",
   "execution_count": 138,
   "metadata": {},
   "outputs": [
    {
     "data": {
      "text/html": [
       "<div>\n",
       "<style scoped>\n",
       "    .dataframe tbody tr th:only-of-type {\n",
       "        vertical-align: middle;\n",
       "    }\n",
       "\n",
       "    .dataframe tbody tr th {\n",
       "        vertical-align: top;\n",
       "    }\n",
       "\n",
       "    .dataframe thead th {\n",
       "        text-align: right;\n",
       "    }\n",
       "</style>\n",
       "<table border=\"1\" class=\"dataframe\">\n",
       "  <thead>\n",
       "    <tr style=\"text-align: right;\">\n",
       "      <th></th>\n",
       "      <th>Order ID</th>\n",
       "      <th>Category</th>\n",
       "      <th>Gender</th>\n",
       "      <th>Product</th>\n",
       "      <th>Size</th>\n",
       "      <th>Color</th>\n",
       "      <th>Quantity Ordered</th>\n",
       "      <th>Price each</th>\n",
       "      <th>Purchase Address</th>\n",
       "      <th>Total price</th>\n",
       "      <th>City</th>\n",
       "    </tr>\n",
       "    <tr>\n",
       "      <th>Order Date</th>\n",
       "      <th></th>\n",
       "      <th></th>\n",
       "      <th></th>\n",
       "      <th></th>\n",
       "      <th></th>\n",
       "      <th></th>\n",
       "      <th></th>\n",
       "      <th></th>\n",
       "      <th></th>\n",
       "      <th></th>\n",
       "      <th></th>\n",
       "    </tr>\n",
       "  </thead>\n",
       "  <tbody>\n",
       "    <tr>\n",
       "      <th>2019-04-29 22:16:00</th>\n",
       "      <td>40092</td>\n",
       "      <td>Shoes</td>\n",
       "      <td>F</td>\n",
       "      <td>Wedges</td>\n",
       "      <td>36.0</td>\n",
       "      <td>brown</td>\n",
       "      <td>1</td>\n",
       "      <td>69.95</td>\n",
       "      <td>Spoorstraat 92, 1085KK Zwolle</td>\n",
       "      <td>69.95</td>\n",
       "      <td>Zwolle</td>\n",
       "    </tr>\n",
       "    <tr>\n",
       "      <th>2019-04-15 13:16:00</th>\n",
       "      <td>40096</td>\n",
       "      <td>Shoes</td>\n",
       "      <td>F</td>\n",
       "      <td>Sneakers</td>\n",
       "      <td>41.0</td>\n",
       "      <td>brown</td>\n",
       "      <td>1</td>\n",
       "      <td>99.99</td>\n",
       "      <td>Hogeweg 86, 1061HO Amsterdam</td>\n",
       "      <td>99.99</td>\n",
       "      <td>Amsterdam</td>\n",
       "    </tr>\n",
       "    <tr>\n",
       "      <th>2019-02-04 18:19:00</th>\n",
       "      <td>40101</td>\n",
       "      <td>Shoes</td>\n",
       "      <td>F</td>\n",
       "      <td>Ballerinas</td>\n",
       "      <td>41.0</td>\n",
       "      <td>black</td>\n",
       "      <td>1</td>\n",
       "      <td>79.95</td>\n",
       "      <td>Dahliastraat 7, 1044AR Tilburg</td>\n",
       "      <td>79.95</td>\n",
       "      <td>Tilburg</td>\n",
       "    </tr>\n",
       "    <tr>\n",
       "      <th>2019-08-04 18:16:00</th>\n",
       "      <td>40103</td>\n",
       "      <td>Shoes</td>\n",
       "      <td>F</td>\n",
       "      <td>Wedges</td>\n",
       "      <td>41.0</td>\n",
       "      <td>grey</td>\n",
       "      <td>1</td>\n",
       "      <td>69.95</td>\n",
       "      <td>Molenweg 83, 1053DG Rotterdam</td>\n",
       "      <td>69.95</td>\n",
       "      <td>Rotterdam</td>\n",
       "    </tr>\n",
       "    <tr>\n",
       "      <th>2019-03-04 12:13:00</th>\n",
       "      <td>40104</td>\n",
       "      <td>Shoes</td>\n",
       "      <td>F</td>\n",
       "      <td>Ballerinas</td>\n",
       "      <td>41.0</td>\n",
       "      <td>black</td>\n",
       "      <td>1</td>\n",
       "      <td>79.95</td>\n",
       "      <td>Hoofdstraat 21, 1033MV Delft</td>\n",
       "      <td>79.95</td>\n",
       "      <td>Delft</td>\n",
       "    </tr>\n",
       "  </tbody>\n",
       "</table>\n",
       "</div>"
      ],
      "text/plain": [
       "                     Order ID Category Gender     Product  Size  Color  \\\n",
       "Order Date                                                               \n",
       "2019-04-29 22:16:00     40092    Shoes      F      Wedges  36.0  brown   \n",
       "2019-04-15 13:16:00     40096    Shoes      F    Sneakers  41.0  brown   \n",
       "2019-02-04 18:19:00     40101    Shoes      F  Ballerinas  41.0  black   \n",
       "2019-08-04 18:16:00     40103    Shoes      F      Wedges  41.0   grey   \n",
       "2019-03-04 12:13:00     40104    Shoes      F  Ballerinas  41.0  black   \n",
       "\n",
       "                     Quantity Ordered  Price each  \\\n",
       "Order Date                                          \n",
       "2019-04-29 22:16:00                 1       69.95   \n",
       "2019-04-15 13:16:00                 1       99.99   \n",
       "2019-02-04 18:19:00                 1       79.95   \n",
       "2019-08-04 18:16:00                 1       69.95   \n",
       "2019-03-04 12:13:00                 1       79.95   \n",
       "\n",
       "                                   Purchase Address  Total price       City  \n",
       "Order Date                                                                   \n",
       "2019-04-29 22:16:00   Spoorstraat 92, 1085KK Zwolle        69.95     Zwolle  \n",
       "2019-04-15 13:16:00    Hogeweg 86, 1061HO Amsterdam        99.99  Amsterdam  \n",
       "2019-02-04 18:19:00  Dahliastraat 7, 1044AR Tilburg        79.95    Tilburg  \n",
       "2019-08-04 18:16:00   Molenweg 83, 1053DG Rotterdam        69.95  Rotterdam  \n",
       "2019-03-04 12:13:00    Hoofdstraat 21, 1033MV Delft        79.95      Delft  "
      ]
     },
     "execution_count": 138,
     "metadata": {},
     "output_type": "execute_result"
    }
   ],
   "source": [
    "womens_shoes = all_data[(all_data['Category'] == 'Shoes') & (all_data['Gender'] == 'F')]\n",
    "womens_shoes.head()"
   ]
  },
  {
   "cell_type": "code",
   "execution_count": 139,
   "metadata": {},
   "outputs": [],
   "source": [
    "product_count = womens_shoes.groupby('Product', observed=True)['Quantity Ordered'].sum()"
   ]
  },
  {
   "cell_type": "code",
   "execution_count": 140,
   "metadata": {},
   "outputs": [
    {
     "data": {
      "image/png": "[encoded data removed]",
      "text/plain": [
       "<Figure size 576x360 with 1 Axes>"
      ]
     },
     "metadata": {
      "needs_background": "light"
     },
     "output_type": "display_data"
    }
   ],
   "source": [
    "fig, ax = plt.subplots(figsize=[8,5])\n",
    "ax = product_count.plot(kind='bar')\n",
    "ax.set_xlabel('')\n",
    "ax.set_ylabel('Quantity ordered')\n",
    "ax.set_title('Quantity ordered per kind of shoe in 2019')\n",
    "plt.show()"
   ]
  },
  {
   "cell_type": "code",
   "execution_count": 141,
   "metadata": {},
   "outputs": [
    {
     "data": {
      "text/html": [
       "<div>\n",
       "<style scoped>\n",
       "    .dataframe tbody tr th:only-of-type {\n",
       "        vertical-align: middle;\n",
       "    }\n",
       "\n",
       "    .dataframe tbody tr th {\n",
       "        vertical-align: top;\n",
       "    }\n",
       "\n",
       "    .dataframe thead th {\n",
       "        text-align: right;\n",
       "    }\n",
       "</style>\n",
       "<table border=\"1\" class=\"dataframe\">\n",
       "  <thead>\n",
       "    <tr style=\"text-align: right;\">\n",
       "      <th>Product</th>\n",
       "      <th>Ankle Boots</th>\n",
       "      <th>Ballerinas</th>\n",
       "      <th>Calf Boots</th>\n",
       "      <th>Flip Flops</th>\n",
       "      <th>Pumps</th>\n",
       "      <th>Sandals</th>\n",
       "      <th>Sneakers</th>\n",
       "      <th>Wedges</th>\n",
       "    </tr>\n",
       "    <tr>\n",
       "      <th>Order Date</th>\n",
       "      <th></th>\n",
       "      <th></th>\n",
       "      <th></th>\n",
       "      <th></th>\n",
       "      <th></th>\n",
       "      <th></th>\n",
       "      <th></th>\n",
       "      <th></th>\n",
       "    </tr>\n",
       "  </thead>\n",
       "  <tbody>\n",
       "    <tr>\n",
       "      <th>1</th>\n",
       "      <td>87</td>\n",
       "      <td>67</td>\n",
       "      <td>84</td>\n",
       "      <td>28</td>\n",
       "      <td>91</td>\n",
       "      <td>31</td>\n",
       "      <td>111</td>\n",
       "      <td>38</td>\n",
       "    </tr>\n",
       "    <tr>\n",
       "      <th>2</th>\n",
       "      <td>39</td>\n",
       "      <td>82</td>\n",
       "      <td>20</td>\n",
       "      <td>43</td>\n",
       "      <td>89</td>\n",
       "      <td>37</td>\n",
       "      <td>137</td>\n",
       "      <td>49</td>\n",
       "    </tr>\n",
       "    <tr>\n",
       "      <th>3</th>\n",
       "      <td>59</td>\n",
       "      <td>112</td>\n",
       "      <td>40</td>\n",
       "      <td>39</td>\n",
       "      <td>115</td>\n",
       "      <td>41</td>\n",
       "      <td>130</td>\n",
       "      <td>67</td>\n",
       "    </tr>\n",
       "    <tr>\n",
       "      <th>4</th>\n",
       "      <td>50</td>\n",
       "      <td>134</td>\n",
       "      <td>37</td>\n",
       "      <td>31</td>\n",
       "      <td>130</td>\n",
       "      <td>41</td>\n",
       "      <td>171</td>\n",
       "      <td>83</td>\n",
       "    </tr>\n",
       "    <tr>\n",
       "      <th>5</th>\n",
       "      <td>35</td>\n",
       "      <td>115</td>\n",
       "      <td>35</td>\n",
       "      <td>135</td>\n",
       "      <td>127</td>\n",
       "      <td>128</td>\n",
       "      <td>106</td>\n",
       "      <td>128</td>\n",
       "    </tr>\n",
       "    <tr>\n",
       "      <th>6</th>\n",
       "      <td>35</td>\n",
       "      <td>125</td>\n",
       "      <td>28</td>\n",
       "      <td>135</td>\n",
       "      <td>108</td>\n",
       "      <td>126</td>\n",
       "      <td>106</td>\n",
       "      <td>104</td>\n",
       "    </tr>\n",
       "    <tr>\n",
       "      <th>7</th>\n",
       "      <td>19</td>\n",
       "      <td>94</td>\n",
       "      <td>28</td>\n",
       "      <td>137</td>\n",
       "      <td>98</td>\n",
       "      <td>113</td>\n",
       "      <td>129</td>\n",
       "      <td>116</td>\n",
       "    </tr>\n",
       "    <tr>\n",
       "      <th>8</th>\n",
       "      <td>46</td>\n",
       "      <td>98</td>\n",
       "      <td>32</td>\n",
       "      <td>23</td>\n",
       "      <td>112</td>\n",
       "      <td>33</td>\n",
       "      <td>141</td>\n",
       "      <td>78</td>\n",
       "    </tr>\n",
       "    <tr>\n",
       "      <th>9</th>\n",
       "      <td>58</td>\n",
       "      <td>122</td>\n",
       "      <td>37</td>\n",
       "      <td>51</td>\n",
       "      <td>138</td>\n",
       "      <td>23</td>\n",
       "      <td>203</td>\n",
       "      <td>80</td>\n",
       "    </tr>\n",
       "    <tr>\n",
       "      <th>10</th>\n",
       "      <td>59</td>\n",
       "      <td>132</td>\n",
       "      <td>48</td>\n",
       "      <td>46</td>\n",
       "      <td>127</td>\n",
       "      <td>38</td>\n",
       "      <td>198</td>\n",
       "      <td>88</td>\n",
       "    </tr>\n",
       "    <tr>\n",
       "      <th>11</th>\n",
       "      <td>110</td>\n",
       "      <td>62</td>\n",
       "      <td>109</td>\n",
       "      <td>26</td>\n",
       "      <td>85</td>\n",
       "      <td>24</td>\n",
       "      <td>97</td>\n",
       "      <td>53</td>\n",
       "    </tr>\n",
       "    <tr>\n",
       "      <th>12</th>\n",
       "      <td>115</td>\n",
       "      <td>63</td>\n",
       "      <td>113</td>\n",
       "      <td>39</td>\n",
       "      <td>110</td>\n",
       "      <td>24</td>\n",
       "      <td>127</td>\n",
       "      <td>60</td>\n",
       "    </tr>\n",
       "  </tbody>\n",
       "</table>\n",
       "</div>"
      ],
      "text/plain": [
       "Product     Ankle Boots  Ballerinas  Calf Boots  Flip Flops  Pumps  Sandals  \\\n",
       "Order Date                                                                    \n",
       "1                    87          67          84          28     91       31   \n",
       "2                    39          82          20          43     89       37   \n",
       "3                    59         112          40          39    115       41   \n",
       "4                    50         134          37          31    130       41   \n",
       "5                    35         115          35         135    127      128   \n",
       "6                    35         125          28         135    108      126   \n",
       "7                    19          94          28         137     98      113   \n",
       "8                    46          98          32          23    112       33   \n",
       "9                    58         122          37          51    138       23   \n",
       "10                   59         132          48          46    127       38   \n",
       "11                  110          62         109          26     85       24   \n",
       "12                  115          63         113          39    110       24   \n",
       "\n",
       "Product     Sneakers  Wedges  \n",
       "Order Date                    \n",
       "1                111      38  \n",
       "2                137      49  \n",
       "3                130      67  \n",
       "4                171      83  \n",
       "5                106     128  \n",
       "6                106     104  \n",
       "7                129     116  \n",
       "8                141      78  \n",
       "9                203      80  \n",
       "10               198      88  \n",
       "11                97      53  \n",
       "12               127      60  "
      ]
     },
     "execution_count": 141,
     "metadata": {},
     "output_type": "execute_result"
    }
   ],
   "source": [
    "product_time = pd.pivot_table(womens_shoes, values='Quantity Ordered', columns='Product', index=womens_shoes.index.month, aggfunc='sum')\n",
    "product_time"
   ]
  },
  {
   "cell_type": "code",
   "execution_count": 143,
   "metadata": {
    "scrolled": true
   },
   "outputs": [
    {
     "data": {
      "image/png": "[encoded data removed]",
      "text/plain": [
       "<Figure size 1152x720 with 8 Axes>"
      ]
     },
     "metadata": {
      "needs_background": "light"
     },
     "output_type": "display_data"
    }
   ],
   "source": [
    "product_time.plot(subplots=True, layout=(2,4), figsize=(16,10), linewidth=2, xticks=product_time.index, \n",
    "                  sharex=False, sharey=True)\n",
    "plt.show()"
   ]
  },
  {
   "cell_type": "code",
   "execution_count": null,
   "metadata": {},
   "outputs": [],
   "source": []
  },
  {
   "cell_type": "code",
   "execution_count": null,
   "metadata": {},
   "outputs": [],
   "source": []
  },
  {
   "cell_type": "code",
   "execution_count": null,
   "metadata": {},
   "outputs": [],
   "source": []
  },
  {
   "cell_type": "code",
   "execution_count": null,
   "metadata": {},
   "outputs": [],
   "source": []
  },
  {
   "cell_type": "code",
   "execution_count": null,
   "metadata": {},
   "outputs": [],
   "source": []
  },
  {
   "cell_type": "code",
   "execution_count": null,
   "metadata": {},
   "outputs": [],
   "source": []
  },
  {
   "cell_type": "code",
   "execution_count": null,
   "metadata": {},
   "outputs": [],
   "source": []
  },
  {
   "cell_type": "code",
   "execution_count": null,
   "metadata": {},
   "outputs": [],
   "source": []
  },
  {
   "cell_type": "code",
   "execution_count": null,
   "metadata": {},
   "outputs": [],
   "source": []
  },
  {
   "cell_type": "code",
   "execution_count": null,
   "metadata": {},
   "outputs": [],
   "source": []
  },
  {
   "cell_type": "code",
   "execution_count": null,
   "metadata": {},
   "outputs": [],
   "source": []
  }
 ],
 "metadata": {
  "kernelspec": {
   "display_name": "Python 3",
   "language": "python",
   "name": "python3"
  },
  "language_info": {
   "codemirror_mode": {
    "name": "ipython",
    "version": 3
   },
   "file_extension": ".py",
   "mimetype": "text/x-python",
   "name": "python",
   "nbconvert_exporter": "python",
   "pygments_lexer": "ipython3",
   "version": "3.8.0"
  }
 },
 "nbformat": 4,
 "nbformat_minor": 4
}
