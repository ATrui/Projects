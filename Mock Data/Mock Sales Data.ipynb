{
 "cells": [
  {
   "cell_type": "markdown",
   "metadata": {},
   "source": [
    "# Creating Mock Sales Data"
   ]
  },
  {
   "cell_type": "markdown",
   "metadata": {},
   "source": [
    "Inspired by Keith Galli, who did a video about creating mock sales data (https://www.youtube.com/watch?v=VJBY2eVtf7o&t=3250s), I decided to create my own mock sales dataset based on his tutorial. The best way for me to begin the process of creating this dataset was to look at my own experiences. I've worked for 5 years in a shoestore and decided therefore to create data for a fictional online shoestore based in the Netherlands."
   ]
  },
  {
   "cell_type": "markdown",
   "metadata": {},
   "source": [
    "### Import modules"
   ]
  },
  {
   "cell_type": "code",
   "execution_count": 1,
   "metadata": {},
   "outputs": [],
   "source": [
    "import pandas as pd\n",
    "import numpy as np\n",
    "import datetime\n",
    "import random\n",
    "import string\n",
    "import calendar"
   ]
  },
  {
   "cell_type": "markdown",
   "metadata": {},
   "source": [
    "### Creating the products the store is selling\n",
    "I looked at the website of the shoestore I used to work for (www.manfield.com) and the types of shoes, the prices and the colors. This resulted in creating different dictionaries."
   ]
  },
  {
   "cell_type": "markdown",
   "metadata": {},
   "source": [
    "The dictionaries for the shoes, bags and accessories. Each key in the dictionary has a list as it's value. This list consist of the price of the product and different weights. The weights are used when choosing the product that's being sold using random.choices. For the shoes and accessories I choose weights based on season. As an example: Flip Flops and Sunglasses are more likely to be sold in summer and less likely in the winter."
   ]
  },
  {
   "cell_type": "code",
   "execution_count": 2,
   "metadata": {},
   "outputs": [],
   "source": [
    "womens_shoes = {\n",
    "    # Product: [Price, Summer_weights, Winter_weights, Normal_weights]\n",
    "    'Flip Flops': [29.99, 10, 1, 1],\n",
    "    'Sandals': [49.99, 10, 1, 1],\n",
    "    'Wedges': [69.95, 8, 2, 3],\n",
    "    'Ballerinas': [79.95, 7, 3, 5],\n",
    "    'Sneakers': [99.99, 5, 7, 8],\n",
    "    'Pumps': [89.99, 6, 6, 5],\n",
    "    'Ankle Boots': [119.99, 1, 10, 2],\n",
    "    'Calf Boots': [149.99, 1, 10, 1],\n",
    "}"
   ]
  },
  {
   "cell_type": "code",
   "execution_count": 3,
   "metadata": {},
   "outputs": [],
   "source": [
    "mens_shoes = {\n",
    "    # Product: [Price, Summer_weights, Winter_weights, Normal_weights]\n",
    "    'Flip Flops': [29.99, 10, 1, 1],\n",
    "    'Sandals': [49.99, 10, 1, 1],\n",
    "    'Boat shoes': [59.99, 8, 1, 2],\n",
    "    'Loafers': [69.99, 7, 1, 3],\n",
    "    'Sneakers': [99.99, 6, 6, 6],\n",
    "    'Boots': [119.99, 1, 10, 4],\n",
    "    'Combat': [119.99, 1, 9, 5]\n",
    "}"
   ]
  },
  {
   "cell_type": "code",
   "execution_count": 4,
   "metadata": {},
   "outputs": [],
   "source": [
    "accessories = {\n",
    "    # Product: [Price, summer_weights, winter_weights, normal_weights]\n",
    "    'Socks': [7.99, 1, 4, 4],\n",
    "    'Gloves': [14.99, 0, 10, 0],\n",
    "    'Scarf': [24.99, 0, 10, 3],\n",
    "    'Belt': [29.99, 3, 3, 3],\n",
    "    'Wallet': [19.99, 2, 2, 2],\n",
    "    'Summerhat': [24.99, 10, 0, 0],\n",
    "    'Sunglasses': [39.99, 10, 0.5, 3],\n",
    "    'Shoe care': [8.99, 5, 5, 5]\n",
    "}"
   ]
  },
  {
   "cell_type": "markdown",
   "metadata": {},
   "source": [
    "In the dictionaries for bags and colors I choose to use weights based on gender. Making it so that men are a little bit more conservative."
   ]
  },
  {
   "cell_type": "code",
   "execution_count": 5,
   "metadata": {},
   "outputs": [],
   "source": [
    "bags = {\n",
    "    # Product: [Price, womens_weights, mens_weights]\n",
    "    'Handbag': [99.99, 1, 0],\n",
    "    'Shoulderbag': [79.99, 1, 1],\n",
    "    'Shopper': [79.99, 1, 0],\n",
    "    'Clutch': [39.99, 1, 0],\n",
    "    'Backpack': [59.99, 1, 1],\n",
    "    'Laptopbag': [99.99, 1, 1]\n",
    "}"
   ]
  },
  {
   "cell_type": "code",
   "execution_count": 6,
   "metadata": {},
   "outputs": [],
   "source": [
    "colors = {\n",
    "    # Colors: [womens_weights, mens_weights]\n",
    "    'black': [12, 10],\n",
    "    'brown': [10, 10],\n",
    "    'grey': [10, 9],\n",
    "    'beige': [9, 9],\n",
    "    'white': [3, 2],\n",
    "    'multicolor': [5, 3],\n",
    "    'blue': [1, 1],\n",
    "    'green': [1, 1],\n",
    "    'red': [1, 1],\n",
    "    'pink': [1, 0],\n",
    "    'silver': [1, 0],\n",
    "    'gold': [1, 0]\n",
    "}"
   ]
  },
  {
   "cell_type": "markdown",
   "metadata": {},
   "source": [
    "The dictionary for shoesizes is also based on gender. When deciding what weights to use I used my knowledge of shoe sales. Womens shoes go from 35 to 42 and mens shoes from 39 to 47. The shoesizes most sold are 39 for women and 43 for men. The distribution of the weights I based on a normal distribution."
   ]
  },
  {
   "cell_type": "code",
   "execution_count": 7,
   "metadata": {},
   "outputs": [],
   "source": [
    "sizes = {\n",
    "    # Sizes: [womens_weights, mens_weights]\n",
    "    35: [1, 0],\n",
    "    36: [2, 0],\n",
    "    37: [3, 0],\n",
    "    38: [4, 0],\n",
    "    39: [5, 1],\n",
    "    40: [4, 3],\n",
    "    41: [3, 4],\n",
    "    42: [2, 6],\n",
    "    43: [0, 7],\n",
    "    44: [0, 5],\n",
    "    45: [0, 3],\n",
    "    46: [0, 2],\n",
    "    47: [0, 1]\n",
    "}"
   ]
  },
  {
   "cell_type": "markdown",
   "metadata": {},
   "source": [
    "### Deciding what the revenue of the year and months will be\n",
    "I searched online on what the distribution of sales would look like for a shoe store and found the bar chart here below. "
   ]
  },
  {
   "attachments": {
    "distribution%20of%20shoe%20retail%20sales%20by%20month%202016%20%28statista%29.png": {
     "image/png": "[encoded data removed]"
    }
   },
   "cell_type": "markdown",
   "metadata": {},
   "source": [
    "![distribution%20of%20shoe%20retail%20sales%20by%20month%202016%20%28statista%29.png](attachment:distribution%20of%20shoe%20retail%20sales%20by%20month%202016%20%28statista%29.png)"
   ]
  },
  {
   "cell_type": "markdown",
   "metadata": {},
   "source": [
    "This bar chart came with no extra information. At first I decided that each bar would represent how many units there were sold each month. When my dataset was complete I found that this was not the way I wanted the data to be destributed. I decided to change it to how much revenue was made each month. I had already calculated how many units per month were sold. For the revenue per year I took the total sum of the units sold and multiplied it with an average price of €65."
   ]
  },
  {
   "cell_type": "code",
   "execution_count": 8,
   "metadata": {},
   "outputs": [
    {
     "name": "stdout",
     "output_type": "stream",
     "text": [
      "1300000\n"
     ]
    }
   ],
   "source": [
    "units_p_month = [1300, 1050, 1550, 1700, 1850, 1800, 1650, 1500, 2000, 2100, 1700, 1800]\n",
    "total_units = sum(units_p_month)\n",
    "total_revenue = total_units * 65\n",
    "print(total_revenue)"
   ]
  },
  {
   "cell_type": "markdown",
   "metadata": {},
   "source": [
    "Then I calculated each months percentage of the total units and how much the revenue per month would be."
   ]
  },
  {
   "cell_type": "code",
   "execution_count": 9,
   "metadata": {},
   "outputs": [
    {
     "name": "stdout",
     "output_type": "stream",
     "text": [
      "[84500.0, 68250.0, 100750.0, 110500.0, 120250.0, 117000.0, 107250.0, 97500.0, 130000.0, 136500.0, 110500.0, 117000.0]\n"
     ]
    }
   ],
   "source": [
    "rev_p_month = []\n",
    "for i in units_p_month:\n",
    "    pct = 100/total_units * i\n",
    "    rev_month = total_revenue / 100 * pct\n",
    "    rev_p_month.append(rev_month)\n",
    "print(rev_p_month)"
   ]
  },
  {
   "cell_type": "markdown",
   "metadata": {},
   "source": [
    "I found it not to be realistic to not have perfectly round numbers for revenue each month. Therefore I choose to use numpy.random.normal and take the revenue calculated before as a mean with a stand deviation of €100."
   ]
  },
  {
   "cell_type": "code",
   "execution_count": 10,
   "metadata": {},
   "outputs": [],
   "source": [
    "sales_month = {\n",
    "    # Month with the corresponding revenue\n",
    "    'jan': int(np.random.normal(loc=rev_p_month[0], scale=100)),\n",
    "    'feb': int(np.random.normal(loc=rev_p_month[1], scale=100)),\n",
    "    'mar': int(np.random.normal(loc=rev_p_month[2], scale=100)),\n",
    "    'apr': int(np.random.normal(loc=rev_p_month[3], scale=100)),\n",
    "    'may': int(np.random.normal(loc=rev_p_month[4], scale=100)),\n",
    "    'jun': int(np.random.normal(loc=rev_p_month[5], scale=100)), \n",
    "    'jul': int(np.random.normal(loc=rev_p_month[6], scale=100)),\n",
    "    'aug': int(np.random.normal(loc=rev_p_month[7], scale=100)),\n",
    "    'sep': int(np.random.normal(loc=rev_p_month[8], scale=100)),\n",
    "    'oct': int(np.random.normal(loc=rev_p_month[9], scale=100)),\n",
    "    'nov': int(np.random.normal(loc=rev_p_month[10], scale=100)), \n",
    "    'dec': int(np.random.normal(loc=rev_p_month[11], scale=100))\n",
    "}"
   ]
  },
  {
   "cell_type": "code",
   "execution_count": 11,
   "metadata": {},
   "outputs": [
    {
     "name": "stdout",
     "output_type": "stream",
     "text": [
      "jan 84572\n",
      "feb 68181\n",
      "mar 100737\n",
      "apr 110504\n",
      "may 120265\n",
      "jun 116929\n",
      "jul 107406\n",
      "aug 97531\n",
      "sep 129887\n",
      "oct 136616\n",
      "nov 110375\n",
      "dec 116810\n"
     ]
    }
   ],
   "source": [
    "# Checking the revenue per month after np.random.normal\n",
    "for k, v in sales_month.items():\n",
    "    print(k, v)"
   ]
  },
  {
   "cell_type": "markdown",
   "metadata": {},
   "source": [
    "### Adresses\n",
    "To create the adresses for each order I needed to have streetnames, zipcodes and cities. On https://www.rtlnieuws.nl/nieuws/nederland/artikel/4643491/weinig-straatnamen-vernoemd-naar-vrouwen-straten-mannen-feminisme I found the most populair streetnames in the Netherlands  and I made a list of top 60. For the cities I used the biggest cities in the Netherlands according to https://nl.wikipedia.org/wiki/Lijst_van_grootste_gemeenten_in_Nederland. I decided not to use 2 because those were municipalities and are not used when writing your address. I assigned the first 2 numbers of number of residents as weights for each city. When choosing a city with random.choices the city with the highest weight has more change of being chosen."
   ]
  },
  {
   "cell_type": "code",
   "execution_count": 12,
   "metadata": {},
   "outputs": [],
   "source": [
    "street_names = ['Kerkstraat', 'Schoolstraat', 'Molenstraat', 'Dorpsstraat', 'Molenweg', 'Juliana-straat', 'Nieuwstraat', 'Wilhelminastraat', 'Parallelweg', 'Sportlaan', 'Industrieweg', 'Kastanjelaan', 'Beatrixstraat', 'Eikenlaan', 'Markt', 'Beukenlaan', 'Emmastraat', 'Stationsstraat', 'Stationsweg', 'Prins Bernhardstraat', 'Margrietstraat', 'Irenestraat', 'Kerkplein', 'Hoofdstraat', 'Kerkweg', 'Berkenlaan', 'Meidoornstraat', 'Raadhuisstraat', 'Leliestraat', 'Kloosterstraat', 'Oranjestraat', 'Rozenstraat', 'Spoorstraat', 'Nieuweweg', 'Bosweg', 'Hoogstraat', 'Kruisstraat', 'Tuinstraat', 'Dahliastraat', 'Torenstraat', 'Julianalaan', 'Stationsplein', 'Havenstraat', 'Lindenlaan', 'Prins Hendrikstraat', 'Rijksweg', 'Kerkpad', 'Parklaan', 'Middenweg', 'Groeneweg', 'Esdoornstraat', 'Kievitstraat', 'Raadhuisplein', 'Nijverheidsweg', 'Prins Beatrixstraat', 'Frans Halsstraat', 'Kerklaan', 'Meidoornlaan', 'Hogeweg', 'Leeuwerikstraat']\n",
    "cities_zipcode = {\n",
    "    # City: [zipcodes, weights]\n",
    "    'Amsterdam': [list(range(1000, 1100)), 87],\n",
    "    'Rotterdam': [list(range(3000, 3090)), 65],\n",
    "    'Den Haag': [list(range(2490, 2598)), 54],\n",
    "    'Utrecht': [list(range(3500, 3586)), 35],\n",
    "    'Eindhoven': [list(range(5600, 5659)), 23],\n",
    "    'Groningen': [list(range(9700, 9748)), 23],\n",
    "    'Tilburg': [list(range(5000, 5050)), 21],\n",
    "    'Almere': [list(range(1300, 1364)), 21],\n",
    "    'Breda': [list(range(4800, 4840)), 18],\n",
    "    'Nijmegen': [list(range(6500, 6547)), 17],\n",
    "    'Apeldoorn': [list(range(7300, 7337)), 16],\n",
    "    'Haarlem': [list(range(2000, 2038)), 16],\n",
    "    'Arnhem': [list(range(6800, 6847)), 16],\n",
    "    'Enschede': [list(range(7500, 7549)), 15],\n",
    "    'Amersfoort': [list(range(3800, 3827)), 15],\n",
    "    'Zaandam': [list(range(1500, 1510)), 15],\n",
    "    '\\'s-Hertogenbosch': [list(range(5200, 5238)), 15],\n",
    "    'Zwolle': [list(range(8000, 8046)), 12],\n",
    "    'Zoetermeer': [list(range(2700, 2730)), 12],\n",
    "    'Leiden': [list(range(2300, 2335)), 12],\n",
    "    'Leeuwarden': [list(range(8900, 8942)), 12],\n",
    "    'Maastricht': [list(range(6200, 6230)), 12],\n",
    "    'Dordrecht': [list(range(3300, 3330)), 11], \n",
    "    'Ede': [list(range(6710, 6719)), 11], \n",
    "    'Alphen aan den Rijn': [list(range(2400, 2410)), 11], \n",
    "    'Alkmaar': [list(range(1800, 1828)), 10], \n",
    "    'Emmen': [list(range(7800, 7829)), 10], \n",
    "    'Delft': [list(range(2600, 2630)), 10],\n",
    "    'Venlo': [list(range(5900, 5929)), 10],\n",
    "    'Deventer': [list(range(7400, 7429)), 10]\n",
    "}"
   ]
  },
  {
   "cell_type": "markdown",
   "metadata": {},
   "source": [
    "### Other things I needed to write down before creating the dataset"
   ]
  },
  {
   "cell_type": "code",
   "execution_count": 13,
   "metadata": {},
   "outputs": [],
   "source": [
    "# List of columns to create the dataframe with\n",
    "columns = ['Order ID',\n",
    "           'Category',\n",
    "           'Gender',\n",
    "           'Product',\n",
    "           'Size',\n",
    "           'Color',\n",
    "           'Quantity Ordered',\n",
    "           'Price each',\n",
    "           'Order Date',\n",
    "           'Purchase Address']"
   ]
  },
  {
   "cell_type": "code",
   "execution_count": 14,
   "metadata": {},
   "outputs": [],
   "source": [
    "# Randomly chosen order id\n",
    "order_id = 37614\n",
    "i=0"
   ]
  },
  {
   "cell_type": "code",
   "execution_count": 15,
   "metadata": {},
   "outputs": [],
   "source": [
    "# Lists to make my code more readable\n",
    "\n",
    "cities = [city for city in cities_zipcode]\n",
    "city_weights = [cities_zipcode[city][1] for city in cities_zipcode]\n",
    "zipcodes = [cities_zipcode[city][0] for city in cities_zipcode][0]\n",
    "\n",
    "sizes_list = [size for size in sizes]\n",
    "bags_list = [bag for bag in bags]\n",
    "colors_list = [color for color in colors]\n",
    "accessories_list = [accessory for accessory in accessories]\n",
    "\n",
    "womens_shoe_list = [shoe for shoe in womens_shoes]\n",
    "womens_size_weights = [sizes[size][0] for size in sizes]\n",
    "womens_color_weights = [colors[color][0] for color in colors]\n",
    "womens_bag_weights = [bags[bag][1] for bag in bags]\n",
    "\n",
    "mens_shoe_list = [shoe for shoe in mens_shoes]\n",
    "mens_size_weights = [sizes[size][0] for size in sizes]\n",
    "mens_color_weights = [colors[color][1] for color in colors]\n",
    "mens_bag_weights = [bags[bag][2] for bag in bags]"
   ]
  },
  {
   "cell_type": "markdown",
   "metadata": {},
   "source": [
    "### Functions"
   ]
  },
  {
   "cell_type": "code",
   "execution_count": 16,
   "metadata": {},
   "outputs": [],
   "source": [
    "def generate_random_address():\n",
    "    \"\"\"\n",
    "    Generates a random fictional address in the Netherlands. \n",
    "    \n",
    "    Returns\n",
    "    -------\n",
    "    str\n",
    "        Random street, housenumber, zipcode, city.\n",
    "    \n",
    "    \"\"\"\n",
    "            \n",
    "    street = random.choice(street_names)\n",
    "    housenumber = random.randrange(1, 100)\n",
    "    city = random.choices(cities, weights=city_weights)[0]\n",
    "    \n",
    "    zipcode = random.choice(zipcodes)\n",
    "    letters_list = random.choices(string.ascii_uppercase, k=2)\n",
    "    zipcode_letters = f'{letters_list[0]}{letters_list[1]}'\n",
    "    \n",
    "    return f'{street} {housenumber}, {zipcode}{zipcode_letters} {city}'"
   ]
  },
  {
   "cell_type": "code",
   "execution_count": 17,
   "metadata": {},
   "outputs": [],
   "source": [
    "def generate_random_date(month):\n",
    "    \"\"\" \n",
    "    Generates a date in de format dd/mm/year hour:minutes, with a peak around 12:00 and 20:00. \n",
    "    \n",
    "    Parameters\n",
    "    ----------\n",
    "    month: str\n",
    "        First 3 letters of the month\n",
    "    \n",
    "    Returns\n",
    "    -------\n",
    "    str\n",
    "        dd/mm/year H:M\n",
    "    \n",
    "    \"\"\"\n",
    "    \n",
    "    month_num = datetime.datetime.strptime(month, '%b').month\n",
    "    day_range = calendar.monthrange(2019, month_num)[1]\n",
    "    random_day = random.randint(1, day_range)\n",
    "    \n",
    "    if random.random() < 0.5:\n",
    "        date = datetime.datetime(2019, month_num, random_day, 12,0)\n",
    "    else:\n",
    "        date = datetime.datetime(2019, month_num, random_day, 20,0)\n",
    "    \n",
    "    time_offset = np.random.normal(loc=0, scale=180)\n",
    "    final_date = date + datetime.timedelta(minutes=time_offset)\n",
    "    \n",
    "    return final_date.strftime('%d/%m/%Y %H:%M')"
   ]
  },
  {
   "cell_type": "code",
   "execution_count": 18,
   "metadata": {},
   "outputs": [],
   "source": [
    "def cal_season_weights(product_dict, month):\n",
    "    \"\"\" \n",
    "    Finds the corresponding season weights to the month.\n",
    "    \n",
    "    The weights can be used in random.choices when choosing the products that are sold. By defining the weights some\n",
    "    products will sell better in different months.\n",
    "    \n",
    "    Summer = May, June, Juli\n",
    "    Winter = November, December, Januari\n",
    "    \n",
    "    Because shoes for each season are being sold before the season starts, begins the summer season in May and the winter\n",
    "    season in November.\n",
    "    \n",
    "    Parameters\n",
    "    ----------\n",
    "    product_dict : list\n",
    "        womens_shoes, mens_shoes or accessories\n",
    "    month: str\n",
    "        First 3 letters of the month\n",
    "    \n",
    "    Returns\n",
    "    -------\n",
    "    list\n",
    "    \n",
    "    \"\"\"\n",
    "    \n",
    "    if month == 'may' or month == 'jun' or month == 'jul':\n",
    "        season_weights = [product_dict[x][1] for x in product_dict]\n",
    "    elif month == 'nov' or month == 'dec' or month == 'jan':\n",
    "        season_weights = [product_dict[x][2] for x in product_dict]\n",
    "    else:\n",
    "        season_weights = [product_dict[x][3] for x in product_dict]\n",
    "        \n",
    "    return season_weights"
   ]
  },
  {
   "cell_type": "code",
   "execution_count": 19,
   "metadata": {},
   "outputs": [],
   "source": [
    "def choose_color(gender_weights, matching_color=False):\n",
    "    \"\"\"\n",
    "    Chooses the color of the product being sold.\n",
    "    \n",
    "    Parameters\n",
    "    ----------\n",
    "    gender_weights: list\n",
    "        womens_color_weights or mens_color_weights\n",
    "    matching_color: Bool\n",
    "        default False\n",
    "        \n",
    "    Returns\n",
    "    -------\n",
    "    str\n",
    "        color\n",
    "        \n",
    "    \"\"\"\n",
    "        \n",
    "    if matching_color == True:\n",
    "        match = df.at[i, 'Color']\n",
    "        unique = random.choices(colors_list, weights=gender_weights)[0]\n",
    "        color = random.choices([match, unique], weights=[10, 2])[0]\n",
    "    else:\n",
    "        color = random.choices(colors_list, weights=gender_weights)[0]\n",
    "            \n",
    "    return color"
   ]
  },
  {
   "cell_type": "code",
   "execution_count": 20,
   "metadata": {},
   "outputs": [],
   "source": [
    "def quantity_ordered(price):\n",
    "    \"\"\"\n",
    "    Chooses a random number for quantity based on a geometric distribution.\n",
    "    \n",
    "    The higher the price the less likely it is that there will be sold more of that product.\n",
    "    \n",
    "    Parameters\n",
    "    ----------\n",
    "    price: float\n",
    "    \n",
    "    Returns\n",
    "    -------\n",
    "    int\n",
    "    \n",
    "    \"\"\"\n",
    "        \n",
    "    quantity = np.random.geometric(p=1.0-(1.0/price), size=1)[0]\n",
    "    return quantity"
   ]
  },
  {
   "cell_type": "code",
   "execution_count": 21,
   "metadata": {},
   "outputs": [],
   "source": [
    "def choose_shoe(order_id, gender, date, address, same_size=False):\n",
    "    \"\"\"\n",
    "    Chooses the shoe that's being sold and creates a list of all the information of that order.\n",
    "    \n",
    "    Every item in the list corresponds to a column in the dataframe.\n",
    "    This list can be used to create a row in the dataframe.\n",
    "    \n",
    "    Parameters\n",
    "    ----------\n",
    "    order_id: int\n",
    "    gender: str\n",
    "        'F' or 'M'\n",
    "    date: str\n",
    "    address: str\n",
    "    same_size: bool\n",
    "        default False\n",
    "            \n",
    "    Returns\n",
    "    -------\n",
    "    list    \n",
    "    \n",
    "    \"\"\"\n",
    "    \n",
    "    global i\n",
    "    category = 'Shoes'\n",
    "    \n",
    "    if same_size == False:\n",
    "        if gender == 'F':\n",
    "            season_weights = cal_season_weights(womens_shoes, month)\n",
    "            shoe = random.choices(womens_shoe_list, weights=season_weights)[0]\n",
    "            price = womens_shoes[shoe][0]\n",
    "            size = random.choices(sizes_list, weights=womens_size_weights)[0]\n",
    "            color = choose_color(womens_color_weights)\n",
    "        else:\n",
    "            season_weights = cal_season_weights(mens_shoes, month)\n",
    "            shoe = random.choices(mens_shoe_list, weights=season_weights)[0]\n",
    "            price = mens_shoes[shoe][0]\n",
    "            size = random.choices(sizes_list, weights=mens_size_weights)[0]\n",
    "            color = choose_color(mens_color_weights)\n",
    "    else:\n",
    "        if gender == 'F':\n",
    "            season_weights = cal_season_weights(womens_shoes, month)\n",
    "            shoe = random.choices(womens_shoe_list, weights=season_weights)[0]\n",
    "            price = womens_shoes[shoe][0]\n",
    "            size = df.at[i, 'Size']\n",
    "            color = choose_color(womens_color_weights)\n",
    "        else:\n",
    "            season_weights = cal_season_weights(mens_shoes, month)\n",
    "            shoe = random.choices(mens_shoe_list, weights=season_weights)[0]\n",
    "            price = mens_shoes[shoe][0]\n",
    "            size = df.at[i, 'Size']\n",
    "            color = choose_color(mens_color_weights)\n",
    "    \n",
    "    quantity = quantity_ordered(price)\n",
    "    \n",
    "    i+=1\n",
    "    \n",
    "    global revenue\n",
    "    revenue -= price\n",
    "  \n",
    "    return [order_id, category, gender, shoe, size, color, quantity, price, date, address]"
   ]
  },
  {
   "cell_type": "code",
   "execution_count": 22,
   "metadata": {},
   "outputs": [],
   "source": [
    "def same_shoe_diff_size():\n",
    "    \"\"\"\n",
    "    Creates a duplicate of the previous row, but changes the size.\n",
    "    \n",
    "    Returns\n",
    "    -------\n",
    "    list\n",
    "    \n",
    "    \"\"\"\n",
    "    \n",
    "    global i\n",
    "    \n",
    "    previous_row = df.loc[i, :].tolist()\n",
    "    size = previous_row[4]\n",
    "    \n",
    "    if size == 35.0 or size == 47.0:\n",
    "        new_size = size+1\n",
    "    else:\n",
    "        new_size = random.choice([size-1, size+1])\n",
    "        \n",
    "    previous_row[4] = new_size\n",
    "    \n",
    "    i+=1\n",
    "    \n",
    "    return previous_row"
   ]
  },
  {
   "cell_type": "code",
   "execution_count": 23,
   "metadata": {},
   "outputs": [],
   "source": [
    "def choose_bag(order_id, gender, date, address, matching_color=False):\n",
    "    \"\"\"\n",
    "    Chooses the bag that's being sold and creates a list of all the information of that order.\n",
    "    \n",
    "    Every item in the list corresponds to a column in the dataframe.\n",
    "    This list can be used to create a row in the dataframe.\n",
    "    \n",
    "    Parameters\n",
    "    ----------\n",
    "    order_id: int\n",
    "    gender: str\n",
    "        'F' or 'M'\n",
    "    date: str\n",
    "    address: str\n",
    "    matching_color: bool\n",
    "        default False\n",
    "    \n",
    "    Returns\n",
    "    -------\n",
    "    list\n",
    "    \"\"\"\n",
    "    \n",
    "    category = 'Bags'\n",
    "    if gender == 'F':\n",
    "        gender_color_weights = womens_color_weights\n",
    "        gender_bag_weights = womens_bag_weights\n",
    "    else:\n",
    "        gender_color_weights = mens_color_weights\n",
    "        gender_bag_weights = mens_bag_weights\n",
    "        \n",
    "    color = choose_color(gender_color_weights, matching_color)\n",
    "        \n",
    "    bag = random.choices(bags_list, weights=gender_bag_weights)[0]\n",
    "    price = bags[bag][0]\n",
    "    quantity = quantity_ordered(price)\n",
    "    \n",
    "    global i\n",
    "    i+=1\n",
    "    \n",
    "    global revenue\n",
    "    revenue -= price\n",
    "    \n",
    "    return [order_id, category, gender, bag, 'NA', color, quantity, price, date, address]"
   ]
  },
  {
   "cell_type": "code",
   "execution_count": 24,
   "metadata": {},
   "outputs": [],
   "source": [
    "def choose_accessory(order_id, gender, date, address):\n",
    "    \"\"\"\n",
    "    Chooses the accessory that's being sold and creates a list of all the information of that order.\n",
    "    \n",
    "    Every item in the list corresponds to a column in the dataframe.\n",
    "    This list can be used to create a row in the dataframe.\n",
    "    \n",
    "    Parameters\n",
    "    ----------\n",
    "    order_id: int\n",
    "    gender: str\n",
    "        'F' or 'M'\n",
    "    date: str\n",
    "    address: str\n",
    "    \n",
    "    Returns\n",
    "    -------\n",
    "    list\n",
    "        \n",
    "    \"\"\"\n",
    "    \n",
    "    category = 'Accessories'\n",
    "    season_weights = cal_season_weights(accessories, month)\n",
    "    accessory = random.choices(accessories_list, weights=season_weights)[0]\n",
    "    \n",
    "    if accessory == 'Shoe care':\n",
    "        gender = 'NA'\n",
    "        color = 'NA'\n",
    "    elif gender == 'M' and accessory == 'Belt':\n",
    "        color = choose_color(mens_color_weights, matching_color=True)\n",
    "        if color == 'NA':\n",
    "            color = choose_color(mens_color_weights)\n",
    "    elif gender == 'M':\n",
    "        color = choose_color(mens_color_weights)\n",
    "    else:\n",
    "        color = choose_color(womens_color_weights) \n",
    "    \n",
    "    price = accessories[accessory][0]\n",
    "    quantity = quantity_ordered(price)\n",
    "    \n",
    "    global i\n",
    "    i+=1\n",
    "    \n",
    "    global revenue\n",
    "    revenue -= price\n",
    "    \n",
    "    return [order_id, category, gender, accessory, 'NA', color, quantity, price, date, address]"
   ]
  },
  {
   "cell_type": "markdown",
   "metadata": {},
   "source": [
    "### Creating the dataset"
   ]
  },
  {
   "cell_type": "code",
   "execution_count": 25,
   "metadata": {
    "scrolled": true
   },
   "outputs": [
    {
     "name": "stdout",
     "output_type": "stream",
     "text": [
      "jan Finished!\n",
      "feb Finished!\n",
      "mar Finished!\n",
      "apr Finished!\n",
      "may Finished!\n",
      "jun Finished!\n",
      "jul Finished!\n",
      "aug Finished!\n",
      "sep Finished!\n",
      "oct Finished!\n",
      "nov Finished!\n",
      "dec Finished!\n"
     ]
    }
   ],
   "source": [
    "for month, sales in sales_month.items(): \n",
    "    df = pd.DataFrame(columns=columns) \n",
    "    revenue = sales \n",
    "    while revenue > 0: \n",
    "        address = generate_random_address() \n",
    "        date = generate_random_date(month) \n",
    "        \n",
    "        percentage = random.random() \n",
    "        \n",
    "        if percentage < 0.15: \n",
    "            df.loc[i] = choose_accessory(order_id, random.choice(['F', 'M']), date, address)            \n",
    "        \n",
    "        elif percentage > 0.15 and percentage < 0.3: \n",
    "            df.loc[i] = choose_bag(order_id, random.choice(['F', 'M']), date, address)\n",
    "            if random.random() < 0.1: \n",
    "                gender = df.at[i, 'Gender']\n",
    "                df.loc[i] = choose_accessory(order_id, gender, date, address)\n",
    "                \n",
    "        elif percentage > 0.3 and percentage < 0.55:\n",
    "            df.loc[i] = choose_shoe(order_id, 'M', date, address)\n",
    "            if random.random() < 0.2:\n",
    "                df.loc[i] = choose_shoe(order_id, 'M', date, address, same_size=True)\n",
    "            elif random.random() < 0.1: \n",
    "                df.loc[i] = same_shoe_diff_size()\n",
    "            elif random.random() < 0.1: \n",
    "                df.loc[i] = choose_bag(order_id, 'M', date, address, matching_color=True)\n",
    "            elif random.random() < 0.1:\n",
    "                df.loc[i] = choose_accessory(order_id, 'M', date, address)\n",
    "            \n",
    "        else:\n",
    "            df.loc[i] = choose_shoe(order_id, 'F', date, address)\n",
    "            if random.random() < 0.2:\n",
    "                df.loc[i] = choose_shoe(order_id, 'F', date, address, same_size=True)\n",
    "            elif random.random() < 0.1:\n",
    "                df.loc[i] = same_shoe_diff_size()\n",
    "            elif random.random() < 0.2:\n",
    "                df.loc[i] = choose_bag(order_id, 'F', date, address, matching_color=True)\n",
    "            elif random.random() < 0.1:\n",
    "                df.loc[i] = choose_accessory(order_id, 'F', date, address)\n",
    "                    \n",
    "        order_id += 1\n",
    "            \n",
    "    df.to_csv(f'sales_{month}_2019.csv', index=False)\n",
    "    print(f'{month} Finished!')"
   ]
  },
  {
   "cell_type": "code",
   "execution_count": null,
   "metadata": {},
   "outputs": [],
   "source": []
  }
 ],
 "metadata": {
  "kernelspec": {
   "display_name": "Python 3",
   "language": "python",
   "name": "python3"
  },
  "language_info": {
   "codemirror_mode": {
    "name": "ipython",
    "version": 3
   },
   "file_extension": ".py",
   "mimetype": "text/x-python",
   "name": "python",
   "nbconvert_exporter": "python",
   "pygments_lexer": "ipython3",
   "version": "3.8.0"
  }
 },
 "nbformat": 4,
 "nbformat_minor": 4
}
